{
  "nbformat": 4,
  "nbformat_minor": 0,
  "metadata": {
    "colab": {
      "provenance": [],
      "authorship_tag": "ABX9TyO1XnsRLCaRnwjogT1wDT+P",
      "include_colab_link": true
    },
    "kernelspec": {
      "name": "python3",
      "display_name": "Python 3"
    },
    "language_info": {
      "name": "python"
    }
  },
  "cells": [
    {
      "cell_type": "markdown",
      "metadata": {
        "id": "view-in-github",
        "colab_type": "text"
      },
      "source": [
        "<a href=\"https://colab.research.google.com/github/Variant25/MovieRecommendationSystem/blob/main/MovieRecommendationSystem.ipynb\" target=\"_parent\"><img src=\"https://colab.research.google.com/assets/colab-badge.svg\" alt=\"Open In Colab\"/></a>"
      ]
    },
    {
      "cell_type": "markdown",
      "source": [
        "# **Movie Recommendation System**"
      ],
      "metadata": {
        "id": "LoykX7K701TS"
      }
    },
    {
      "cell_type": "markdown",
      "source": [
        " Movie Recommendation System considers factors like Genre, Language, Director Keywords, Cast to provide tailored movie suggestions, enhancing the viewing experience and promoting film discovery.\n",
        "\n"
      ],
      "metadata": {
        "id": "xA9RuYxF1W0G"
      }
    },
    {
      "cell_type": "markdown",
      "source": [
        "**Data Source: 'https://github.com/YBI-Foundation/Dataset/raw/main/Movies%20Recommendation.csv**"
      ],
      "metadata": {
        "id": "5ZuTsnrqbjZC"
      }
    },
    {
      "cell_type": "code",
      "source": [
        "import pandas as pd"
      ],
      "metadata": {
        "id": "RQRjVplx1B6X"
      },
      "execution_count": 1,
      "outputs": []
    },
    {
      "cell_type": "code",
      "source": [
        "movie = pd.read_csv('https://github.com/YBI-Foundation/Dataset/raw/main/Movies%20Recommendation.csv')"
      ],
      "metadata": {
        "id": "imk3I7fn5Q3i"
      },
      "execution_count": 3,
      "outputs": []
    },
    {
      "cell_type": "code",
      "source": [
        "movie.head()"
      ],
      "metadata": {
        "colab": {
          "base_uri": "https://localhost:8080/",
          "height": 672
        },
        "id": "MaIIEc_A5RAp",
        "outputId": "0e42513d-5ab6-49ab-b122-3ec2bb926a79"
      },
      "execution_count": 4,
      "outputs": [
        {
          "output_type": "execute_result",
          "data": {
            "text/plain": [
              "   Movie_ID      Movie_Title                       Movie_Genre Movie_Language  \\\n",
              "0         1       Four Rooms                      Crime Comedy             en   \n",
              "1         2        Star Wars  Adventure Action Science Fiction             en   \n",
              "2         3     Finding Nemo                  Animation Family             en   \n",
              "3         4     Forrest Gump              Comedy Drama Romance             en   \n",
              "4         5  American Beauty                             Drama             en   \n",
              "\n",
              "   Movie_Budget  Movie_Popularity Movie_Release_Date  Movie_Revenue  \\\n",
              "0       4000000         22.876230         09-12-1995        4300000   \n",
              "1      11000000        126.393695         25-05-1977      775398007   \n",
              "2      94000000         85.688789         30-05-2003      940335536   \n",
              "3      55000000        138.133331         06-07-1994      677945399   \n",
              "4      15000000         80.878605         15-09-1999      356296601   \n",
              "\n",
              "   Movie_Runtime  Movie_Vote  ...  \\\n",
              "0           98.0         6.5  ...   \n",
              "1          121.0         8.1  ...   \n",
              "2          100.0         7.6  ...   \n",
              "3          142.0         8.2  ...   \n",
              "4          122.0         7.9  ...   \n",
              "\n",
              "                                      Movie_Homepage  \\\n",
              "0                                                NaN   \n",
              "1  http://www.starwars.com/films/star-wars-episod...   \n",
              "2              http://movies.disney.com/finding-nemo   \n",
              "3                                                NaN   \n",
              "4                      http://www.dreamworks.com/ab/   \n",
              "\n",
              "                                      Movie_Keywords  \\\n",
              "0          hotel new year's eve witch bet hotel room   \n",
              "1        android galaxy hermit death star lightsaber   \n",
              "2  father son relationship harbor underwater fish...   \n",
              "3  vietnam veteran hippie mentally disabled runni...   \n",
              "4  male nudity female nudity adultery midlife cri...   \n",
              "\n",
              "                                      Movie_Overview  \\\n",
              "0  It's Ted the Bellhop's first night on the job....   \n",
              "1  Princess Leia is captured and held hostage by ...   \n",
              "2  Nemo, an adventurous young clownfish, is unexp...   \n",
              "3  A man with a low IQ has accomplished great thi...   \n",
              "4  Lester Burnham, a depressed suburban father in...   \n",
              "\n",
              "                              Movie_Production_House  \\\n",
              "0  [{\"name\": \"Miramax Films\", \"id\": 14}, {\"name\":...   \n",
              "1  [{\"name\": \"Lucasfilm\", \"id\": 1}, {\"name\": \"Twe...   \n",
              "2     [{\"name\": \"Pixar Animation Studios\", \"id\": 3}]   \n",
              "3          [{\"name\": \"Paramount Pictures\", \"id\": 4}]   \n",
              "4  [{\"name\": \"DreamWorks SKG\", \"id\": 27}, {\"name\"...   \n",
              "\n",
              "                            Movie_Production_Country  \\\n",
              "0  [{\"iso_3166_1\": \"US\", \"name\": \"United States o...   \n",
              "1  [{\"iso_3166_1\": \"US\", \"name\": \"United States o...   \n",
              "2  [{\"iso_3166_1\": \"US\", \"name\": \"United States o...   \n",
              "3  [{\"iso_3166_1\": \"US\", \"name\": \"United States o...   \n",
              "4  [{\"iso_3166_1\": \"US\", \"name\": \"United States o...   \n",
              "\n",
              "                      Movie_Spoken_Language  \\\n",
              "0  [{\"iso_639_1\": \"en\", \"name\": \"English\"}]   \n",
              "1  [{\"iso_639_1\": \"en\", \"name\": \"English\"}]   \n",
              "2  [{\"iso_639_1\": \"en\", \"name\": \"English\"}]   \n",
              "3  [{\"iso_639_1\": \"en\", \"name\": \"English\"}]   \n",
              "4  [{\"iso_639_1\": \"en\", \"name\": \"English\"}]   \n",
              "\n",
              "                                       Movie_Tagline  \\\n",
              "0  Twelve outrageous guests. Four scandalous requ...   \n",
              "1       A long time ago in a galaxy far, far away...   \n",
              "2  There are 3.7 trillion fish in the ocean, they...   \n",
              "3  The world will never be the same, once you've ...   \n",
              "4                                       Look closer.   \n",
              "\n",
              "                                          Movie_Cast  \\\n",
              "0  Tim Roth Antonio Banderas Jennifer Beals Madon...   \n",
              "1  Mark Hamill Harrison Ford Carrie Fisher Peter ...   \n",
              "2  Albert Brooks Ellen DeGeneres Alexander Gould ...   \n",
              "3  Tom Hanks Robin Wright Gary Sinise Mykelti Wil...   \n",
              "4  Kevin Spacey Annette Bening Thora Birch Wes Be...   \n",
              "\n",
              "                                          Movie_Crew   Movie_Director  \n",
              "0  [{'name': 'Allison Anders', 'gender': 1, 'depa...   Allison Anders  \n",
              "1  [{'name': 'George Lucas', 'gender': 2, 'depart...     George Lucas  \n",
              "2  [{'name': 'Andrew Stanton', 'gender': 2, 'depa...   Andrew Stanton  \n",
              "3  [{'name': 'Alan Silvestri', 'gender': 2, 'depa...  Robert Zemeckis  \n",
              "4  [{'name': 'Thomas Newman', 'gender': 2, 'depar...       Sam Mendes  \n",
              "\n",
              "[5 rows x 21 columns]"
            ],
            "text/html": [
              "\n",
              "  <div id=\"df-fd33f4e7-ab3a-4324-a7dc-e3060a63871e\" class=\"colab-df-container\">\n",
              "    <div>\n",
              "<style scoped>\n",
              "    .dataframe tbody tr th:only-of-type {\n",
              "        vertical-align: middle;\n",
              "    }\n",
              "\n",
              "    .dataframe tbody tr th {\n",
              "        vertical-align: top;\n",
              "    }\n",
              "\n",
              "    .dataframe thead th {\n",
              "        text-align: right;\n",
              "    }\n",
              "</style>\n",
              "<table border=\"1\" class=\"dataframe\">\n",
              "  <thead>\n",
              "    <tr style=\"text-align: right;\">\n",
              "      <th></th>\n",
              "      <th>Movie_ID</th>\n",
              "      <th>Movie_Title</th>\n",
              "      <th>Movie_Genre</th>\n",
              "      <th>Movie_Language</th>\n",
              "      <th>Movie_Budget</th>\n",
              "      <th>Movie_Popularity</th>\n",
              "      <th>Movie_Release_Date</th>\n",
              "      <th>Movie_Revenue</th>\n",
              "      <th>Movie_Runtime</th>\n",
              "      <th>Movie_Vote</th>\n",
              "      <th>...</th>\n",
              "      <th>Movie_Homepage</th>\n",
              "      <th>Movie_Keywords</th>\n",
              "      <th>Movie_Overview</th>\n",
              "      <th>Movie_Production_House</th>\n",
              "      <th>Movie_Production_Country</th>\n",
              "      <th>Movie_Spoken_Language</th>\n",
              "      <th>Movie_Tagline</th>\n",
              "      <th>Movie_Cast</th>\n",
              "      <th>Movie_Crew</th>\n",
              "      <th>Movie_Director</th>\n",
              "    </tr>\n",
              "  </thead>\n",
              "  <tbody>\n",
              "    <tr>\n",
              "      <th>0</th>\n",
              "      <td>1</td>\n",
              "      <td>Four Rooms</td>\n",
              "      <td>Crime Comedy</td>\n",
              "      <td>en</td>\n",
              "      <td>4000000</td>\n",
              "      <td>22.876230</td>\n",
              "      <td>09-12-1995</td>\n",
              "      <td>4300000</td>\n",
              "      <td>98.0</td>\n",
              "      <td>6.5</td>\n",
              "      <td>...</td>\n",
              "      <td>NaN</td>\n",
              "      <td>hotel new year's eve witch bet hotel room</td>\n",
              "      <td>It's Ted the Bellhop's first night on the job....</td>\n",
              "      <td>[{\"name\": \"Miramax Films\", \"id\": 14}, {\"name\":...</td>\n",
              "      <td>[{\"iso_3166_1\": \"US\", \"name\": \"United States o...</td>\n",
              "      <td>[{\"iso_639_1\": \"en\", \"name\": \"English\"}]</td>\n",
              "      <td>Twelve outrageous guests. Four scandalous requ...</td>\n",
              "      <td>Tim Roth Antonio Banderas Jennifer Beals Madon...</td>\n",
              "      <td>[{'name': 'Allison Anders', 'gender': 1, 'depa...</td>\n",
              "      <td>Allison Anders</td>\n",
              "    </tr>\n",
              "    <tr>\n",
              "      <th>1</th>\n",
              "      <td>2</td>\n",
              "      <td>Star Wars</td>\n",
              "      <td>Adventure Action Science Fiction</td>\n",
              "      <td>en</td>\n",
              "      <td>11000000</td>\n",
              "      <td>126.393695</td>\n",
              "      <td>25-05-1977</td>\n",
              "      <td>775398007</td>\n",
              "      <td>121.0</td>\n",
              "      <td>8.1</td>\n",
              "      <td>...</td>\n",
              "      <td>http://www.starwars.com/films/star-wars-episod...</td>\n",
              "      <td>android galaxy hermit death star lightsaber</td>\n",
              "      <td>Princess Leia is captured and held hostage by ...</td>\n",
              "      <td>[{\"name\": \"Lucasfilm\", \"id\": 1}, {\"name\": \"Twe...</td>\n",
              "      <td>[{\"iso_3166_1\": \"US\", \"name\": \"United States o...</td>\n",
              "      <td>[{\"iso_639_1\": \"en\", \"name\": \"English\"}]</td>\n",
              "      <td>A long time ago in a galaxy far, far away...</td>\n",
              "      <td>Mark Hamill Harrison Ford Carrie Fisher Peter ...</td>\n",
              "      <td>[{'name': 'George Lucas', 'gender': 2, 'depart...</td>\n",
              "      <td>George Lucas</td>\n",
              "    </tr>\n",
              "    <tr>\n",
              "      <th>2</th>\n",
              "      <td>3</td>\n",
              "      <td>Finding Nemo</td>\n",
              "      <td>Animation Family</td>\n",
              "      <td>en</td>\n",
              "      <td>94000000</td>\n",
              "      <td>85.688789</td>\n",
              "      <td>30-05-2003</td>\n",
              "      <td>940335536</td>\n",
              "      <td>100.0</td>\n",
              "      <td>7.6</td>\n",
              "      <td>...</td>\n",
              "      <td>http://movies.disney.com/finding-nemo</td>\n",
              "      <td>father son relationship harbor underwater fish...</td>\n",
              "      <td>Nemo, an adventurous young clownfish, is unexp...</td>\n",
              "      <td>[{\"name\": \"Pixar Animation Studios\", \"id\": 3}]</td>\n",
              "      <td>[{\"iso_3166_1\": \"US\", \"name\": \"United States o...</td>\n",
              "      <td>[{\"iso_639_1\": \"en\", \"name\": \"English\"}]</td>\n",
              "      <td>There are 3.7 trillion fish in the ocean, they...</td>\n",
              "      <td>Albert Brooks Ellen DeGeneres Alexander Gould ...</td>\n",
              "      <td>[{'name': 'Andrew Stanton', 'gender': 2, 'depa...</td>\n",
              "      <td>Andrew Stanton</td>\n",
              "    </tr>\n",
              "    <tr>\n",
              "      <th>3</th>\n",
              "      <td>4</td>\n",
              "      <td>Forrest Gump</td>\n",
              "      <td>Comedy Drama Romance</td>\n",
              "      <td>en</td>\n",
              "      <td>55000000</td>\n",
              "      <td>138.133331</td>\n",
              "      <td>06-07-1994</td>\n",
              "      <td>677945399</td>\n",
              "      <td>142.0</td>\n",
              "      <td>8.2</td>\n",
              "      <td>...</td>\n",
              "      <td>NaN</td>\n",
              "      <td>vietnam veteran hippie mentally disabled runni...</td>\n",
              "      <td>A man with a low IQ has accomplished great thi...</td>\n",
              "      <td>[{\"name\": \"Paramount Pictures\", \"id\": 4}]</td>\n",
              "      <td>[{\"iso_3166_1\": \"US\", \"name\": \"United States o...</td>\n",
              "      <td>[{\"iso_639_1\": \"en\", \"name\": \"English\"}]</td>\n",
              "      <td>The world will never be the same, once you've ...</td>\n",
              "      <td>Tom Hanks Robin Wright Gary Sinise Mykelti Wil...</td>\n",
              "      <td>[{'name': 'Alan Silvestri', 'gender': 2, 'depa...</td>\n",
              "      <td>Robert Zemeckis</td>\n",
              "    </tr>\n",
              "    <tr>\n",
              "      <th>4</th>\n",
              "      <td>5</td>\n",
              "      <td>American Beauty</td>\n",
              "      <td>Drama</td>\n",
              "      <td>en</td>\n",
              "      <td>15000000</td>\n",
              "      <td>80.878605</td>\n",
              "      <td>15-09-1999</td>\n",
              "      <td>356296601</td>\n",
              "      <td>122.0</td>\n",
              "      <td>7.9</td>\n",
              "      <td>...</td>\n",
              "      <td>http://www.dreamworks.com/ab/</td>\n",
              "      <td>male nudity female nudity adultery midlife cri...</td>\n",
              "      <td>Lester Burnham, a depressed suburban father in...</td>\n",
              "      <td>[{\"name\": \"DreamWorks SKG\", \"id\": 27}, {\"name\"...</td>\n",
              "      <td>[{\"iso_3166_1\": \"US\", \"name\": \"United States o...</td>\n",
              "      <td>[{\"iso_639_1\": \"en\", \"name\": \"English\"}]</td>\n",
              "      <td>Look closer.</td>\n",
              "      <td>Kevin Spacey Annette Bening Thora Birch Wes Be...</td>\n",
              "      <td>[{'name': 'Thomas Newman', 'gender': 2, 'depar...</td>\n",
              "      <td>Sam Mendes</td>\n",
              "    </tr>\n",
              "  </tbody>\n",
              "</table>\n",
              "<p>5 rows × 21 columns</p>\n",
              "</div>\n",
              "    <div class=\"colab-df-buttons\">\n",
              "\n",
              "  <div class=\"colab-df-container\">\n",
              "    <button class=\"colab-df-convert\" onclick=\"convertToInteractive('df-fd33f4e7-ab3a-4324-a7dc-e3060a63871e')\"\n",
              "            title=\"Convert this dataframe to an interactive table.\"\n",
              "            style=\"display:none;\">\n",
              "\n",
              "  <svg xmlns=\"http://www.w3.org/2000/svg\" height=\"24px\" viewBox=\"0 -960 960 960\">\n",
              "    <path d=\"M120-120v-720h720v720H120Zm60-500h600v-160H180v160Zm220 220h160v-160H400v160Zm0 220h160v-160H400v160ZM180-400h160v-160H180v160Zm440 0h160v-160H620v160ZM180-180h160v-160H180v160Zm440 0h160v-160H620v160Z\"/>\n",
              "  </svg>\n",
              "    </button>\n",
              "\n",
              "  <style>\n",
              "    .colab-df-container {\n",
              "      display:flex;\n",
              "      gap: 12px;\n",
              "    }\n",
              "\n",
              "    .colab-df-convert {\n",
              "      background-color: #E8F0FE;\n",
              "      border: none;\n",
              "      border-radius: 50%;\n",
              "      cursor: pointer;\n",
              "      display: none;\n",
              "      fill: #1967D2;\n",
              "      height: 32px;\n",
              "      padding: 0 0 0 0;\n",
              "      width: 32px;\n",
              "    }\n",
              "\n",
              "    .colab-df-convert:hover {\n",
              "      background-color: #E2EBFA;\n",
              "      box-shadow: 0px 1px 2px rgba(60, 64, 67, 0.3), 0px 1px 3px 1px rgba(60, 64, 67, 0.15);\n",
              "      fill: #174EA6;\n",
              "    }\n",
              "\n",
              "    .colab-df-buttons div {\n",
              "      margin-bottom: 4px;\n",
              "    }\n",
              "\n",
              "    [theme=dark] .colab-df-convert {\n",
              "      background-color: #3B4455;\n",
              "      fill: #D2E3FC;\n",
              "    }\n",
              "\n",
              "    [theme=dark] .colab-df-convert:hover {\n",
              "      background-color: #434B5C;\n",
              "      box-shadow: 0px 1px 3px 1px rgba(0, 0, 0, 0.15);\n",
              "      filter: drop-shadow(0px 1px 2px rgba(0, 0, 0, 0.3));\n",
              "      fill: #FFFFFF;\n",
              "    }\n",
              "  </style>\n",
              "\n",
              "    <script>\n",
              "      const buttonEl =\n",
              "        document.querySelector('#df-fd33f4e7-ab3a-4324-a7dc-e3060a63871e button.colab-df-convert');\n",
              "      buttonEl.style.display =\n",
              "        google.colab.kernel.accessAllowed ? 'block' : 'none';\n",
              "\n",
              "      async function convertToInteractive(key) {\n",
              "        const element = document.querySelector('#df-fd33f4e7-ab3a-4324-a7dc-e3060a63871e');\n",
              "        const dataTable =\n",
              "          await google.colab.kernel.invokeFunction('convertToInteractive',\n",
              "                                                    [key], {});\n",
              "        if (!dataTable) return;\n",
              "\n",
              "        const docLinkHtml = 'Like what you see? Visit the ' +\n",
              "          '<a target=\"_blank\" href=https://colab.research.google.com/notebooks/data_table.ipynb>data table notebook</a>'\n",
              "          + ' to learn more about interactive tables.';\n",
              "        element.innerHTML = '';\n",
              "        dataTable['output_type'] = 'display_data';\n",
              "        await google.colab.output.renderOutput(dataTable, element);\n",
              "        const docLink = document.createElement('div');\n",
              "        docLink.innerHTML = docLinkHtml;\n",
              "        element.appendChild(docLink);\n",
              "      }\n",
              "    </script>\n",
              "  </div>\n",
              "\n",
              "\n",
              "<div id=\"df-d321cba9-7442-4a5b-8c4a-a210aac59c91\">\n",
              "  <button class=\"colab-df-quickchart\" onclick=\"quickchart('df-d321cba9-7442-4a5b-8c4a-a210aac59c91')\"\n",
              "            title=\"Suggest charts.\"\n",
              "            style=\"display:none;\">\n",
              "\n",
              "<svg xmlns=\"http://www.w3.org/2000/svg\" height=\"24px\"viewBox=\"0 0 24 24\"\n",
              "     width=\"24px\">\n",
              "    <g>\n",
              "        <path d=\"M19 3H5c-1.1 0-2 .9-2 2v14c0 1.1.9 2 2 2h14c1.1 0 2-.9 2-2V5c0-1.1-.9-2-2-2zM9 17H7v-7h2v7zm4 0h-2V7h2v10zm4 0h-2v-4h2v4z\"/>\n",
              "    </g>\n",
              "</svg>\n",
              "  </button>\n",
              "\n",
              "<style>\n",
              "  .colab-df-quickchart {\n",
              "      --bg-color: #E8F0FE;\n",
              "      --fill-color: #1967D2;\n",
              "      --hover-bg-color: #E2EBFA;\n",
              "      --hover-fill-color: #174EA6;\n",
              "      --disabled-fill-color: #AAA;\n",
              "      --disabled-bg-color: #DDD;\n",
              "  }\n",
              "\n",
              "  [theme=dark] .colab-df-quickchart {\n",
              "      --bg-color: #3B4455;\n",
              "      --fill-color: #D2E3FC;\n",
              "      --hover-bg-color: #434B5C;\n",
              "      --hover-fill-color: #FFFFFF;\n",
              "      --disabled-bg-color: #3B4455;\n",
              "      --disabled-fill-color: #666;\n",
              "  }\n",
              "\n",
              "  .colab-df-quickchart {\n",
              "    background-color: var(--bg-color);\n",
              "    border: none;\n",
              "    border-radius: 50%;\n",
              "    cursor: pointer;\n",
              "    display: none;\n",
              "    fill: var(--fill-color);\n",
              "    height: 32px;\n",
              "    padding: 0;\n",
              "    width: 32px;\n",
              "  }\n",
              "\n",
              "  .colab-df-quickchart:hover {\n",
              "    background-color: var(--hover-bg-color);\n",
              "    box-shadow: 0 1px 2px rgba(60, 64, 67, 0.3), 0 1px 3px 1px rgba(60, 64, 67, 0.15);\n",
              "    fill: var(--button-hover-fill-color);\n",
              "  }\n",
              "\n",
              "  .colab-df-quickchart-complete:disabled,\n",
              "  .colab-df-quickchart-complete:disabled:hover {\n",
              "    background-color: var(--disabled-bg-color);\n",
              "    fill: var(--disabled-fill-color);\n",
              "    box-shadow: none;\n",
              "  }\n",
              "\n",
              "  .colab-df-spinner {\n",
              "    border: 2px solid var(--fill-color);\n",
              "    border-color: transparent;\n",
              "    border-bottom-color: var(--fill-color);\n",
              "    animation:\n",
              "      spin 1s steps(1) infinite;\n",
              "  }\n",
              "\n",
              "  @keyframes spin {\n",
              "    0% {\n",
              "      border-color: transparent;\n",
              "      border-bottom-color: var(--fill-color);\n",
              "      border-left-color: var(--fill-color);\n",
              "    }\n",
              "    20% {\n",
              "      border-color: transparent;\n",
              "      border-left-color: var(--fill-color);\n",
              "      border-top-color: var(--fill-color);\n",
              "    }\n",
              "    30% {\n",
              "      border-color: transparent;\n",
              "      border-left-color: var(--fill-color);\n",
              "      border-top-color: var(--fill-color);\n",
              "      border-right-color: var(--fill-color);\n",
              "    }\n",
              "    40% {\n",
              "      border-color: transparent;\n",
              "      border-right-color: var(--fill-color);\n",
              "      border-top-color: var(--fill-color);\n",
              "    }\n",
              "    60% {\n",
              "      border-color: transparent;\n",
              "      border-right-color: var(--fill-color);\n",
              "    }\n",
              "    80% {\n",
              "      border-color: transparent;\n",
              "      border-right-color: var(--fill-color);\n",
              "      border-bottom-color: var(--fill-color);\n",
              "    }\n",
              "    90% {\n",
              "      border-color: transparent;\n",
              "      border-bottom-color: var(--fill-color);\n",
              "    }\n",
              "  }\n",
              "</style>\n",
              "\n",
              "  <script>\n",
              "    async function quickchart(key) {\n",
              "      const quickchartButtonEl =\n",
              "        document.querySelector('#' + key + ' button');\n",
              "      quickchartButtonEl.disabled = true;  // To prevent multiple clicks.\n",
              "      quickchartButtonEl.classList.add('colab-df-spinner');\n",
              "      try {\n",
              "        const charts = await google.colab.kernel.invokeFunction(\n",
              "            'suggestCharts', [key], {});\n",
              "      } catch (error) {\n",
              "        console.error('Error during call to suggestCharts:', error);\n",
              "      }\n",
              "      quickchartButtonEl.classList.remove('colab-df-spinner');\n",
              "      quickchartButtonEl.classList.add('colab-df-quickchart-complete');\n",
              "    }\n",
              "    (() => {\n",
              "      let quickchartButtonEl =\n",
              "        document.querySelector('#df-d321cba9-7442-4a5b-8c4a-a210aac59c91 button');\n",
              "      quickchartButtonEl.style.display =\n",
              "        google.colab.kernel.accessAllowed ? 'block' : 'none';\n",
              "    })();\n",
              "  </script>\n",
              "</div>\n",
              "    </div>\n",
              "  </div>\n"
            ]
          },
          "metadata": {},
          "execution_count": 4
        }
      ]
    },
    {
      "cell_type": "code",
      "source": [
        "movie.info()"
      ],
      "metadata": {
        "colab": {
          "base_uri": "https://localhost:8080/"
        },
        "id": "3KXa1yLR5RD0",
        "outputId": "53a905d8-633f-4229-a723-ce2d2a38a055"
      },
      "execution_count": 5,
      "outputs": [
        {
          "output_type": "stream",
          "name": "stdout",
          "text": [
            "<class 'pandas.core.frame.DataFrame'>\n",
            "RangeIndex: 4760 entries, 0 to 4759\n",
            "Data columns (total 21 columns):\n",
            " #   Column                    Non-Null Count  Dtype  \n",
            "---  ------                    --------------  -----  \n",
            " 0   Movie_ID                  4760 non-null   int64  \n",
            " 1   Movie_Title               4760 non-null   object \n",
            " 2   Movie_Genre               4760 non-null   object \n",
            " 3   Movie_Language            4760 non-null   object \n",
            " 4   Movie_Budget              4760 non-null   int64  \n",
            " 5   Movie_Popularity          4760 non-null   float64\n",
            " 6   Movie_Release_Date        4760 non-null   object \n",
            " 7   Movie_Revenue             4760 non-null   int64  \n",
            " 8   Movie_Runtime             4758 non-null   float64\n",
            " 9   Movie_Vote                4760 non-null   float64\n",
            " 10  Movie_Vote_Count          4760 non-null   int64  \n",
            " 11  Movie_Homepage            1699 non-null   object \n",
            " 12  Movie_Keywords            4373 non-null   object \n",
            " 13  Movie_Overview            4757 non-null   object \n",
            " 14  Movie_Production_House    4760 non-null   object \n",
            " 15  Movie_Production_Country  4760 non-null   object \n",
            " 16  Movie_Spoken_Language     4760 non-null   object \n",
            " 17  Movie_Tagline             3942 non-null   object \n",
            " 18  Movie_Cast                4733 non-null   object \n",
            " 19  Movie_Crew                4760 non-null   object \n",
            " 20  Movie_Director            4738 non-null   object \n",
            "dtypes: float64(3), int64(4), object(14)\n",
            "memory usage: 781.1+ KB\n"
          ]
        }
      ]
    },
    {
      "cell_type": "code",
      "source": [
        "movie.describe()"
      ],
      "metadata": {
        "colab": {
          "base_uri": "https://localhost:8080/",
          "height": 300
        },
        "id": "5ZpA5YkD5RGz",
        "outputId": "cf20aaf7-7832-4f6a-a0c2-b7ecfe1c38a8"
      },
      "execution_count": 6,
      "outputs": [
        {
          "output_type": "execute_result",
          "data": {
            "text/plain": [
              "          Movie_ID  Movie_Budget  Movie_Popularity  Movie_Revenue  \\\n",
              "count  4760.000000  4.760000e+03       4760.000000   4.760000e+03   \n",
              "mean   2382.566387  2.920129e+07         21.599510   8.263743e+07   \n",
              "std    1377.270159  4.075620e+07         31.887919   1.630554e+08   \n",
              "min       1.000000  0.000000e+00          0.000372   0.000000e+00   \n",
              "25%    1190.750000  9.257500e+05          4.807074   0.000000e+00   \n",
              "50%    2380.500000  1.500000e+07         13.119058   1.944716e+07   \n",
              "75%    3572.250000  4.000000e+07         28.411929   9.341276e+07   \n",
              "max    4788.000000  3.800000e+08        875.581305   2.787965e+09   \n",
              "\n",
              "       Movie_Runtime   Movie_Vote  Movie_Vote_Count  \n",
              "count    4758.000000  4760.000000       4760.000000  \n",
              "mean      107.184111     6.113866        692.508403  \n",
              "std        21.960332     1.141294       1235.007337  \n",
              "min         0.000000     0.000000          0.000000  \n",
              "25%        94.000000     5.600000         55.000000  \n",
              "50%       104.000000     6.200000        238.000000  \n",
              "75%       118.000000     6.800000        740.250000  \n",
              "max       338.000000    10.000000      13752.000000  "
            ],
            "text/html": [
              "\n",
              "  <div id=\"df-85296256-1701-479b-9ef3-17e1d0e3f905\" class=\"colab-df-container\">\n",
              "    <div>\n",
              "<style scoped>\n",
              "    .dataframe tbody tr th:only-of-type {\n",
              "        vertical-align: middle;\n",
              "    }\n",
              "\n",
              "    .dataframe tbody tr th {\n",
              "        vertical-align: top;\n",
              "    }\n",
              "\n",
              "    .dataframe thead th {\n",
              "        text-align: right;\n",
              "    }\n",
              "</style>\n",
              "<table border=\"1\" class=\"dataframe\">\n",
              "  <thead>\n",
              "    <tr style=\"text-align: right;\">\n",
              "      <th></th>\n",
              "      <th>Movie_ID</th>\n",
              "      <th>Movie_Budget</th>\n",
              "      <th>Movie_Popularity</th>\n",
              "      <th>Movie_Revenue</th>\n",
              "      <th>Movie_Runtime</th>\n",
              "      <th>Movie_Vote</th>\n",
              "      <th>Movie_Vote_Count</th>\n",
              "    </tr>\n",
              "  </thead>\n",
              "  <tbody>\n",
              "    <tr>\n",
              "      <th>count</th>\n",
              "      <td>4760.000000</td>\n",
              "      <td>4.760000e+03</td>\n",
              "      <td>4760.000000</td>\n",
              "      <td>4.760000e+03</td>\n",
              "      <td>4758.000000</td>\n",
              "      <td>4760.000000</td>\n",
              "      <td>4760.000000</td>\n",
              "    </tr>\n",
              "    <tr>\n",
              "      <th>mean</th>\n",
              "      <td>2382.566387</td>\n",
              "      <td>2.920129e+07</td>\n",
              "      <td>21.599510</td>\n",
              "      <td>8.263743e+07</td>\n",
              "      <td>107.184111</td>\n",
              "      <td>6.113866</td>\n",
              "      <td>692.508403</td>\n",
              "    </tr>\n",
              "    <tr>\n",
              "      <th>std</th>\n",
              "      <td>1377.270159</td>\n",
              "      <td>4.075620e+07</td>\n",
              "      <td>31.887919</td>\n",
              "      <td>1.630554e+08</td>\n",
              "      <td>21.960332</td>\n",
              "      <td>1.141294</td>\n",
              "      <td>1235.007337</td>\n",
              "    </tr>\n",
              "    <tr>\n",
              "      <th>min</th>\n",
              "      <td>1.000000</td>\n",
              "      <td>0.000000e+00</td>\n",
              "      <td>0.000372</td>\n",
              "      <td>0.000000e+00</td>\n",
              "      <td>0.000000</td>\n",
              "      <td>0.000000</td>\n",
              "      <td>0.000000</td>\n",
              "    </tr>\n",
              "    <tr>\n",
              "      <th>25%</th>\n",
              "      <td>1190.750000</td>\n",
              "      <td>9.257500e+05</td>\n",
              "      <td>4.807074</td>\n",
              "      <td>0.000000e+00</td>\n",
              "      <td>94.000000</td>\n",
              "      <td>5.600000</td>\n",
              "      <td>55.000000</td>\n",
              "    </tr>\n",
              "    <tr>\n",
              "      <th>50%</th>\n",
              "      <td>2380.500000</td>\n",
              "      <td>1.500000e+07</td>\n",
              "      <td>13.119058</td>\n",
              "      <td>1.944716e+07</td>\n",
              "      <td>104.000000</td>\n",
              "      <td>6.200000</td>\n",
              "      <td>238.000000</td>\n",
              "    </tr>\n",
              "    <tr>\n",
              "      <th>75%</th>\n",
              "      <td>3572.250000</td>\n",
              "      <td>4.000000e+07</td>\n",
              "      <td>28.411929</td>\n",
              "      <td>9.341276e+07</td>\n",
              "      <td>118.000000</td>\n",
              "      <td>6.800000</td>\n",
              "      <td>740.250000</td>\n",
              "    </tr>\n",
              "    <tr>\n",
              "      <th>max</th>\n",
              "      <td>4788.000000</td>\n",
              "      <td>3.800000e+08</td>\n",
              "      <td>875.581305</td>\n",
              "      <td>2.787965e+09</td>\n",
              "      <td>338.000000</td>\n",
              "      <td>10.000000</td>\n",
              "      <td>13752.000000</td>\n",
              "    </tr>\n",
              "  </tbody>\n",
              "</table>\n",
              "</div>\n",
              "    <div class=\"colab-df-buttons\">\n",
              "\n",
              "  <div class=\"colab-df-container\">\n",
              "    <button class=\"colab-df-convert\" onclick=\"convertToInteractive('df-85296256-1701-479b-9ef3-17e1d0e3f905')\"\n",
              "            title=\"Convert this dataframe to an interactive table.\"\n",
              "            style=\"display:none;\">\n",
              "\n",
              "  <svg xmlns=\"http://www.w3.org/2000/svg\" height=\"24px\" viewBox=\"0 -960 960 960\">\n",
              "    <path d=\"M120-120v-720h720v720H120Zm60-500h600v-160H180v160Zm220 220h160v-160H400v160Zm0 220h160v-160H400v160ZM180-400h160v-160H180v160Zm440 0h160v-160H620v160ZM180-180h160v-160H180v160Zm440 0h160v-160H620v160Z\"/>\n",
              "  </svg>\n",
              "    </button>\n",
              "\n",
              "  <style>\n",
              "    .colab-df-container {\n",
              "      display:flex;\n",
              "      gap: 12px;\n",
              "    }\n",
              "\n",
              "    .colab-df-convert {\n",
              "      background-color: #E8F0FE;\n",
              "      border: none;\n",
              "      border-radius: 50%;\n",
              "      cursor: pointer;\n",
              "      display: none;\n",
              "      fill: #1967D2;\n",
              "      height: 32px;\n",
              "      padding: 0 0 0 0;\n",
              "      width: 32px;\n",
              "    }\n",
              "\n",
              "    .colab-df-convert:hover {\n",
              "      background-color: #E2EBFA;\n",
              "      box-shadow: 0px 1px 2px rgba(60, 64, 67, 0.3), 0px 1px 3px 1px rgba(60, 64, 67, 0.15);\n",
              "      fill: #174EA6;\n",
              "    }\n",
              "\n",
              "    .colab-df-buttons div {\n",
              "      margin-bottom: 4px;\n",
              "    }\n",
              "\n",
              "    [theme=dark] .colab-df-convert {\n",
              "      background-color: #3B4455;\n",
              "      fill: #D2E3FC;\n",
              "    }\n",
              "\n",
              "    [theme=dark] .colab-df-convert:hover {\n",
              "      background-color: #434B5C;\n",
              "      box-shadow: 0px 1px 3px 1px rgba(0, 0, 0, 0.15);\n",
              "      filter: drop-shadow(0px 1px 2px rgba(0, 0, 0, 0.3));\n",
              "      fill: #FFFFFF;\n",
              "    }\n",
              "  </style>\n",
              "\n",
              "    <script>\n",
              "      const buttonEl =\n",
              "        document.querySelector('#df-85296256-1701-479b-9ef3-17e1d0e3f905 button.colab-df-convert');\n",
              "      buttonEl.style.display =\n",
              "        google.colab.kernel.accessAllowed ? 'block' : 'none';\n",
              "\n",
              "      async function convertToInteractive(key) {\n",
              "        const element = document.querySelector('#df-85296256-1701-479b-9ef3-17e1d0e3f905');\n",
              "        const dataTable =\n",
              "          await google.colab.kernel.invokeFunction('convertToInteractive',\n",
              "                                                    [key], {});\n",
              "        if (!dataTable) return;\n",
              "\n",
              "        const docLinkHtml = 'Like what you see? Visit the ' +\n",
              "          '<a target=\"_blank\" href=https://colab.research.google.com/notebooks/data_table.ipynb>data table notebook</a>'\n",
              "          + ' to learn more about interactive tables.';\n",
              "        element.innerHTML = '';\n",
              "        dataTable['output_type'] = 'display_data';\n",
              "        await google.colab.output.renderOutput(dataTable, element);\n",
              "        const docLink = document.createElement('div');\n",
              "        docLink.innerHTML = docLinkHtml;\n",
              "        element.appendChild(docLink);\n",
              "      }\n",
              "    </script>\n",
              "  </div>\n",
              "\n",
              "\n",
              "<div id=\"df-d88548a6-f36e-4d47-b655-6e9da6d04a57\">\n",
              "  <button class=\"colab-df-quickchart\" onclick=\"quickchart('df-d88548a6-f36e-4d47-b655-6e9da6d04a57')\"\n",
              "            title=\"Suggest charts.\"\n",
              "            style=\"display:none;\">\n",
              "\n",
              "<svg xmlns=\"http://www.w3.org/2000/svg\" height=\"24px\"viewBox=\"0 0 24 24\"\n",
              "     width=\"24px\">\n",
              "    <g>\n",
              "        <path d=\"M19 3H5c-1.1 0-2 .9-2 2v14c0 1.1.9 2 2 2h14c1.1 0 2-.9 2-2V5c0-1.1-.9-2-2-2zM9 17H7v-7h2v7zm4 0h-2V7h2v10zm4 0h-2v-4h2v4z\"/>\n",
              "    </g>\n",
              "</svg>\n",
              "  </button>\n",
              "\n",
              "<style>\n",
              "  .colab-df-quickchart {\n",
              "      --bg-color: #E8F0FE;\n",
              "      --fill-color: #1967D2;\n",
              "      --hover-bg-color: #E2EBFA;\n",
              "      --hover-fill-color: #174EA6;\n",
              "      --disabled-fill-color: #AAA;\n",
              "      --disabled-bg-color: #DDD;\n",
              "  }\n",
              "\n",
              "  [theme=dark] .colab-df-quickchart {\n",
              "      --bg-color: #3B4455;\n",
              "      --fill-color: #D2E3FC;\n",
              "      --hover-bg-color: #434B5C;\n",
              "      --hover-fill-color: #FFFFFF;\n",
              "      --disabled-bg-color: #3B4455;\n",
              "      --disabled-fill-color: #666;\n",
              "  }\n",
              "\n",
              "  .colab-df-quickchart {\n",
              "    background-color: var(--bg-color);\n",
              "    border: none;\n",
              "    border-radius: 50%;\n",
              "    cursor: pointer;\n",
              "    display: none;\n",
              "    fill: var(--fill-color);\n",
              "    height: 32px;\n",
              "    padding: 0;\n",
              "    width: 32px;\n",
              "  }\n",
              "\n",
              "  .colab-df-quickchart:hover {\n",
              "    background-color: var(--hover-bg-color);\n",
              "    box-shadow: 0 1px 2px rgba(60, 64, 67, 0.3), 0 1px 3px 1px rgba(60, 64, 67, 0.15);\n",
              "    fill: var(--button-hover-fill-color);\n",
              "  }\n",
              "\n",
              "  .colab-df-quickchart-complete:disabled,\n",
              "  .colab-df-quickchart-complete:disabled:hover {\n",
              "    background-color: var(--disabled-bg-color);\n",
              "    fill: var(--disabled-fill-color);\n",
              "    box-shadow: none;\n",
              "  }\n",
              "\n",
              "  .colab-df-spinner {\n",
              "    border: 2px solid var(--fill-color);\n",
              "    border-color: transparent;\n",
              "    border-bottom-color: var(--fill-color);\n",
              "    animation:\n",
              "      spin 1s steps(1) infinite;\n",
              "  }\n",
              "\n",
              "  @keyframes spin {\n",
              "    0% {\n",
              "      border-color: transparent;\n",
              "      border-bottom-color: var(--fill-color);\n",
              "      border-left-color: var(--fill-color);\n",
              "    }\n",
              "    20% {\n",
              "      border-color: transparent;\n",
              "      border-left-color: var(--fill-color);\n",
              "      border-top-color: var(--fill-color);\n",
              "    }\n",
              "    30% {\n",
              "      border-color: transparent;\n",
              "      border-left-color: var(--fill-color);\n",
              "      border-top-color: var(--fill-color);\n",
              "      border-right-color: var(--fill-color);\n",
              "    }\n",
              "    40% {\n",
              "      border-color: transparent;\n",
              "      border-right-color: var(--fill-color);\n",
              "      border-top-color: var(--fill-color);\n",
              "    }\n",
              "    60% {\n",
              "      border-color: transparent;\n",
              "      border-right-color: var(--fill-color);\n",
              "    }\n",
              "    80% {\n",
              "      border-color: transparent;\n",
              "      border-right-color: var(--fill-color);\n",
              "      border-bottom-color: var(--fill-color);\n",
              "    }\n",
              "    90% {\n",
              "      border-color: transparent;\n",
              "      border-bottom-color: var(--fill-color);\n",
              "    }\n",
              "  }\n",
              "</style>\n",
              "\n",
              "  <script>\n",
              "    async function quickchart(key) {\n",
              "      const quickchartButtonEl =\n",
              "        document.querySelector('#' + key + ' button');\n",
              "      quickchartButtonEl.disabled = true;  // To prevent multiple clicks.\n",
              "      quickchartButtonEl.classList.add('colab-df-spinner');\n",
              "      try {\n",
              "        const charts = await google.colab.kernel.invokeFunction(\n",
              "            'suggestCharts', [key], {});\n",
              "      } catch (error) {\n",
              "        console.error('Error during call to suggestCharts:', error);\n",
              "      }\n",
              "      quickchartButtonEl.classList.remove('colab-df-spinner');\n",
              "      quickchartButtonEl.classList.add('colab-df-quickchart-complete');\n",
              "    }\n",
              "    (() => {\n",
              "      let quickchartButtonEl =\n",
              "        document.querySelector('#df-d88548a6-f36e-4d47-b655-6e9da6d04a57 button');\n",
              "      quickchartButtonEl.style.display =\n",
              "        google.colab.kernel.accessAllowed ? 'block' : 'none';\n",
              "    })();\n",
              "  </script>\n",
              "</div>\n",
              "    </div>\n",
              "  </div>\n"
            ]
          },
          "metadata": {},
          "execution_count": 6
        }
      ]
    },
    {
      "cell_type": "code",
      "source": [
        "movie.columns"
      ],
      "metadata": {
        "colab": {
          "base_uri": "https://localhost:8080/"
        },
        "id": "55OitMfN6oWH",
        "outputId": "ec8ce2ca-bc2a-4be3-a8ea-a05eaa186c10"
      },
      "execution_count": 8,
      "outputs": [
        {
          "output_type": "execute_result",
          "data": {
            "text/plain": [
              "Index(['Movie_ID', 'Movie_Title', 'Movie_Genre', 'Movie_Language',\n",
              "       'Movie_Budget', 'Movie_Popularity', 'Movie_Release_Date',\n",
              "       'Movie_Revenue', 'Movie_Runtime', 'Movie_Vote', 'Movie_Vote_Count',\n",
              "       'Movie_Homepage', 'Movie_Keywords', 'Movie_Overview',\n",
              "       'Movie_Production_House', 'Movie_Production_Country',\n",
              "       'Movie_Spoken_Language', 'Movie_Tagline', 'Movie_Cast', 'Movie_Crew',\n",
              "       'Movie_Director'],\n",
              "      dtype='object')"
            ]
          },
          "metadata": {},
          "execution_count": 8
        }
      ]
    },
    {
      "cell_type": "code",
      "source": [
        "movie_fr=movie[['Movie_Genre', 'Movie_Language', 'Movie_Director','Movie_Keywords', 'Movie_Cast']].fillna('')"
      ],
      "metadata": {
        "id": "BjZJzJoT6oZB"
      },
      "execution_count": 19,
      "outputs": []
    },
    {
      "cell_type": "code",
      "source": [
        "movie_fr.head()"
      ],
      "metadata": {
        "colab": {
          "base_uri": "https://localhost:8080/",
          "height": 206
        },
        "id": "Ye6plC576oeG",
        "outputId": "2c3d449a-82ad-427a-febb-38bf82217a60"
      },
      "execution_count": 20,
      "outputs": [
        {
          "output_type": "execute_result",
          "data": {
            "text/plain": [
              "                        Movie_Genre Movie_Language   Movie_Director  \\\n",
              "0                      Crime Comedy             en   Allison Anders   \n",
              "1  Adventure Action Science Fiction             en     George Lucas   \n",
              "2                  Animation Family             en   Andrew Stanton   \n",
              "3              Comedy Drama Romance             en  Robert Zemeckis   \n",
              "4                             Drama             en       Sam Mendes   \n",
              "\n",
              "                                      Movie_Keywords  \\\n",
              "0          hotel new year's eve witch bet hotel room   \n",
              "1        android galaxy hermit death star lightsaber   \n",
              "2  father son relationship harbor underwater fish...   \n",
              "3  vietnam veteran hippie mentally disabled runni...   \n",
              "4  male nudity female nudity adultery midlife cri...   \n",
              "\n",
              "                                          Movie_Cast  \n",
              "0  Tim Roth Antonio Banderas Jennifer Beals Madon...  \n",
              "1  Mark Hamill Harrison Ford Carrie Fisher Peter ...  \n",
              "2  Albert Brooks Ellen DeGeneres Alexander Gould ...  \n",
              "3  Tom Hanks Robin Wright Gary Sinise Mykelti Wil...  \n",
              "4  Kevin Spacey Annette Bening Thora Birch Wes Be...  "
            ],
            "text/html": [
              "\n",
              "  <div id=\"df-d7bb6b84-ccf7-4640-a46b-09cc3e5e3bc2\" class=\"colab-df-container\">\n",
              "    <div>\n",
              "<style scoped>\n",
              "    .dataframe tbody tr th:only-of-type {\n",
              "        vertical-align: middle;\n",
              "    }\n",
              "\n",
              "    .dataframe tbody tr th {\n",
              "        vertical-align: top;\n",
              "    }\n",
              "\n",
              "    .dataframe thead th {\n",
              "        text-align: right;\n",
              "    }\n",
              "</style>\n",
              "<table border=\"1\" class=\"dataframe\">\n",
              "  <thead>\n",
              "    <tr style=\"text-align: right;\">\n",
              "      <th></th>\n",
              "      <th>Movie_Genre</th>\n",
              "      <th>Movie_Language</th>\n",
              "      <th>Movie_Director</th>\n",
              "      <th>Movie_Keywords</th>\n",
              "      <th>Movie_Cast</th>\n",
              "    </tr>\n",
              "  </thead>\n",
              "  <tbody>\n",
              "    <tr>\n",
              "      <th>0</th>\n",
              "      <td>Crime Comedy</td>\n",
              "      <td>en</td>\n",
              "      <td>Allison Anders</td>\n",
              "      <td>hotel new year's eve witch bet hotel room</td>\n",
              "      <td>Tim Roth Antonio Banderas Jennifer Beals Madon...</td>\n",
              "    </tr>\n",
              "    <tr>\n",
              "      <th>1</th>\n",
              "      <td>Adventure Action Science Fiction</td>\n",
              "      <td>en</td>\n",
              "      <td>George Lucas</td>\n",
              "      <td>android galaxy hermit death star lightsaber</td>\n",
              "      <td>Mark Hamill Harrison Ford Carrie Fisher Peter ...</td>\n",
              "    </tr>\n",
              "    <tr>\n",
              "      <th>2</th>\n",
              "      <td>Animation Family</td>\n",
              "      <td>en</td>\n",
              "      <td>Andrew Stanton</td>\n",
              "      <td>father son relationship harbor underwater fish...</td>\n",
              "      <td>Albert Brooks Ellen DeGeneres Alexander Gould ...</td>\n",
              "    </tr>\n",
              "    <tr>\n",
              "      <th>3</th>\n",
              "      <td>Comedy Drama Romance</td>\n",
              "      <td>en</td>\n",
              "      <td>Robert Zemeckis</td>\n",
              "      <td>vietnam veteran hippie mentally disabled runni...</td>\n",
              "      <td>Tom Hanks Robin Wright Gary Sinise Mykelti Wil...</td>\n",
              "    </tr>\n",
              "    <tr>\n",
              "      <th>4</th>\n",
              "      <td>Drama</td>\n",
              "      <td>en</td>\n",
              "      <td>Sam Mendes</td>\n",
              "      <td>male nudity female nudity adultery midlife cri...</td>\n",
              "      <td>Kevin Spacey Annette Bening Thora Birch Wes Be...</td>\n",
              "    </tr>\n",
              "  </tbody>\n",
              "</table>\n",
              "</div>\n",
              "    <div class=\"colab-df-buttons\">\n",
              "\n",
              "  <div class=\"colab-df-container\">\n",
              "    <button class=\"colab-df-convert\" onclick=\"convertToInteractive('df-d7bb6b84-ccf7-4640-a46b-09cc3e5e3bc2')\"\n",
              "            title=\"Convert this dataframe to an interactive table.\"\n",
              "            style=\"display:none;\">\n",
              "\n",
              "  <svg xmlns=\"http://www.w3.org/2000/svg\" height=\"24px\" viewBox=\"0 -960 960 960\">\n",
              "    <path d=\"M120-120v-720h720v720H120Zm60-500h600v-160H180v160Zm220 220h160v-160H400v160Zm0 220h160v-160H400v160ZM180-400h160v-160H180v160Zm440 0h160v-160H620v160ZM180-180h160v-160H180v160Zm440 0h160v-160H620v160Z\"/>\n",
              "  </svg>\n",
              "    </button>\n",
              "\n",
              "  <style>\n",
              "    .colab-df-container {\n",
              "      display:flex;\n",
              "      gap: 12px;\n",
              "    }\n",
              "\n",
              "    .colab-df-convert {\n",
              "      background-color: #E8F0FE;\n",
              "      border: none;\n",
              "      border-radius: 50%;\n",
              "      cursor: pointer;\n",
              "      display: none;\n",
              "      fill: #1967D2;\n",
              "      height: 32px;\n",
              "      padding: 0 0 0 0;\n",
              "      width: 32px;\n",
              "    }\n",
              "\n",
              "    .colab-df-convert:hover {\n",
              "      background-color: #E2EBFA;\n",
              "      box-shadow: 0px 1px 2px rgba(60, 64, 67, 0.3), 0px 1px 3px 1px rgba(60, 64, 67, 0.15);\n",
              "      fill: #174EA6;\n",
              "    }\n",
              "\n",
              "    .colab-df-buttons div {\n",
              "      margin-bottom: 4px;\n",
              "    }\n",
              "\n",
              "    [theme=dark] .colab-df-convert {\n",
              "      background-color: #3B4455;\n",
              "      fill: #D2E3FC;\n",
              "    }\n",
              "\n",
              "    [theme=dark] .colab-df-convert:hover {\n",
              "      background-color: #434B5C;\n",
              "      box-shadow: 0px 1px 3px 1px rgba(0, 0, 0, 0.15);\n",
              "      filter: drop-shadow(0px 1px 2px rgba(0, 0, 0, 0.3));\n",
              "      fill: #FFFFFF;\n",
              "    }\n",
              "  </style>\n",
              "\n",
              "    <script>\n",
              "      const buttonEl =\n",
              "        document.querySelector('#df-d7bb6b84-ccf7-4640-a46b-09cc3e5e3bc2 button.colab-df-convert');\n",
              "      buttonEl.style.display =\n",
              "        google.colab.kernel.accessAllowed ? 'block' : 'none';\n",
              "\n",
              "      async function convertToInteractive(key) {\n",
              "        const element = document.querySelector('#df-d7bb6b84-ccf7-4640-a46b-09cc3e5e3bc2');\n",
              "        const dataTable =\n",
              "          await google.colab.kernel.invokeFunction('convertToInteractive',\n",
              "                                                    [key], {});\n",
              "        if (!dataTable) return;\n",
              "\n",
              "        const docLinkHtml = 'Like what you see? Visit the ' +\n",
              "          '<a target=\"_blank\" href=https://colab.research.google.com/notebooks/data_table.ipynb>data table notebook</a>'\n",
              "          + ' to learn more about interactive tables.';\n",
              "        element.innerHTML = '';\n",
              "        dataTable['output_type'] = 'display_data';\n",
              "        await google.colab.output.renderOutput(dataTable, element);\n",
              "        const docLink = document.createElement('div');\n",
              "        docLink.innerHTML = docLinkHtml;\n",
              "        element.appendChild(docLink);\n",
              "      }\n",
              "    </script>\n",
              "  </div>\n",
              "\n",
              "\n",
              "<div id=\"df-46002239-7827-4336-9562-5367fa89ff63\">\n",
              "  <button class=\"colab-df-quickchart\" onclick=\"quickchart('df-46002239-7827-4336-9562-5367fa89ff63')\"\n",
              "            title=\"Suggest charts.\"\n",
              "            style=\"display:none;\">\n",
              "\n",
              "<svg xmlns=\"http://www.w3.org/2000/svg\" height=\"24px\"viewBox=\"0 0 24 24\"\n",
              "     width=\"24px\">\n",
              "    <g>\n",
              "        <path d=\"M19 3H5c-1.1 0-2 .9-2 2v14c0 1.1.9 2 2 2h14c1.1 0 2-.9 2-2V5c0-1.1-.9-2-2-2zM9 17H7v-7h2v7zm4 0h-2V7h2v10zm4 0h-2v-4h2v4z\"/>\n",
              "    </g>\n",
              "</svg>\n",
              "  </button>\n",
              "\n",
              "<style>\n",
              "  .colab-df-quickchart {\n",
              "      --bg-color: #E8F0FE;\n",
              "      --fill-color: #1967D2;\n",
              "      --hover-bg-color: #E2EBFA;\n",
              "      --hover-fill-color: #174EA6;\n",
              "      --disabled-fill-color: #AAA;\n",
              "      --disabled-bg-color: #DDD;\n",
              "  }\n",
              "\n",
              "  [theme=dark] .colab-df-quickchart {\n",
              "      --bg-color: #3B4455;\n",
              "      --fill-color: #D2E3FC;\n",
              "      --hover-bg-color: #434B5C;\n",
              "      --hover-fill-color: #FFFFFF;\n",
              "      --disabled-bg-color: #3B4455;\n",
              "      --disabled-fill-color: #666;\n",
              "  }\n",
              "\n",
              "  .colab-df-quickchart {\n",
              "    background-color: var(--bg-color);\n",
              "    border: none;\n",
              "    border-radius: 50%;\n",
              "    cursor: pointer;\n",
              "    display: none;\n",
              "    fill: var(--fill-color);\n",
              "    height: 32px;\n",
              "    padding: 0;\n",
              "    width: 32px;\n",
              "  }\n",
              "\n",
              "  .colab-df-quickchart:hover {\n",
              "    background-color: var(--hover-bg-color);\n",
              "    box-shadow: 0 1px 2px rgba(60, 64, 67, 0.3), 0 1px 3px 1px rgba(60, 64, 67, 0.15);\n",
              "    fill: var(--button-hover-fill-color);\n",
              "  }\n",
              "\n",
              "  .colab-df-quickchart-complete:disabled,\n",
              "  .colab-df-quickchart-complete:disabled:hover {\n",
              "    background-color: var(--disabled-bg-color);\n",
              "    fill: var(--disabled-fill-color);\n",
              "    box-shadow: none;\n",
              "  }\n",
              "\n",
              "  .colab-df-spinner {\n",
              "    border: 2px solid var(--fill-color);\n",
              "    border-color: transparent;\n",
              "    border-bottom-color: var(--fill-color);\n",
              "    animation:\n",
              "      spin 1s steps(1) infinite;\n",
              "  }\n",
              "\n",
              "  @keyframes spin {\n",
              "    0% {\n",
              "      border-color: transparent;\n",
              "      border-bottom-color: var(--fill-color);\n",
              "      border-left-color: var(--fill-color);\n",
              "    }\n",
              "    20% {\n",
              "      border-color: transparent;\n",
              "      border-left-color: var(--fill-color);\n",
              "      border-top-color: var(--fill-color);\n",
              "    }\n",
              "    30% {\n",
              "      border-color: transparent;\n",
              "      border-left-color: var(--fill-color);\n",
              "      border-top-color: var(--fill-color);\n",
              "      border-right-color: var(--fill-color);\n",
              "    }\n",
              "    40% {\n",
              "      border-color: transparent;\n",
              "      border-right-color: var(--fill-color);\n",
              "      border-top-color: var(--fill-color);\n",
              "    }\n",
              "    60% {\n",
              "      border-color: transparent;\n",
              "      border-right-color: var(--fill-color);\n",
              "    }\n",
              "    80% {\n",
              "      border-color: transparent;\n",
              "      border-right-color: var(--fill-color);\n",
              "      border-bottom-color: var(--fill-color);\n",
              "    }\n",
              "    90% {\n",
              "      border-color: transparent;\n",
              "      border-bottom-color: var(--fill-color);\n",
              "    }\n",
              "  }\n",
              "</style>\n",
              "\n",
              "  <script>\n",
              "    async function quickchart(key) {\n",
              "      const quickchartButtonEl =\n",
              "        document.querySelector('#' + key + ' button');\n",
              "      quickchartButtonEl.disabled = true;  // To prevent multiple clicks.\n",
              "      quickchartButtonEl.classList.add('colab-df-spinner');\n",
              "      try {\n",
              "        const charts = await google.colab.kernel.invokeFunction(\n",
              "            'suggestCharts', [key], {});\n",
              "      } catch (error) {\n",
              "        console.error('Error during call to suggestCharts:', error);\n",
              "      }\n",
              "      quickchartButtonEl.classList.remove('colab-df-spinner');\n",
              "      quickchartButtonEl.classList.add('colab-df-quickchart-complete');\n",
              "    }\n",
              "    (() => {\n",
              "      let quickchartButtonEl =\n",
              "        document.querySelector('#df-46002239-7827-4336-9562-5367fa89ff63 button');\n",
              "      quickchartButtonEl.style.display =\n",
              "        google.colab.kernel.accessAllowed ? 'block' : 'none';\n",
              "    })();\n",
              "  </script>\n",
              "</div>\n",
              "    </div>\n",
              "  </div>\n"
            ]
          },
          "metadata": {},
          "execution_count": 20
        }
      ]
    },
    {
      "cell_type": "code",
      "source": [
        "movie_fr.shape"
      ],
      "metadata": {
        "colab": {
          "base_uri": "https://localhost:8080/"
        },
        "id": "2sRCluXN6ohN",
        "outputId": "11af0bb3-800b-49d3-ed26-01f9471fa441"
      },
      "execution_count": 12,
      "outputs": [
        {
          "output_type": "execute_result",
          "data": {
            "text/plain": [
              "(4760, 5)"
            ]
          },
          "metadata": {},
          "execution_count": 12
        }
      ]
    },
    {
      "cell_type": "code",
      "source": [
        "x = movie_fr['Movie_Genre']+' '+ movie_fr['Movie_Keywords']+' '+movie_fr['Movie_Language']+' '+movie_fr['Movie_Cast']+' '+movie_fr['Movie_Director']"
      ],
      "metadata": {
        "id": "UblU69HFAOvo"
      },
      "execution_count": 21,
      "outputs": []
    },
    {
      "cell_type": "code",
      "source": [
        "x"
      ],
      "metadata": {
        "colab": {
          "base_uri": "https://localhost:8080/"
        },
        "id": "pWOu2VXyAOzA",
        "outputId": "1d35c585-69a7-401b-c634-00f5d6d7af26"
      },
      "execution_count": 22,
      "outputs": [
        {
          "output_type": "execute_result",
          "data": {
            "text/plain": [
              "0       Crime Comedy hotel new year's eve witch bet ho...\n",
              "1       Adventure Action Science Fiction android galax...\n",
              "2       Animation Family father son relationship harbo...\n",
              "3       Comedy Drama Romance vietnam veteran hippie me...\n",
              "4       Drama male nudity female nudity adultery midli...\n",
              "                              ...                        \n",
              "4755    Horror  en Lisa Hart Carroll Michael Des Barre...\n",
              "4756    Comedy Family Drama  en Roni Akurati Brighton ...\n",
              "4757    Thriller Drama christian film sex trafficking ...\n",
              "4758                                         Family  en  \n",
              "4759    Documentary music actors legendary perfomer cl...\n",
              "Length: 4760, dtype: object"
            ]
          },
          "metadata": {},
          "execution_count": 22
        }
      ]
    },
    {
      "cell_type": "code",
      "source": [
        "x.shape"
      ],
      "metadata": {
        "colab": {
          "base_uri": "https://localhost:8080/"
        },
        "id": "Nusd1CH9AO2e",
        "outputId": "1e68abe0-e8c6-42d9-da89-f29e9a7dfb6d"
      },
      "execution_count": 23,
      "outputs": [
        {
          "output_type": "execute_result",
          "data": {
            "text/plain": [
              "(4760,)"
            ]
          },
          "metadata": {},
          "execution_count": 23
        }
      ]
    },
    {
      "cell_type": "markdown",
      "source": [
        "# **Get Feature Text Conversion to Tokens**"
      ],
      "metadata": {
        "id": "r-TSrsUgdC9e"
      }
    },
    {
      "cell_type": "code",
      "source": [
        "from sklearn.feature_extraction.text import TfidfVectorizer"
      ],
      "metadata": {
        "id": "P7DilmxuAO52"
      },
      "execution_count": 25,
      "outputs": []
    },
    {
      "cell_type": "code",
      "source": [
        "tfidf=TfidfVectorizer()"
      ],
      "metadata": {
        "id": "qttLBbq-AO8r"
      },
      "execution_count": 26,
      "outputs": []
    },
    {
      "cell_type": "code",
      "source": [
        "x=tfidf.fit_transform(x)"
      ],
      "metadata": {
        "id": "sQGvRtD5AO_p"
      },
      "execution_count": 27,
      "outputs": []
    },
    {
      "cell_type": "code",
      "source": [
        "x.shape"
      ],
      "metadata": {
        "colab": {
          "base_uri": "https://localhost:8080/"
        },
        "id": "-I6t8VcrAPCb",
        "outputId": "c7895b3c-0725-44e8-e2fa-673e5c61bb06"
      },
      "execution_count": 28,
      "outputs": [
        {
          "output_type": "execute_result",
          "data": {
            "text/plain": [
              "(4760, 14816)"
            ]
          },
          "metadata": {},
          "execution_count": 28
        }
      ]
    },
    {
      "cell_type": "code",
      "source": [
        "print(x)"
      ],
      "metadata": {
        "colab": {
          "base_uri": "https://localhost:8080/"
        },
        "id": "fRhU7phfSWxN",
        "outputId": "90e576a9-f268-46ca-e325-3cef5795da19"
      },
      "execution_count": 29,
      "outputs": [
        {
          "output_type": "stream",
          "name": "stdout",
          "text": [
            "  (0, 452)\t0.2527893450771156\n",
            "  (0, 341)\t0.221714115400248\n",
            "  (0, 13242)\t0.22681105601214802\n",
            "  (0, 8329)\t0.22016866775539004\n",
            "  (0, 8129)\t0.25688428990116646\n",
            "  (0, 1143)\t0.2615267554483384\n",
            "  (0, 6623)\t0.15166228960926623\n",
            "  (0, 978)\t0.21459405931249442\n",
            "  (0, 552)\t0.20761737187069065\n",
            "  (0, 11304)\t0.22333146968371728\n",
            "  (0, 13192)\t0.16244539866426566\n",
            "  (0, 4159)\t0.036990694054009246\n",
            "  (0, 11266)\t0.2350295485803124\n",
            "  (0, 1316)\t0.2527893450771156\n",
            "  (0, 14461)\t0.19761557316518416\n",
            "  (0, 4296)\t0.23067802069223262\n",
            "  (0, 14623)\t0.24912629210986972\n",
            "  (0, 9435)\t0.14712533809566203\n",
            "  (0, 6098)\t0.3906448451315794\n",
            "  (0, 2772)\t0.07008337800624968\n",
            "  (0, 3042)\t0.10107356482125734\n",
            "  (1, 7984)\t0.19926350047622196\n",
            "  (1, 5074)\t0.15881759195282208\n",
            "  (1, 5455)\t0.26005463729140177\n",
            "  (1, 278)\t0.20253990390975216\n",
            "  :\t:\n",
            "  (4757, 11875)\t0.17391829275855464\n",
            "  (4757, 9481)\t0.2097939447065153\n",
            "  (4757, 4587)\t0.14519125328802765\n",
            "  (4757, 2538)\t0.1862316778438991\n",
            "  (4757, 7155)\t0.19960099766843914\n",
            "  (4757, 13151)\t0.0874305361405088\n",
            "  (4757, 3800)\t0.06486831081039018\n",
            "  (4757, 4159)\t0.039880801695981585\n",
            "  (4758, 4416)\t0.9445229825786247\n",
            "  (4758, 4159)\t0.32844533088594663\n",
            "  (4759, 9750)\t0.3286995450242791\n",
            "  (4759, 10123)\t0.3286995450242791\n",
            "  (4759, 7629)\t0.3286995450242791\n",
            "  (4759, 90)\t0.3286995450242791\n",
            "  (4759, 12151)\t0.31351148841466714\n",
            "  (4759, 6028)\t0.2648424830668339\n",
            "  (4759, 2616)\t0.31351148841466714\n",
            "  (4759, 9316)\t0.3027353907564623\n",
            "  (4759, 3677)\t0.1772534888692975\n",
            "  (4759, 12141)\t0.19499071637321422\n",
            "  (4759, 4772)\t0.19052018296639517\n",
            "  (4759, 13257)\t0.19005485578238063\n",
            "  (4759, 1221)\t0.20524291239199263\n",
            "  (4759, 9231)\t0.15454863778928116\n",
            "  (4759, 4159)\t0.03985436453058407\n"
          ]
        }
      ]
    },
    {
      "cell_type": "markdown",
      "source": [
        "# Using cosine_similarity"
      ],
      "metadata": {
        "id": "pje4pufNduQS"
      }
    },
    {
      "cell_type": "code",
      "source": [
        "from sklearn.metrics.pairwise import cosine_similarity"
      ],
      "metadata": {
        "id": "BySDC6z8SW0D"
      },
      "execution_count": 31,
      "outputs": []
    },
    {
      "cell_type": "code",
      "source": [
        "similarity_score=cosine_similarity(x)"
      ],
      "metadata": {
        "id": "PqLvVyM4SW46"
      },
      "execution_count": 32,
      "outputs": []
    },
    {
      "cell_type": "code",
      "source": [
        "similarity_score"
      ],
      "metadata": {
        "colab": {
          "base_uri": "https://localhost:8080/"
        },
        "id": "ohtTxuUZSW79",
        "outputId": "f58899be-79df-41cf-e51b-c88bd25e1680"
      },
      "execution_count": 33,
      "outputs": [
        {
          "output_type": "execute_result",
          "data": {
            "text/plain": [
              "array([[1.        , 0.0013852 , 0.0012416 , ..., 0.00147522, 0.01214942,\n",
              "        0.00147424],\n",
              "       [0.0013852 , 1.        , 0.00125692, ..., 0.00149343, 0.01229936,\n",
              "        0.00149244],\n",
              "       [0.0012416 , 0.00125692, 1.        , ..., 0.00133861, 0.10219417,\n",
              "        0.00133772],\n",
              "       ...,\n",
              "       [0.00147522, 0.00149343, 0.00133861, ..., 1.        , 0.01309866,\n",
              "        0.00158942],\n",
              "       [0.01214942, 0.01229936, 0.10219417, ..., 0.01309866, 1.        ,\n",
              "        0.01308998],\n",
              "       [0.00147424, 0.00149244, 0.00133772, ..., 0.00158942, 0.01308998,\n",
              "        1.        ]])"
            ]
          },
          "metadata": {},
          "execution_count": 33
        }
      ]
    },
    {
      "cell_type": "code",
      "source": [
        "similarity_score"
      ],
      "metadata": {
        "colab": {
          "base_uri": "https://localhost:8080/"
        },
        "id": "RJK6LO1ASW_L",
        "outputId": "54403b9e-f969-4135-fe7f-19be8d562ec2"
      },
      "execution_count": 34,
      "outputs": [
        {
          "output_type": "execute_result",
          "data": {
            "text/plain": [
              "array([[1.        , 0.0013852 , 0.0012416 , ..., 0.00147522, 0.01214942,\n",
              "        0.00147424],\n",
              "       [0.0013852 , 1.        , 0.00125692, ..., 0.00149343, 0.01229936,\n",
              "        0.00149244],\n",
              "       [0.0012416 , 0.00125692, 1.        , ..., 0.00133861, 0.10219417,\n",
              "        0.00133772],\n",
              "       ...,\n",
              "       [0.00147522, 0.00149343, 0.00133861, ..., 1.        , 0.01309866,\n",
              "        0.00158942],\n",
              "       [0.01214942, 0.01229936, 0.10219417, ..., 0.01309866, 1.        ,\n",
              "        0.01308998],\n",
              "       [0.00147424, 0.00149244, 0.00133772, ..., 0.00158942, 0.01308998,\n",
              "        1.        ]])"
            ]
          },
          "metadata": {},
          "execution_count": 34
        }
      ]
    },
    {
      "cell_type": "markdown",
      "source": [
        "# Take movie name as input from user"
      ],
      "metadata": {
        "id": "DFyz8tyDd5zi"
      }
    },
    {
      "cell_type": "code",
      "source": [
        "movie_name=input('Enter any movie name: ')"
      ],
      "metadata": {
        "colab": {
          "base_uri": "https://localhost:8080/"
        },
        "id": "83BXpVSQSXBt",
        "outputId": "82fe0ca5-ffb5-4323-af8b-1b55b1715df7"
      },
      "execution_count": 50,
      "outputs": [
        {
          "name": "stdout",
          "output_type": "stream",
          "text": [
            "Enter any movie name: star wars\n"
          ]
        }
      ]
    },
    {
      "cell_type": "code",
      "source": [
        "Title_List=movie['Movie_Title'].tolist()"
      ],
      "metadata": {
        "id": "q6oxIuSgVFHS"
      },
      "execution_count": 51,
      "outputs": []
    },
    {
      "cell_type": "code",
      "source": [
        "import difflib"
      ],
      "metadata": {
        "id": "mcV2_Et2TrkT"
      },
      "execution_count": 36,
      "outputs": []
    },
    {
      "cell_type": "code",
      "source": [
        "recommendation= difflib.get_close_matches(movie_name,Title_List)\n",
        "print(recommendation)"
      ],
      "metadata": {
        "colab": {
          "base_uri": "https://localhost:8080/"
        },
        "id": "sWkLpFqJTrnU",
        "outputId": "0861fb55-9662-4b42-c584-7723e50fb2df"
      },
      "execution_count": 52,
      "outputs": [
        {
          "output_type": "stream",
          "name": "stdout",
          "text": [
            "['Star Wars']\n"
          ]
        }
      ]
    },
    {
      "cell_type": "code",
      "source": [
        "close_match = recommendation[0]\n",
        "print(close_match)"
      ],
      "metadata": {
        "colab": {
          "base_uri": "https://localhost:8080/"
        },
        "id": "Vt4_0Y7PVa1W",
        "outputId": "fc9f5675-32f5-41e9-b004-ae91703988a7"
      },
      "execution_count": 53,
      "outputs": [
        {
          "output_type": "stream",
          "name": "stdout",
          "text": [
            "Star Wars\n"
          ]
        }
      ]
    },
    {
      "cell_type": "code",
      "source": [
        "index_of_close_match = movie[movie.Movie_Title==close_match]['Movie_ID'].values[0]\n",
        "print(index_of_close_match)"
      ],
      "metadata": {
        "colab": {
          "base_uri": "https://localhost:8080/"
        },
        "id": "gvkCnkfSVsUU",
        "outputId": "4ea8142c-70f5-4586-a139-0e2ced808009"
      },
      "execution_count": 54,
      "outputs": [
        {
          "output_type": "stream",
          "name": "stdout",
          "text": [
            "2\n"
          ]
        }
      ]
    },
    {
      "cell_type": "code",
      "source": [
        "recommendation_score= list(enumerate(similarity_score[index_of_close_match]))\n",
        "print(recommendation_score)"
      ],
      "metadata": {
        "colab": {
          "base_uri": "https://localhost:8080/"
        },
        "id": "n2RDbQ0WTrqP",
        "outputId": "76d923ff-000e-41c6-89c9-b38fe7f88e6d"
      },
      "execution_count": 55,
      "outputs": [
        {
          "output_type": "stream",
          "name": "stdout",
          "text": [
            "[(0, 0.0012415999711957706), (1, 0.001256923225217693), (2, 1.0), (3, 0.0012599512432429224), (4, 0.0012188374299653062), (5, 0.0012163919257292505), (6, 0.0013343613601778056), (7, 0.0), (8, 0.0011968090049655725), (9, 0.0011355055755644411), (10, 0.0012453570567502726), (11, 0.001225678396559152), (12, 0.0012389313610160636), (13, 0.0011589613884689244), (14, 0.08978695817957723), (15, 0.0013037202272690339), (16, 0.0), (17, 0.00122226573265492), (18, 0.0012719232417593117), (19, 0.0011689842551585005), (20, 0.0012758252764947884), (21, 0.001301650280602311), (22, 0.05236997681022121), (23, 0.0012383643899880992), (24, 0.0011653180275543343), (25, 0.0011289259013975682), (26, 0.05248491792239553), (27, 0.0012463109403966258), (28, 0.0012299221014261427), (29, 0.0011740547367595198), (30, 0.001245449701820704), (31, 0.0012205824612499183), (32, 0.0), (33, 0.0011218377055327309), (34, 0.0012372532993579512), (35, 0.0012813447236673184), (36, 0.0011317136296410686), (37, 0.0012140671631469977), (38, 0.001344931673511493), (39, 0.0013493662454393215), (40, 0.0012344815514607225), (41, 0.0013050569306486482), (42, 0.0012705887290815365), (43, 0.0012679189116209474), (44, 0.0), (45, 0.012073859161023784), (46, 0.0011402776998118704), (47, 0.02740957429908908), (48, 0.001293334698913495), (49, 0.03739375077452648), (50, 0.001293295784491399), (51, 0.001264345475485465), (52, 0.0011275224007481865), (53, 0.0824158103742871), (54, 0.0012423191861851222), (55, 0.0012325278831164324), (56, 0.0012448597174976091), (57, 0.014299611675317878), (58, 0.035659673532097015), (59, 0.0012912725092941713), (60, 0.0011072489972859644), (61, 0.015700296579909238), (62, 0.0013480869073690784), (63, 0.0), (64, 0.013654755407159993), (65, 0.0011776870131491365), (66, 0.0011928764830008533), (67, 0.0011659130352782124), (68, 0.0012944900019003789), (69, 0.0013304573529267646), (70, 0.031228587598988954), (71, 0.0012280772042333444), (72, 0.027875242195477094), (73, 0.01147877433083186), (74, 0.0013086856574497186), (75, 0.0010787765075255887), (76, 0.0011140072775149739), (77, 0.0011626967553648806), (78, 0.001045187176279284), (79, 0.0012529741492708125), (80, 0.0011553367611479366), (81, 0.001213624173498478), (82, 0.001105289394001598), (83, 0.001218940656328481), (84, 0.0012334987559649352), (85, 0.0011909905596224817), (86, 0.0012968346884651598), (87, 0.0013519122111461813), (88, 0.0010740148526253938), (89, 0.001419651838166609), (90, 0.0011291300725675558), (91, 0.011822173067052452), (92, 0.00110432428516882), (93, 0.001136695234839121), (94, 0.001106188351845604), (95, 0.0012693062616618554), (96, 0.0012331193471023616), (97, 0.0011230935552898583), (98, 0.0013513642275751235), (99, 0.0010738778846382155), (100, 0.0014039668318216116), (101, 0.0012885187509207232), (102, 0.0013000369103829538), (103, 0.0), (104, 0.0012672424390804823), (105, 0.0012410728020635455), (106, 0.0011333408410954407), (107, 0.0013494418183124712), (108, 0.0010803055657717011), (109, 0.024496011115762138), (110, 0.001254368836756073), (111, 0.0012638090175077187), (112, 0.0011741662628303236), (113, 0.0011179983842848672), (114, 0.0012600776079718123), (115, 0.0012425792755232003), (116, 0.0011008017054856465), (117, 0.010535942359867162), (118, 0.0013353486710076302), (119, 0.0011750389731724122), (120, 0.010596578522522576), (121, 0.04255615612598519), (122, 0.001250199349782982), (123, 0.0013360709436968854), (124, 0.0013496359572950014), (125, 0.0012866388667521266), (126, 0.0012689350911466088), (127, 0.0011616463661573667), (128, 0.0013143670083187974), (129, 0.001127706337152683), (130, 0.0010821828978466984), (131, 0.0012916593375780702), (132, 0.00118287893714228), (133, 0.0010975913044180268), (134, 0.0011248161827050972), (135, 0.0011734160478462483), (136, 0.026532308441406315), (137, 0.03264708885487378), (138, 0.0011737037511049735), (139, 0.001246230311692587), (140, 0.05608082345878916), (141, 0.001301982123701455), (142, 0.0013144337875559005), (143, 0.0012711037587324872), (144, 0.09226585651007997), (145, 0.001349160491469969), (146, 0.07150858592144109), (147, 0.0011507493671476506), (148, 0.0013018137247376165), (149, 0.01151447572267607), (150, 0.001251048166059625), (151, 0.0012312465973408234), (152, 0.0012007633071460175), (153, 0.013687266472545923), (154, 0.017240952365341324), (155, 0.0), (156, 0.0), (157, 0.0), (158, 0.001167534869510694), (159, 0.0), (160, 0.05067246251403951), (161, 0.0012728856341821131), (162, 0.0013777302270885595), (163, 0.001175007138325819), (164, 0.024453911387801303), (165, 0.0), (166, 0.08624334517049907), (167, 0.026807236957144324), (168, 0.0), (169, 0.015924928223030398), (170, 0.014737473366343377), (171, 0.0011562816353418287), (172, 0.0011650228869343597), (173, 0.06998019274407842), (174, 0.0010947784514483065), (175, 0.0011967372504841612), (176, 0.015343597160036178), (177, 0.02576063297590076), (178, 0.08645764553023746), (179, 0.05406559467418158), (180, 0.001281980422296094), (181, 0.0012166307618322028), (182, 0.08674385690816258), (183, 0.010981133166339127), (184, 0.0012310870375388226), (185, 0.04419872460341601), (186, 0.0), (187, 0.02817135401397925), (188, 0.039355843928505684), (189, 0.0011699153881196379), (190, 0.0), (191, 0.0011170444471442604), (192, 0.0012770908213854168), (193, 0.0014257021265730717), (194, 0.0010324818767437154), (195, 0.0010821752822175288), (196, 0.04239994244637165), (197, 0.0), (198, 0.07249626136860697), (199, 0.0103586046347859), (200, 0.0011203028927427134), (201, 0.01720674605777591), (202, 0.0), (203, 0.0013061836159539008), (204, 0.0013489908385961897), (205, 0.0013162925767764592), (206, 0.0012702524622696441), (207, 0.0013720841859756758), (208, 0.024901456191775462), (209, 0.001261265645863552), (210, 0.0012016931957293145), (211, 0.00120087860928466), (212, 0.0012684350096635797), (213, 0.0011553589900458383), (214, 0.0012724125580264773), (215, 0.0013183874154704715), (216, 0.0013063258703787108), (217, 0.0013148446073910016), (218, 0.0013158759274159303), (219, 0.045214437956422486), (220, 0.0012164633129580155), (221, 0.0011986578891599858), (222, 0.0013007498389818672), (223, 0.0011348103583341351), (224, 0.0), (225, 0.0013465155892029687), (226, 0.0012571174327440926), (227, 0.0011581658321441594), (228, 0.0012585848515514252), (229, 0.027677565374794585), (230, 0.0857601323102386), (231, 0.0012280128597306585), (232, 0.0012381791548999735), (233, 0.03741802442075169), (234, 0.001140858534986002), (235, 0.0013855095603765987), (236, 0.0012553918942250018), (237, 0.0012374436500073543), (238, 0.0012725960771892524), (239, 0.0012515649880615331), (240, 0.0011876195155969835), (241, 0.001145743889481536), (242, 0.010086272731059467), (243, 0.0), (244, 0.0011809710482534417), (245, 0.031614468531910904), (246, 0.0014148740278821668), (247, 0.16676213236105666), (248, 0.0011045761718469875), (249, 0.0013525286623382012), (250, 0.0013275925377737275), (251, 0.001125037270277673), (252, 0.0), (253, 0.001259628640706326), (254, 0.016097941803288038), (255, 0.001317654768819568), (256, 0.0), (257, 0.011738256345945105), (258, 0.0012905526964407071), (259, 0.0011630152451586615), (260, 0.0010842023286521158), (261, 0.001175142108901434), (262, 0.0012133349743790433), (263, 0.001209294568195178), (264, 0.001191009857186255), (265, 0.0011426089250822183), (266, 0.0012359355254543218), (267, 0.0), (268, 0.00111080973448574), (269, 0.001186979378250429), (270, 0.0012725341984292883), (271, 0.014285027818281603), (272, 0.0011925111841022498), (273, 0.0011299675630034448), (274, 0.0013315211948018075), (275, 0.032797531722017256), (276, 0.0011895487110782149), (277, 0.011660767732058637), (278, 0.0013612651723153358), (279, 0.017314898034618127), (280, 0.0011790124084163447), (281, 0.03930302706430971), (282, 0.0012528993403612884), (283, 0.0013236281146093351), (284, 0.0012809411417984643), (285, 0.0011906367683552233), (286, 0.04541024262209552), (287, 0.0012110347561939297), (288, 0.0011480233399836627), (289, 0.000990277696423595), (290, 0.0010781751815222066), (291, 0.0011998423949661375), (292, 0.01553823699997026), (293, 0.0), (294, 0.0011100941703285053), (295, 0.0011398724566925205), (296, 0.0), (297, 0.012108623111816796), (298, 0.011957418900780505), (299, 0.011278672242132547), (300, 0.01112372557682392), (301, 0.011860949328780727), (302, 0.0013053925176759547), (303, 0.0012578992151643365), (304, 0.0013240747131788456), (305, 0.0012684293850847028), (306, 0.0012058562894683082), (307, 0.001299911143520875), (308, 0.01154286729931916), (309, 0.014630561848943591), (310, 0.0012311935193811698), (311, 0.0011615969667656816), (312, 0.01602727479298673), (313, 0.0012568497045365118), (314, 0.0010656546660105764), (315, 0.001266902840500694), (316, 0.0010901282083491959), (317, 0.01462345567399896), (318, 0.0012800435798118542), (319, 0.0010994326628016003), (320, 0.001358627038581955), (321, 0.001154702358086637), (322, 0.0012146067391287463), (323, 0.0011725880861382118), (324, 0.016136605819224697), (325, 0.0011598720438504059), (326, 0.0013591131962192038), (327, 0.0012183736183895922), (328, 0.0012018146280296756), (329, 0.0011556224196277284), (330, 0.0011814003914714846), (331, 0.0011949826993524826), (332, 0.00125643957147662), (333, 0.001130934160130222), (334, 0.01704300360564401), (335, 0.02722119111537467), (336, 0.0010106579621710864), (337, 0.0341171865780371), (338, 0.0011344597337994136), (339, 0.0012846963827747168), (340, 0.011992696442102106), (341, 0.056551232277802066), (342, 0.0013759624689674357), (343, 0.0011791041221699053), (344, 0.011434532125493295), (345, 0.012248794681285728), (346, 0.04140753779963454), (347, 0.03079489109639573), (348, 0.0012302702090997485), (349, 0.0012775427473237114), (350, 0.03158337502109896), (351, 0.027104305662789582), (352, 0.0013060689952189555), (353, 0.08747213057262887), (354, 0.001242171501055261), (355, 0.030863526599060744), (356, 0.0012453363946217707), (357, 0.001102704379306587), (358, 0.001197413277888153), (359, 0.0011021188893075699), (360, 0.03223193234693518), (361, 0.06273468522296125), (362, 0.06319471429675909), (363, 0.03119583805108308), (364, 0.0011451800242210759), (365, 0.031281874512755777), (366, 0.0011956090357005615), (367, 0.0013232641149542588), (368, 0.0013682806346779167), (369, 0.016317746843000063), (370, 0.03064228173822729), (371, 0.001353809906888013), (372, 0.0011312148378540686), (373, 0.001251595667648375), (374, 0.00125134603574626), (375, 0.0012315943159649327), (376, 0.0011571841953761971), (377, 0.0012159042829534663), (378, 0.0011828517909004534), (379, 0.029155021688695857), (380, 0.001326230743488116), (381, 0.0012249280749870336), (382, 0.0010951481502485098), (383, 0.010900099408617326), (384, 0.0013138634020046934), (385, 0.05277173880822187), (386, 0.0012329620369050422), (387, 0.0010673732577319282), (388, 0.0013137910518654166), (389, 0.0012445443459284877), (390, 0.001217438584874532), (391, 0.03289967231742593), (392, 0.02934375704853529), (393, 0.0011476199517299935), (394, 0.0011497619239400152), (395, 0.01726234416015199), (396, 0.0), (397, 0.0011692925368128229), (398, 0.0012196204263681524), (399, 0.0012431441259166704), (400, 0.0011723053388630813), (401, 0.013150009854293477), (402, 0.0013423738211237692), (403, 0.0010517783804608034), (404, 0.02089953047295417), (405, 0.01163024482545347), (406, 0.03422756692813905), (407, 0.011192893478764758), (408, 0.0011398839114757412), (409, 0.026449416346431855), (410, 0.020438749494498098), (411, 0.0011352664486885958), (412, 0.001168246466175094), (413, 0.01208763017883206), (414, 0.0011002304497810826), (415, 0.0012947202430593691), (416, 0.0010828274537359494), (417, 0.0010694144933557073), (418, 0.0013486409131596461), (419, 0.0012462006413765168), (420, 0.0012868303150756195), (421, 0.07762040337171143), (422, 0.0012522595146327027), (423, 0.028447671450193092), (424, 0.0013612160116641167), (425, 0.001391953423991404), (426, 0.001327517783571879), (427, 0.07131260271264676), (428, 0.027225214896859192), (429, 0.04198616398096749), (430, 0.0013012162855979565), (431, 0.0013121010975892513), (432, 0.0013399174328378419), (433, 0.0012079160835513805), (434, 0.0013884487227363352), (435, 0.001110129171938922), (436, 0.001418827646717976), (437, 0.009546142816292192), (438, 0.0010950351414269032), (439, 0.0012293287673996382), (440, 0.0012456700775559865), (441, 0.014604475612693431), (442, 0.0010703385053372056), (443, 0.0014262851908901151), (444, 0.0013194505927201304), (445, 0.025339915723161827), (446, 0.04988299125934554), (447, 0.0013643055921922663), (448, 0.0013968714149003843), (449, 0.0011284305537332068), (450, 0.0013108767070169854), (451, 0.028113903656698254), (452, 0.001008404233155751), (453, 0.0), (454, 0.01750857828144367), (455, 0.0013855307969512975), (456, 0.001397982975493311), (457, 0.026829075357717804), (458, 0.001464444704557427), (459, 0.08923787055432865), (460, 0.0013090569434961784), (461, 0.04716978297052691), (462, 0.001439972893545635), (463, 0.08180520253978477), (464, 0.001160110700534742), (465, 0.015156939234544179), (466, 0.0012231923635342289), (467, 0.0011867915141921066), (468, 0.0011761149346744245), (469, 0.0011080150981696805), (470, 0.011675812976541767), (471, 0.0011286931464765172), (472, 0.03830802428875007), (473, 0.013378516155271289), (474, 0.08334771736378603), (475, 0.0), (476, 0.0012125772548358187), (477, 0.0012072802558902934), (478, 0.0012592514678269504), (479, 0.0011960395496321396), (480, 0.0), (481, 0.0014495111767175123), (482, 0.0011599297065911763), (483, 0.0012684042157491873), (484, 0.0015922153946764024), (485, 0.001365243533222398), (486, 0.0011638998962162379), (487, 0.0010658437206788368), (488, 0.05977316245170797), (489, 0.01777598637670944), (490, 0.01262673091223464), (491, 0.0012815268132608827), (492, 0.0011856529422312244), (493, 0.0012760091029434151), (494, 0.0013163382878206133), (495, 0.0), (496, 0.0011563388443445188), (497, 0.010639944987343584), (498, 0.010767920182234502), (499, 0.0013972363403528497), (500, 0.034962288179319345), (501, 0.0013347643759240358), (502, 0.001314770086659855), (503, 0.001140582642206281), (504, 0.0011908405022207622), (505, 0.0010372616417265905), (506, 0.001157698663684926), (507, 0.026787470130777175), (508, 0.001346153955147797), (509, 0.001276423907067699), (510, 0.0), (511, 0.010653433578162556), (512, 0.0014692289911019468), (513, 0.0014312076487825202), (514, 0.0012754759398594738), (515, 0.0011034329197836276), (516, 0.001374869643504472), (517, 0.03592297039152413), (518, 0.0013050012614619793), (519, 0.00984851114240558), (520, 0.0013134162940246278), (521, 0.0012888068965273768), (522, 0.012246277809698142), (523, 0.0013774282188503397), (524, 0.02493851214703735), (525, 0.001216895079226837), (526, 0.0013951953763216218), (527, 0.008500471147238953), (528, 0.011066468130851003), (529, 0.0013126060842514847), (530, 0.001394543196006758), (531, 0.0014515356004277588), (532, 0.0012951460653662266), (533, 0.001254357461251427), (534, 0.0012028638055290844), (535, 0.0011630772878299129), (536, 0.001235932727615575), (537, 0.0013088656458940316), (538, 0.0010965376606752938), (539, 0.0011698084383962976), (540, 0.08597722577440373), (541, 0.001320123477205972), (542, 0.0012094113740152251), (543, 0.0012810576384707402), (544, 0.0013193193966310286), (545, 0.0011065209911896524), (546, 0.011048253726514613), (547, 0.0), (548, 0.06597887233695443), (549, 0.023850939527471887), (550, 0.0013722754411172847), (551, 0.0012416298854527436), (552, 0.0012480617436400633), (553, 0.0012674032408311487), (554, 0.0012277388607265013), (555, 0.0011532556933174357), (556, 0.0011597365350895662), (557, 0.0011795732681105255), (558, 0.0011705997190205536), (559, 0.0), (560, 0.001375008137697952), (561, 0.0012373162957394284), (562, 0.0011358479276927626), (563, 0.0014152502078369586), (564, 0.001163473103414651), (565, 0.0011423974450191126), (566, 0.0011046985759780642), (567, 0.0012308113465852495), (568, 0.0011497045933910165), (569, 0.0324145207007869), (570, 0.0017094401336039842), (571, 0.0011651439586096), (572, 0.0012589340460213566), (573, 0.0011970317517768724), (574, 0.0012887787242799624), (575, 0.0010052660491808006), (576, 0.01160899683811007), (577, 0.0012510108787465103), (578, 0.049957670513578266), (579, 0.0012298899127691975), (580, 0.0013047333769975692), (581, 0.0014060609726597548), (582, 0.0014889986461213882), (583, 0.0012491191240758823), (584, 0.032801789286637795), (585, 0.016097581525908105), (586, 0.001315658063629158), (587, 0.0013265481899050642), (588, 0.001220284586898181), (589, 0.0012846459447620746), (590, 0.0012637615452429686), (591, 0.001285334187859287), (592, 0.0012550634323863833), (593, 0.0011323192390446735), (594, 0.033871453793512744), (595, 0.0012165389856086588), (596, 0.04481985536968792), (597, 0.011017337811104831), (598, 0.0011039492935766156), (599, 0.001221061193669711), (600, 0.016179110399813262), (601, 0.0013209163295497429), (602, 0.0013165199162458422), (603, 0.001276879685732828), (604, 0.0010984615903270611), (605, 0.001327575313640186), (606, 0.0013298935124683715), (607, 0.014875899522948651), (608, 0.0011255048718783625), (609, 0.0011395844048940151), (610, 0.0011778351395265512), (611, 0.011904615652818851), (612, 0.0014384577180342176), (613, 0.0011833017737824278), (614, 0.001414555607114048), (615, 0.05446838464323413), (616, 0.0011662980175546006), (617, 0.001111876140077923), (618, 0.0011319700695806441), (619, 0.08491266815210154), (620, 0.04243848779393265), (621, 0.0012765713866959747), (622, 0.0013976096684891358), (623, 0.0013686727188568558), (624, 0.07449228162442369), (625, 0.00117329610002926), (626, 0.0013039124061221489), (627, 0.0014475403910753817), (628, 0.01574458179477079), (629, 0.02127821207500616), (630, 0.001327748166987069), (631, 0.0012486530178474596), (632, 0.0), (633, 0.0012717028040584904), (634, 0.001239254991931766), (635, 0.001320201056821161), (636, 0.0012120041344419574), (637, 0.0012950302230332294), (638, 0.0012562938703426535), (639, 0.0011404755646019457), (640, 0.08227837108395852), (641, 0.019944723175191487), (642, 0.0012208700405704782), (643, 0.07966759046857397), (644, 0.0), (645, 0.0), (646, 0.028116723095922714), (647, 0.0), (648, 0.0010928109895856875), (649, 0.0011901147080138953), (650, 0.0011656201647501129), (651, 0.028346682796122423), (652, 0.0012077769062967829), (653, 0.0012026301896711172), (654, 0.001273871315344185), (655, 0.001193757332861739), (656, 0.001279431693146763), (657, 0.011291434733564932), (658, 0.0013354340655934798), (659, 0.0012467079855015754), (660, 0.0013139734956301341), (661, 0.001140639414829448), (662, 0.04231482019550303), (663, 0.0012700149800269065), (664, 0.0012370198305024832), (665, 0.0012528942460477927), (666, 0.0013481225757389491), (667, 0.0011584800338996196), (668, 0.001091153378144931), (669, 0.0011943058856439149), (670, 0.0015666492230171879), (671, 0.0012498283858260713), (672, 0.0), (673, 0.0013678375762172818), (674, 0.01756640744479733), (675, 0.0013264233612871787), (676, 0.001364630210187351), (677, 0.00133806272549815), (678, 0.0015928989381454864), (679, 0.0014453846519030804), (680, 0.001233223645200921), (681, 0.0014203325551927178), (682, 0.0013716990710966387), (683, 0.001380708944934783), (684, 0.0011958541203434512), (685, 0.0012861126682455828), (686, 0.01194038913021743), (687, 0.0015448679053331497), (688, 0.0013226995026270742), (689, 0.016478482711944728), (690, 0.0015535076113717527), (691, 0.08701677221844098), (692, 0.0011209905511046572), (693, 0.013274169812845777), (694, 0.0012189411712513307), (695, 0.06457860817668702), (696, 0.001299790062183478), (697, 0.0011816664327032082), (698, 0.08156243812692501), (699, 0.0013056449825486532), (700, 0.01292208237041556), (701, 0.0013367836780083812), (702, 0.0012898246068515896), (703, 0.010719018472780045), (704, 0.0011813326220300512), (705, 0.06944782492057058), (706, 0.030491741363064113), (707, 0.0010241017610087225), (708, 0.0014447943549354425), (709, 0.001355980087389632), (710, 0.001037692184374979), (711, 0.00155860971916272), (712, 0.02417715079097593), (713, 0.011302278191063643), (714, 0.018293542887067263), (715, 0.011773061363304077), (716, 0.00136338941897846), (717, 0.011105195453593005), (718, 0.0011777864030215206), (719, 0.001208142301294107), (720, 0.008753965021104057), (721, 0.0012665142332934584), (722, 0.001046393720023173), (723, 0.0011992130221563405), (724, 0.05249506043358534), (725, 0.010621573597653174), (726, 0.009247560945344716), (727, 0.0013127044018567571), (728, 0.0013720618857032815), (729, 0.0014057144740851743), (730, 0.06708534870270891), (731, 0.0013986612023454152), (732, 0.0013160758713592331), (733, 0.0011346746363374203), (734, 0.0011449661341481029), (735, 0.0015226664982563567), (736, 0.0014866278685319648), (737, 0.0013284027057104877), (738, 0.0013503635657302491), (739, 0.0013267555392539282), (740, 0.0012113062177282652), (741, 0.0012750021254354428), (742, 0.014957719025172157), (743, 0.041516348772011304), (744, 0.0012236350430553013), (745, 0.010850190355126205), (746, 0.001150313431909619), (747, 0.0013362779307264977), (748, 0.0013170427435702538), (749, 0.0012896390528327737), (750, 0.0012863198537735696), (751, 0.0015153736037084988), (752, 0.10527737589047619), (753, 0.04581403906034404), (754, 0.001362647266391456), (755, 0.04617274828397298), (756, 0.0011835639666792081), (757, 0.0012617091140333283), (758, 0.0013071774072075336), (759, 0.0011431285810498259), (760, 0.0013570902244568672), (761, 0.0), (762, 0.001201888594568582), (763, 0.001141819523997443), (764, 0.0016264455128346326), (765, 0.0012440755802648926), (766, 0.0), (767, 0.0011799227738557348), (768, 0.040954576686265266), (769, 0.016414433448928283), (770, 0.0010832039841101556), (771, 0.0013382264711146593), (772, 0.001280962643058382), (773, 0.012762144929092103), (774, 0.0013548189386553226), (775, 0.0011076562145839453), (776, 0.0011817054491805902), (777, 0.0013261806305735553), (778, 0.03878098427861627), (779, 0.0), (780, 0.0012540403004518063), (781, 0.013178653276608292), (782, 0.001266912480797692), (783, 0.0011600485657908912), (784, 0.0011459524904655946), (785, 0.0011341187860030948), (786, 0.0011353490474880583), (787, 0.04357458081611662), (788, 0.0013327627250210245), (789, 0.001143775524868772), (790, 0.0011672325029727095), (791, 0.0014691345907165624), (792, 0.0013020712238261062), (793, 0.0014009063374519843), (794, 0.06054471089349859), (795, 0.001459148692996838), (796, 0.0010889421285193816), (797, 0.019923205825383563), (798, 0.0012034030418590852), (799, 0.001165988629665148), (800, 0.0011737762129209026), (801, 0.0011697654269571592), (802, 0.020755185098306927), (803, 0.0012235268939224742), (804, 0.0012473775253644334), (805, 0.001215233266871823), (806, 0.0014017755485136564), (807, 0.011071319805026302), (808, 0.0013394768691016685), (809, 0.0012213170023939316), (810, 0.0012973269805575643), (811, 0.0012327709274440363), (812, 0.0011348976673629647), (813, 0.00138768008980934), (814, 0.0012495602928716302), (815, 0.0011618610612610086), (816, 0.000995386108883217), (817, 0.024073394897883186), (818, 0.001176677961338501), (819, 0.01838721767034042), (820, 0.001242278144232401), (821, 0.016499105691228318), (822, 0.0013086117226856642), (823, 0.0012670370061332358), (824, 0.009771750335094764), (825, 0.0013551126923514341), (826, 0.001186228306847605), (827, 0.0011298163407267912), (828, 0.0010915320789241156), (829, 0.0010393294919942902), (830, 0.0014082789085013499), (831, 0.013189600407038638), (832, 0.0012928634761211937), (833, 0.0012965079403769915), (834, 0.001361759478140978), (835, 0.0012615353789678975), (836, 0.010558317920802964), (837, 0.0011632496325487572), (838, 0.0), (839, 0.0014835000241752547), (840, 0.0013037074122415366), (841, 0.0013584815584530606), (842, 0.0014302912131096265), (843, 0.015428669617544563), (844, 0.0012954837882661332), (845, 0.0014412142397523672), (846, 0.0012233762143932984), (847, 0.018506278682805417), (848, 0.0012467688497027458), (849, 0.017101160582641328), (850, 0.05598688508053148), (851, 0.0011436754651368256), (852, 0.04291170621220009), (853, 0.030616066497967658), (854, 0.05606905981915323), (855, 0.0013308982634632736), (856, 0.02862715339458062), (857, 0.0013055579899255286), (858, 0.0012137210696561414), (859, 0.01235045306552424), (860, 0.0012781939551592988), (861, 0.0), (862, 0.001053958962144656), (863, 0.0265269019249938), (864, 0.0012079258887404023), (865, 0.0013250326910444474), (866, 0.0011179588751274313), (867, 0.0012535105193962036), (868, 0.0012564213191694513), (869, 0.001318658134640936), (870, 0.001241135670488515), (871, 0.001202957433066457), (872, 0.017052678790905402), (873, 0.001241489939087791), (874, 0.001177191648207289), (875, 0.0014418659874750814), (876, 0.0012722354232653158), (877, 0.0011860144732025884), (878, 0.0013359855014483473), (879, 0.03294711878035559), (880, 0.03155155418167473), (881, 0.0012502998112100207), (882, 0.014327103964336483), (883, 0.0012015442096749475), (884, 0.02972332968880477), (885, 0.0012062634120227097), (886, 0.0011326660734901186), (887, 0.05559945415767056), (888, 0.0013583507889877683), (889, 0.0014150579587200848), (890, 0.001224893473420315), (891, 0.001367831834920937), (892, 0.0011968922019507762), (893, 0.0011278398838553728), (894, 0.0012121862053698382), (895, 0.0012122750434628512), (896, 0.0013545520867534807), (897, 0.001224828168632473), (898, 0.0010884403443027298), (899, 0.028673992780411106), (900, 0.02683873477706545), (901, 0.024492820990650407), (902, 0.0012071274272747942), (903, 0.0010419331196551793), (904, 0.001373153522876593), (905, 0.001438805793384597), (906, 0.0011595603766542371), (907, 0.0011013167118595845), (908, 0.0012327179037966126), (909, 0.028180399474278996), (910, 0.0013481942028046381), (911, 0.0014088293876372098), (912, 0.025876980847658566), (913, 0.0012523711656982866), (914, 0.0013728060315240053), (915, 0.032703553437884385), (916, 0.0012510090093310613), (917, 0.0), (918, 0.0012847585405524786), (919, 0.001253477650499195), (920, 0.025647022139394668), (921, 0.0011195154308980756), (922, 0.0012401435755865808), (923, 0.0012128930899846246), (924, 0.001043769711087683), (925, 0.0012826610921623945), (926, 0.042589804709213655), (927, 0.001196989054823271), (928, 0.0015564098177151958), (929, 0.0008438379782539718), (930, 0.0013763049290781715), (931, 0.001218238793450256), (932, 0.07064019832274561), (933, 0.0), (934, 0.0012677134398150474), (935, 0.015511685310990704), (936, 0.0012254609650567837), (937, 0.0012956784809572232), (938, 0.0013082909724504539), (939, 0.0014599396915401116), (940, 0.01032479618200318), (941, 0.0010450050266880718), (942, 0.0010627347438974192), (943, 0.0011140437951050034), (944, 0.0011344415155537355), (945, 0.001256576164136648), (946, 0.0126765625234737), (947, 0.0015019657557403174), (948, 0.03876790126464097), (949, 0.001381314548295364), (950, 0.0013827201960001669), (951, 0.0009970994239179517), (952, 0.001550267458971322), (953, 0.001149469623003003), (954, 0.03304676478076244), (955, 0.0014199723676819865), (956, 0.001270441622877757), (957, 0.0013071522187140005), (958, 0.0011455400525248029), (959, 0.0013084386441892222), (960, 0.0012856451365674006), (961, 0.028794289613221), (962, 0.0012691335086448116), (963, 0.00108146086023774), (964, 0.001047257740424665), (965, 0.0012478873884959598), (966, 0.00113737274675261), (967, 0.001582505158972958), (968, 0.0), (969, 0.0013437580008236985), (970, 0.0010745337848835949), (971, 0.017041783723858273), (972, 0.0011493054228263165), (973, 0.0012607915931373771), (974, 0.0011314943000643332), (975, 0.001154916479800106), (976, 0.03053654501800361), (977, 0.01186574725226487), (978, 0.015541450194164674), (979, 0.0010521823866140323), (980, 0.0012387609772201522), (981, 0.001288317811507398), (982, 0.0014506124878224417), (983, 0.001174415255442043), (984, 0.001234346885675782), (985, 0.0014226582385391308), (986, 0.0), (987, 0.0012757633606187244), (988, 0.0731219995143242), (989, 0.06122438949252813), (990, 0.0013696059980734473), (991, 0.0013308219005832348), (992, 0.0012996249053115012), (993, 0.0012510438110113916), (994, 0.0012731457930379576), (995, 0.0012197536839001738), (996, 0.0015734116699941249), (997, 0.001182871874915556), (998, 0.01667577689528277), (999, 0.0012576197135000594), (1000, 0.0010774213182359455), (1001, 0.0012343584483635232), (1002, 0.038118345693824676), (1003, 0.0012179747958947671), (1004, 0.0152510048390804), (1005, 0.0), (1006, 0.016090663619455388), (1007, 0.001326420201419224), (1008, 0.02591432648666076), (1009, 0.013303527370530057), (1010, 0.0012086939482937147), (1011, 0.03280136877244317), (1012, 0.0011774332690442698), (1013, 0.011897834290116266), (1014, 0.02294232293545594), (1015, 0.0013991745065011238), (1016, 0.02898565336123047), (1017, 0.0012704566344789393), (1018, 0.0012045925587760482), (1019, 0.0), (1020, 0.0010613223194674848), (1021, 0.030736584618748015), (1022, 0.0012064864258010692), (1023, 0.0014797509352416107), (1024, 0.0012844753198323297), (1025, 0.0260866828608736), (1026, 0.0012425550134642614), (1027, 0.0012506389556352754), (1028, 0.0012513361718629204), (1029, 0.0012136764405172862), (1030, 0.0), (1031, 0.0012662825677561885), (1032, 0.0011118268729185736), (1033, 0.001197248795670388), (1034, 0.0011520838981695356), (1035, 0.0011349165049212603), (1036, 0.0012468323192234864), (1037, 0.0), (1038, 0.06785442256027478), (1039, 0.001249311688074453), (1040, 0.01045883206951257), (1041, 0.06516481176406604), (1042, 0.0009734091659626714), (1043, 0.0013703795751140323), (1044, 0.0011959564718676053), (1045, 0.0011776313755939847), (1046, 0.02869701141915158), (1047, 0.0013877868651204777), (1048, 0.0012551074573350376), (1049, 0.017491661923392188), (1050, 0.05068937641979588), (1051, 0.0013600903616963942), (1052, 0.0012308957174584634), (1053, 0.0013069112737058117), (1054, 0.0012606452848680646), (1055, 0.0010906202406796384), (1056, 0.0012888992370527449), (1057, 0.03213585827701481), (1058, 0.0014248457965708723), (1059, 0.0013364359474686486), (1060, 0.001211366017204092), (1061, 0.0013241359797646743), (1062, 0.014978680143108115), (1063, 0.001220603590803772), (1064, 0.0013478919745439485), (1065, 0.0010232488151802068), (1066, 0.0011737300531602657), (1067, 0.07628038579333658), (1068, 0.001135971337188234), (1069, 0.001337862349708675), (1070, 0.0), (1071, 0.0014441496569901303), (1072, 0.08878817200868001), (1073, 0.015184951346349784), (1074, 0.0012579021985963234), (1075, 0.001198153346513256), (1076, 0.06748999782179768), (1077, 0.014840722254536634), (1078, 0.0009941697382780939), (1079, 0.03817284093158445), (1080, 0.0011928471826318826), (1081, 0.0), (1082, 0.0012170975747062384), (1083, 0.0011436064102355945), (1084, 0.01633966565722611), (1085, 0.029787116936623947), (1086, 0.00107796425430772), (1087, 0.0012706137302244895), (1088, 0.013238926450120418), (1089, 0.001249143086792939), (1090, 0.0012632389118724437), (1091, 0.001265785780350658), (1092, 0.07519893111202995), (1093, 0.001147849496215486), (1094, 0.042281033908878024), (1095, 0.03244627237716242), (1096, 0.0012263179916577342), (1097, 0.0013545145232481295), (1098, 0.0), (1099, 0.0013002845484592117), (1100, 0.0013105693250468756), (1101, 0.0012912935984689044), (1102, 0.0012823508481660233), (1103, 0.01758897657671223), (1104, 0.01693013049048927), (1105, 0.0012631630867406922), (1106, 0.001271399576725034), (1107, 0.06760554007738107), (1108, 0.0011978704206525653), (1109, 0.0013631787565850264), (1110, 0.0013739477903674682), (1111, 0.0012675123679191805), (1112, 0.017568397474650825), (1113, 0.0012061372668274934), (1114, 0.027353346912625552), (1115, 0.001104053930202003), (1116, 0.011372739807685845), (1117, 0.0011895207220467266), (1118, 0.0012506413848973436), (1119, 0.0012566836825854766), (1120, 0.0012128938498298495), (1121, 0.001378277431414071), (1122, 0.0012704069687473017), (1123, 0.0011380073126662138), (1124, 0.001259146468610392), (1125, 0.0011846908138915253), (1126, 0.0012555204920039148), (1127, 0.0012556948352569616), (1128, 0.0011856167597323693), (1129, 0.0012283565148108757), (1130, 0.001303862919873454), (1131, 0.0012592226007124747), (1132, 0.017345373971677517), (1133, 0.0013095317259153832), (1134, 0.0012672384368242488), (1135, 0.0010880027158430127), (1136, 0.0011061183118837457), (1137, 0.0011677724898362767), (1138, 0.0013945177455604988), (1139, 0.0012361535054680572), (1140, 0.0013142110514278167), (1141, 0.012116869316853051), (1142, 0.04234514384291058), (1143, 0.0013334171996944681), (1144, 0.008299971040954464), (1145, 0.001541493690409391), (1146, 0.001178309591543191), (1147, 0.0011583729955371592), (1148, 0.0012591610737618375), (1149, 0.0011543869956447974), (1150, 0.001285911610545765), (1151, 0.0012326123206857732), (1152, 0.001232579261224105), (1153, 0.0010345009862903485), (1154, 0.001291304623803083), (1155, 0.011812987560687079), (1156, 0.0011449149415290495), (1157, 0.0012681012289380688), (1158, 0.0012445520052976789), (1159, 0.001202580734649999), (1160, 0.0), (1161, 0.013881165473000149), (1162, 0.02596822440561935), (1163, 0.028632157010224812), (1164, 0.000965576174932139), (1165, 0.03157155173904601), (1166, 0.02952367926462455), (1167, 0.0012886772463367954), (1168, 0.013928842085517505), (1169, 0.0014108428679781612), (1170, 0.00126837919983157), (1171, 0.014564133717081887), (1172, 0.0012855366093308636), (1173, 0.0011848148494362214), (1174, 0.0012398095513290002), (1175, 0.0013214317735554492), (1176, 0.11095793896900469), (1177, 0.0010944453101185542), (1178, 0.0014163340509158644), (1179, 0.0012662800169371898), (1180, 0.0012419861243241498), (1181, 0.0010962171347422055), (1182, 0.11587794932187268), (1183, 0.0), (1184, 0.0013198120832560336), (1185, 0.0012370518721873775), (1186, 0.0011212228299100617), (1187, 0.001303607929327313), (1188, 0.0012511128844184677), (1189, 0.03285211735819804), (1190, 0.0011211099031746873), (1191, 0.0013677434443145511), (1192, 0.0013863679558404922), (1193, 0.0012758860146482103), (1194, 0.0010499748457859133), (1195, 0.05357509791862975), (1196, 0.012480836711296331), (1197, 0.0011640918342090013), (1198, 0.026884070923664797), (1199, 0.001186130083791598), (1200, 0.001097801781337949), (1201, 0.0), (1202, 0.013863661656083852), (1203, 0.0011827666435171066), (1204, 0.01196003333350492), (1205, 0.0012563603635477128), (1206, 0.01157231654401975), (1207, 0.0011845255008017363), (1208, 0.001496798106318121), (1209, 0.0), (1210, 0.001126660967320721), (1211, 0.0011184296835220315), (1212, 0.001193718270247712), (1213, 0.0010848679637074157), (1214, 0.0011263517547195165), (1215, 0.0), (1216, 0.0012540370100740533), (1217, 0.019789654438335483), (1218, 0.0012002452559417597), (1219, 0.0012741842462997844), (1220, 0.0012759154704531817), (1221, 0.0011168198025534363), (1222, 0.011947737677948845), (1223, 0.030602827095839814), (1224, 0.001365289819467388), (1225, 0.0012800212917069744), (1226, 0.0012180182231227672), (1227, 0.0013298765617327513), (1228, 0.0013527754431215731), (1229, 0.0013907472634529616), (1230, 0.0012337911152135984), (1231, 0.016509948386676916), (1232, 0.0012341791528954597), (1233, 0.0013364400110473518), (1234, 0.0012854497154093773), (1235, 0.011829408926702858), (1236, 0.001223183781108509), (1237, 0.0012166587624288297), (1238, 0.0011990192973182342), (1239, 0.001203629495169535), (1240, 0.001232718078835669), (1241, 0.038471996972751304), (1242, 0.0012142040845274172), (1243, 0.0013854057944421036), (1244, 0.0012647798227580396), (1245, 0.0011996192399343717), (1246, 0.02955153030782422), (1247, 0.0012963810742310483), (1248, 0.0013056896849089454), (1249, 0.0010940066308662913), (1250, 0.0012759322091748229), (1251, 0.10651628716292356), (1252, 0.001278055068205606), (1253, 0.0012560257376141712), (1254, 0.0013690471065549218), (1255, 0.027230763352249297), (1256, 0.0012575862430133974), (1257, 0.08868515493270383), (1258, 0.0014663639986157817), (1259, 0.001116127142794081), (1260, 0.0013245264320310062), (1261, 0.0012517780427395275), (1262, 0.001193101228976209), (1263, 0.0012906882376200006), (1264, 0.0013205453641590666), (1265, 0.0012735348409667363), (1266, 0.0012043379254337353), (1267, 0.001325067888553571), (1268, 0.010029551800697537), (1269, 0.0012469580580009713), (1270, 0.0011956995977672595), (1271, 0.0013855394707334946), (1272, 0.0012628136099867144), (1273, 0.0010931733756672014), (1274, 0.0011754554987015572), (1275, 0.001333607625937257), (1276, 0.04968721397853188), (1277, 0.0009166430268036436), (1278, 0.0012622354144849015), (1279, 0.0013306622079198656), (1280, 0.001279753086725265), (1281, 0.0011992280699087694), (1282, 0.0012214981302398173), (1283, 0.0011180482081184938), (1284, 0.07689929360966248), (1285, 0.018033495092143886), (1286, 0.0013302587309736674), (1287, 0.0011527656736350436), (1288, 0.0012167910034831461), (1289, 0.0009731183404741252), (1290, 0.0011822815821691814), (1291, 0.028498227597373825), (1292, 0.0175133243698993), (1293, 0.0011405396313015409), (1294, 0.0012466638888916036), (1295, 0.00141359050352213), (1296, 0.0012752674067483807), (1297, 0.0012091187485883345), (1298, 0.011401380583918817), (1299, 0.0011703062268335579), (1300, 0.010849841299495983), (1301, 0.0012897639190726352), (1302, 0.0012758991631420724), (1303, 0.0011506042486973198), (1304, 0.0012641661077545658), (1305, 0.0012190707650960569), (1306, 0.0012151390951374804), (1307, 0.02723312327421798), (1308, 0.010905600403291773), (1309, 0.03481192850293889), (1310, 0.010889547078520532), (1311, 0.04000443486748629), (1312, 0.0010589875521680697), (1313, 0.0011959961242339644), (1314, 0.0012515746771968482), (1315, 0.0011578974662019813), (1316, 0.0010623805230345715), (1317, 0.0011472771398444322), (1318, 0.001307336256248212), (1319, 0.06960405987860911), (1320, 0.0), (1321, 0.0014469277862254077), (1322, 0.0013148746458083323), (1323, 0.014986709856148717), (1324, 0.0012394579449408617), (1325, 0.001409393226060542), (1326, 0.0012818837329917736), (1327, 0.10844532805416607), (1328, 0.01228468249082124), (1329, 0.0013196979265546838), (1330, 0.0012546323726733155), (1331, 0.0010970680750950076), (1332, 0.0013139370777315892), (1333, 0.029977948207616355), (1334, 0.0013272712390354025), (1335, 0.0014390402228279795), (1336, 0.029382662453480392), (1337, 0.0012875307678364499), (1338, 0.04344348075716346), (1339, 0.03183756750530533), (1340, 0.0011091241828739284), (1341, 0.0011455541968267077), (1342, 0.0011678852385003196), (1343, 0.0014274336658884814), (1344, 0.001322237222945389), (1345, 0.0014466474600707503), (1346, 0.001173956369719334), (1347, 0.0011805717995504697), (1348, 0.026953343363511486), (1349, 0.0013437898790365694), (1350, 0.0), (1351, 0.03880002609177822), (1352, 0.014589988145755389), (1353, 0.001169719946028901), (1354, 0.0011759550811905317), (1355, 0.0012298370416385475), (1356, 0.036914628577669514), (1357, 0.0013319623297648052), (1358, 0.011226105572917257), (1359, 0.0012764417158005557), (1360, 0.0011296791538825482), (1361, 0.011156560012769271), (1362, 0.001251003952221499), (1363, 0.0014089759933650944), (1364, 0.05318676657312635), (1365, 0.015956803971367062), (1366, 0.0013224154449491406), (1367, 0.0011362470549643015), (1368, 0.010644433136142502), (1369, 0.001063530955211257), (1370, 0.010053359307884313), (1371, 0.001633327883489804), (1372, 0.001169702070335787), (1373, 0.02497540065127287), (1374, 0.0012438058781281199), (1375, 0.0012568877746536007), (1376, 0.026168438445897366), (1377, 0.0010026641126300697), (1378, 0.0012090083235211317), (1379, 0.0012787711708389276), (1380, 0.0012868242894111543), (1381, 0.0013459259223388767), (1382, 0.0012945349052025502), (1383, 0.03199325014798772), (1384, 0.0012195994884899078), (1385, 0.001238178312332288), (1386, 0.0012481421344613948), (1387, 0.0014105454467609542), (1388, 0.0011656795128065175), (1389, 0.03856467524256853), (1390, 0.0013294463048541386), (1391, 0.0012965416546266066), (1392, 0.0011928656232714939), (1393, 0.0013894998388627653), (1394, 0.010939126344289648), (1395, 0.001000782012069067), (1396, 0.0012844935782366327), (1397, 0.013492565986475144), (1398, 0.001401306034710491), (1399, 0.0011870172567472698), (1400, 0.0012488896019526177), (1401, 0.0013032559859499741), (1402, 0.0012678795416075197), (1403, 0.034310955695381846), (1404, 0.0012885944936935495), (1405, 0.08591492669147797), (1406, 0.016095497017310664), (1407, 0.0012723006899283305), (1408, 0.0011584415787555297), (1409, 0.07094030642020543), (1410, 0.0012513611042331916), (1411, 0.0011813187972036878), (1412, 0.0013157261701055164), (1413, 0.001230129785412046), (1414, 0.0010721058202145016), (1415, 0.0009137427739330363), (1416, 0.001309923353002807), (1417, 0.0011661175751313576), (1418, 0.0009699149399129262), (1419, 0.001319616903261529), (1420, 0.0012623969597727715), (1421, 0.015575257539247054), (1422, 0.0011752132280835827), (1423, 0.010769232063574124), (1424, 0.0012721366405049484), (1425, 0.011510490794085513), (1426, 0.0012925053961295708), (1427, 0.03503666662990665), (1428, 0.0012345871056911012), (1429, 0.0013390104719878696), (1430, 0.0011973428132622485), (1431, 0.0012542828697126361), (1432, 0.0012593976978916791), (1433, 0.06813965069051596), (1434, 0.0010187359176774492), (1435, 0.0013332900408943706), (1436, 0.0013726067453852487), (1437, 0.001530905426309445), (1438, 0.0012362701043134234), (1439, 0.0012392670331391885), (1440, 0.001239769848383508), (1441, 0.001279460166767598), (1442, 0.0013740182059063678), (1443, 0.0013701255978585685), (1444, 0.0011003081502937695), (1445, 0.0013288193782202962), (1446, 0.001191329086895197), (1447, 0.016699264425501036), (1448, 0.0011004669591775345), (1449, 0.0011697408177581184), (1450, 0.0013756189738050033), (1451, 0.010412659778763425), (1452, 0.0012615018673799588), (1453, 0.0011916234119646047), (1454, 0.0014455537354371635), (1455, 0.0012162812363971614), (1456, 0.0014030765940388152), (1457, 0.0011183806459380212), (1458, 0.001333875434775145), (1459, 0.001246553099158926), (1460, 0.06531357703780521), (1461, 0.02452288096360891), (1462, 0.0011349014419962285), (1463, 0.010970735326273524), (1464, 0.015399436999083586), (1465, 0.04721513779572652), (1466, 0.013043378083368223), (1467, 0.00119264686476077), (1468, 0.0012002344210751519), (1469, 0.0013054179147403838), (1470, 0.0012193206279481293), (1471, 0.0010758937467345486), (1472, 0.0013455485546601741), (1473, 0.07309713396565025), (1474, 0.030531770017776613), (1475, 0.0012280675352205968), (1476, 0.0012375637915923703), (1477, 0.0599884763288986), (1478, 0.0013133285358644376), (1479, 0.0013741966142981942), (1480, 0.0012617249383525464), (1481, 0.03240756091214425), (1482, 0.024672846958937622), (1483, 0.0012836961262705354), (1484, 0.0333642985128286), (1485, 0.03056032486493928), (1486, 0.0014061986433065781), (1487, 0.010588719970949028), (1488, 0.001406171296361289), (1489, 0.001431007669275976), (1490, 0.0012434409696089525), (1491, 0.0012079463497892983), (1492, 0.014560295920339599), (1493, 0.0011043551680556113), (1494, 0.0012979407136850846), (1495, 0.028708602712650355), (1496, 0.04161175894220244), (1497, 0.0012583754353505095), (1498, 0.001356356090355106), (1499, 0.0012483638795713634), (1500, 0.0012763414656664735), (1501, 0.0012547871959936788), (1502, 0.0012226502899011168), (1503, 0.0012986058996934914), (1504, 0.0012473556604201286), (1505, 0.070234095662864), (1506, 0.0012421448953077255), (1507, 0.0013617497909573233), (1508, 0.0012197958144735423), (1509, 0.001326395835974539), (1510, 0.0013330656321108442), (1511, 0.0012679861308507617), (1512, 0.0011809625864881755), (1513, 0.010713719015962988), (1514, 0.001102576169266564), (1515, 0.0012529222433392672), (1516, 0.0012459308551755514), (1517, 0.0013168395719732233), (1518, 0.001440465562850962), (1519, 0.0010813275541704205), (1520, 0.01225699437251007), (1521, 0.028043837541881275), (1522, 0.01117330861675752), (1523, 0.07134627359949268), (1524, 0.08125579428827868), (1525, 0.011775859038329593), (1526, 0.0011769283964450372), (1527, 0.0012836394611720832), (1528, 0.0011805309762642675), (1529, 0.049420047844990926), (1530, 0.0011670827795922435), (1531, 0.012195112529343542), (1532, 0.016089373021201555), (1533, 0.001409194365769001), (1534, 0.0013145229098210425), (1535, 0.0009808694962424004), (1536, 0.0012595851089241), (1537, 0.022211211156303513), (1538, 0.0277652045295398), (1539, 0.010140306523215561), (1540, 0.0014132057495942199), (1541, 0.01145321465745283), (1542, 0.0013718994726731014), (1543, 0.0012113885084253436), (1544, 0.001336044450124294), (1545, 0.0011733893752214903), (1546, 0.0), (1547, 0.0), (1548, 0.0015290706551569638), (1549, 0.001166007453286742), (1550, 0.0012397398460428357), (1551, 0.0012204901632893984), (1552, 0.039333627024239974), (1553, 0.0011394243808029545), (1554, 0.0012668144545137582), (1555, 0.04203508144872738), (1556, 0.0011442437669208312), (1557, 0.11160734842416073), (1558, 0.00110574422775245), (1559, 0.0010959705526542155), (1560, 0.0012567974173560788), (1561, 0.01520433194028404), (1562, 0.0012542125629652653), (1563, 0.0012740149850559456), (1564, 0.02562350131974948), (1565, 0.0010335445968706026), (1566, 0.0012193780439406906), (1567, 0.0011494135575147234), (1568, 0.0012108190999654343), (1569, 0.0012686546477689183), (1570, 0.033412464194927924), (1571, 0.0011514465253220484), (1572, 0.0012111030979465678), (1573, 0.0012083240414119006), (1574, 0.037316962441234294), (1575, 0.0012669293709841288), (1576, 0.0011945041870812863), (1577, 0.0012997722635958657), (1578, 0.0460571713959122), (1579, 0.001230029877847761), (1580, 0.001316183195124892), (1581, 0.010855236936463678), (1582, 0.0012430795358777521), (1583, 0.0013156525034991424), (1584, 0.0012885372876775924), (1585, 0.0012245532391932327), (1586, 0.07114762889584461), (1587, 0.0011904804259161978), (1588, 0.0013503036906785894), (1589, 0.0012448361347018292), (1590, 0.0012357715674799956), (1591, 0.0012827368160235595), (1592, 0.001256932061878732), (1593, 0.0013421111766637542), (1594, 0.019249996782608667), (1595, 0.0011097133396231716), (1596, 0.0012848526018524587), (1597, 0.001280641421951837), (1598, 0.010892745695574703), (1599, 0.001317249315105844), (1600, 0.030667924995887656), (1601, 0.03431983330005508), (1602, 0.05175654599626786), (1603, 0.0012461928608341172), (1604, 0.01106136675214159), (1605, 0.0010803019882474716), (1606, 0.04376405152403996), (1607, 0.028614836658403732), (1608, 0.0012661022503641876), (1609, 0.03734044729134607), (1610, 0.010142382093558343), (1611, 0.001232911835408509), (1612, 0.0011886191987979312), (1613, 0.012708697974787662), (1614, 0.001305297937952529), (1615, 0.012712298935203384), (1616, 0.0012371703111203544), (1617, 0.0012455066198019025), (1618, 0.001205957525377667), (1619, 0.0012773182430370613), (1620, 0.0011765236078305715), (1621, 0.015977558587300676), (1622, 0.0011716167503486136), (1623, 0.0), (1624, 0.0011275980281202057), (1625, 0.013208991833248267), (1626, 0.0012309044518288446), (1627, 0.0), (1628, 0.0010106656067846176), (1629, 0.0012524521946156442), (1630, 0.0011897300037060044), (1631, 0.001160592835664528), (1632, 0.001210126367528652), (1633, 0.0011536308462322309), (1634, 0.029994407291953084), (1635, 0.0011220214239840336), (1636, 0.0012859780209818397), (1637, 0.001401754200702462), (1638, 0.0012354849427112476), (1639, 0.0011341817327598879), (1640, 0.0312718996225739), (1641, 0.0011410102211540276), (1642, 0.0011582919086175118), (1643, 0.029793084954675683), (1644, 0.0012343502420426647), (1645, 0.001192188139229314), (1646, 0.07365868575823767), (1647, 0.03977655159522318), (1648, 0.0010030287353031556), (1649, 0.001136373816926757), (1650, 0.0012908684559438848), (1651, 0.0010971158242801802), (1652, 0.0), (1653, 0.0011704329861534908), (1654, 0.0011499297551842624), (1655, 0.0013226994231461463), (1656, 0.0012633498736011992), (1657, 0.0010653421209875405), (1658, 0.0012222116617544032), (1659, 0.001277784323120714), (1660, 0.0012954613340441733), (1661, 0.0011995581328621177), (1662, 0.0012762904044520376), (1663, 0.015541918994232759), (1664, 0.05168498501165532), (1665, 0.0011146633304787263), (1666, 0.0014345137327326743), (1667, 0.015430909882176706), (1668, 0.0012754945813204307), (1669, 0.0014386882916504046), (1670, 0.010829588623395276), (1671, 0.0011394612023192118), (1672, 0.0010860714646823075), (1673, 0.05014294294505676), (1674, 0.0011987816011548589), (1675, 0.0012260328978576799), (1676, 0.00997158622573501), (1677, 0.0011195809069029468), (1678, 0.0012333033945082443), (1679, 0.00129723005295013), (1680, 0.0011564935421985176), (1681, 0.0013306856922082203), (1682, 0.0012851451906157605), (1683, 0.010758564926937053), (1684, 0.009865375143506345), (1685, 0.001164119082578203), (1686, 0.0011064917416686855), (1687, 0.00125403262632156), (1688, 0.0012800931035470873), (1689, 0.0013429383373447354), (1690, 0.010330900046902045), (1691, 0.0012228024843180182), (1692, 0.001177954153670917), (1693, 0.0011465982008018493), (1694, 0.0011862648359452748), (1695, 0.009003563945087192), (1696, 0.0011671249789003903), (1697, 0.011481541066256908), (1698, 0.034319578474272076), (1699, 0.0010203014713359203), (1700, 0.031404722293638096), (1701, 0.001264384062927286), (1702, 0.0013481338382523313), (1703, 0.0378868763209638), (1704, 0.030816295116702808), (1705, 0.001278055449474358), (1706, 0.027928243564750568), (1707, 0.0011824120374573904), (1708, 0.0011780219578505359), (1709, 0.0011717113685064987), (1710, 0.0013032951104432438), (1711, 0.032591833703628365), (1712, 0.024289096077044756), (1713, 0.011594339901804782), (1714, 0.07836442441982383), (1715, 0.06524273911342189), (1716, 0.0013357521882366205), (1717, 0.001245885422287559), (1718, 0.0012617943856189408), (1719, 0.001301155560253838), (1720, 0.045967688590925766), (1721, 0.0011284978940558775), (1722, 0.001214350042169989), (1723, 0.001287693865982612), (1724, 0.03169044313257263), (1725, 0.0013260361258073026), (1726, 0.05144953725427274), (1727, 0.001237430506884832), (1728, 0.0011635939093363387), (1729, 0.0011464235059553101), (1730, 0.0011095828864107658), (1731, 0.011536290181322432), (1732, 0.0011920461363696395), (1733, 0.0013610856707460927), (1734, 0.001272388428465232), (1735, 0.0), (1736, 0.0013342897210173723), (1737, 0.048496550833120905), (1738, 0.0012711906786235976), (1739, 0.0011667839904142714), (1740, 0.001255802597081041), (1741, 0.01825999832729575), (1742, 0.0011479095517962742), (1743, 0.0011599106655402432), (1744, 0.010270775847805311), (1745, 0.0), (1746, 0.0011540578530749082), (1747, 0.0010529383682401645), (1748, 0.001292199089344533), (1749, 0.0), (1750, 0.001176107121959383), (1751, 0.001261602542307219), (1752, 0.0011135773702140935), (1753, 0.0), (1754, 0.00130237249599977), (1755, 0.027479698818369373), (1756, 0.0011744137266377543), (1757, 0.0013433109994745926), (1758, 0.12782582300586437), (1759, 0.015686213781213668), (1760, 0.0012350948217545116), (1761, 0.001213619281423281), (1762, 0.015530345680590191), (1763, 0.0010614209614651267), (1764, 0.0011348261540563092), (1765, 0.0012878144314634264), (1766, 0.0120960846403037), (1767, 0.0013816880443288295), (1768, 0.017099233934922464), (1769, 0.029681443850598434), (1770, 0.0012874372134420399), (1771, 0.01138149369445821), (1772, 0.0011549052452289143), (1773, 0.0011407514353788662), (1774, 0.014392387074811318), (1775, 0.0012237118450923255), (1776, 0.0012864734080550023), (1777, 0.0013293711527617962), (1778, 0.016288458612653187), (1779, 0.0012761859436771221), (1780, 0.001278637492080206), (1781, 0.0010547415402157785), (1782, 0.0013687448638737471), (1783, 0.010977352010201365), (1784, 0.020415832585225533), (1785, 0.0012629615944463196), (1786, 0.0013900252795762825), (1787, 0.0011778666018855458), (1788, 0.033539996161443986), (1789, 0.0012151653637179837), (1790, 0.0013071693533964373), (1791, 0.0012603729784614831), (1792, 0.0012940010703491446), (1793, 0.0013243484910846492), (1794, 0.036581406250892484), (1795, 0.0011082776685436492), (1796, 0.001109251089262964), (1797, 0.001128914132458931), (1798, 0.0012776829379648334), (1799, 0.001484568313079612), (1800, 0.024894637560626105), (1801, 0.0010991910182775193), (1802, 0.0011850774875963005), (1803, 0.0013751064581381599), (1804, 0.010887344040779616), (1805, 0.0013573269969845833), (1806, 0.0014261657908303856), (1807, 0.0011920631664899114), (1808, 0.0012740594529265321), (1809, 0.0010560342206320402), (1810, 0.11027004587366988), (1811, 0.0012610966727202876), (1812, 0.031223326436374335), (1813, 0.09195021186071407), (1814, 0.0011982057939495267), (1815, 0.0013936874865213182), (1816, 0.0012596414099984277), (1817, 0.001185803131216802), (1818, 0.0013266738415865554), (1819, 0.0011515984836900758), (1820, 0.027761730290521022), (1821, 0.0012562374241234173), (1822, 0.0011748382384062304), (1823, 0.0011585946972132628), (1824, 0.0011722949714927306), (1825, 0.0011823876839126785), (1826, 0.0), (1827, 0.0012103807252605526), (1828, 0.0013040504211248604), (1829, 0.00140525246465551), (1830, 0.010155020209860744), (1831, 0.0011472342519261484), (1832, 0.001138213129484477), (1833, 0.014078254367755942), (1834, 0.12347095997039573), (1835, 0.029623099685529557), (1836, 0.030575695376115992), (1837, 0.02840118327350777), (1838, 0.0011477573144294281), (1839, 0.010402448342039817), (1840, 0.0012526692015275831), (1841, 0.02839928486460743), (1842, 0.04476685122657141), (1843, 0.035783129282177625), (1844, 0.042106904744551456), (1845, 0.050229513964652014), (1846, 0.02523851084805722), (1847, 0.001203673664046579), (1848, 0.0013680017905930543), (1849, 0.01169892354640692), (1850, 0.02033070583842446), (1851, 0.0012666160394300952), (1852, 0.0011588198823477198), (1853, 0.0011782791948391977), (1854, 0.010599356351394234), (1855, 0.0012144567834630738), (1856, 0.001181552753138108), (1857, 0.0012024627060586604), (1858, 0.001360692611235905), (1859, 0.0012988848366544475), (1860, 0.0013185350923053105), (1861, 0.05324680146564001), (1862, 0.13765684735397982), (1863, 0.009961546007030676), (1864, 0.03002333052749948), (1865, 0.00134326174046912), (1866, 0.03297703722733896), (1867, 0.0012000827096755803), (1868, 0.03635124622577814), (1869, 0.001179200280970579), (1870, 0.0012253652444351843), (1871, 0.0012814151014920497), (1872, 0.0012382465920412135), (1873, 0.0013125948597222839), (1874, 0.0013110736213673092), (1875, 0.010470844882781853), (1876, 0.0014001976307115643), (1877, 0.015048505824993277), (1878, 0.01170709742442254), (1879, 0.0012393227482377226), (1880, 0.001323657942000945), (1881, 0.001267985970281567), (1882, 0.0011550132441147279), (1883, 0.021712233138218642), (1884, 0.0), (1885, 0.0013056717958507354), (1886, 0.062486794007754864), (1887, 0.001410363546738181), (1888, 0.07883701205250761), (1889, 0.012173354702830076), (1890, 0.0013664318708746658), (1891, 0.02831382250671584), (1892, 0.0), (1893, 0.0012681062160715332), (1894, 0.0012068626460804447), (1895, 0.0012113553524952486), (1896, 0.0012382733954877357), (1897, 0.001222644714656102), (1898, 0.011464615476422541), (1899, 0.0010795888689370562), (1900, 0.0010982297352053723), (1901, 0.0013355701071471372), (1902, 0.02533725252218558), (1903, 0.0012438347770473439), (1904, 0.001167583071042667), (1905, 0.0012067999975696115), (1906, 0.001273897438454144), (1907, 0.030758600181877843), (1908, 0.0012051254327992023), (1909, 0.0012395821871600027), (1910, 0.00124366944457388), (1911, 0.012143699861389374), (1912, 0.015336864729038039), (1913, 0.011581100734006429), (1914, 0.00111831580598657), (1915, 0.0012155623910163678), (1916, 0.0013151923681317343), (1917, 0.0011406913558699233), (1918, 0.0013812263139446166), (1919, 0.0014360173975303515), (1920, 0.0012005253225060018), (1921, 0.001175042547578597), (1922, 0.0011604353657971012), (1923, 0.001321755838346259), (1924, 0.0013508125132001144), (1925, 0.0013495007424106054), (1926, 0.0013255136110118236), (1927, 0.06590047585000477), (1928, 0.0013055707768192288), (1929, 0.0013970117445005008), (1930, 0.0012349140267460567), (1931, 0.0012376669613459602), (1932, 0.010304508099495796), (1933, 0.0011826425039646515), (1934, 0.001060282695036924), (1935, 0.015692022400491577), (1936, 0.011283214521999187), (1937, 0.0011848834345389815), (1938, 0.0009835050744776584), (1939, 0.0014786641022624186), (1940, 0.0014055452128853738), (1941, 0.0013272072977624665), (1942, 0.001218522668880009), (1943, 0.010905513404151225), (1944, 0.0012058360008293612), (1945, 0.0011809152395095925), (1946, 0.0012966477770952215), (1947, 0.0012885496839102292), (1948, 0.0011735168072632039), (1949, 0.001291226429693934), (1950, 0.06532881605230378), (1951, 0.01661422202144138), (1952, 0.0013029605813154402), (1953, 0.04298839628669291), (1954, 0.028439497195150962), (1955, 0.011631818270625665), (1956, 0.001222941739927318), (1957, 0.0011539818001983218), (1958, 0.02529346441974738), (1959, 0.07560096151952164), (1960, 0.0012082625278624322), (1961, 0.012119899206984218), (1962, 0.0013585873183822894), (1963, 0.016355284746091867), (1964, 0.0011687745303410855), (1965, 0.0012647581951408078), (1966, 0.0011422157285264378), (1967, 0.0012764404154159156), (1968, 0.0014639794724725715), (1969, 0.0012190969404221278), (1970, 0.0012303616205530579), (1971, 0.0012396773833466307), (1972, 0.0), (1973, 0.015157762264731492), (1974, 0.0011722888209434621), (1975, 0.0012354426209421248), (1976, 0.001299209308420982), (1977, 0.0011707145316289663), (1978, 0.001172518426374026), (1979, 0.03926921406954242), (1980, 0.0010409415506254579), (1981, 0.0011951614240876354), (1982, 0.0011059610653632534), (1983, 0.001407537642170677), (1984, 0.0013524434862821084), (1985, 0.0012445376531328813), (1986, 0.0012292144274822895), (1987, 0.0012012743712884802), (1988, 0.0011387313421385742), (1989, 0.0010872011083777283), (1990, 0.0011231841815433907), (1991, 0.0012573222411359495), (1992, 0.0012073253780915066), (1993, 0.001142927960763766), (1994, 0.0010678811441895484), (1995, 0.0011956652844470042), (1996, 0.0012574092380852905), (1997, 0.0013815877812716887), (1998, 0.0012553480798007228), (1999, 0.03133628001011494), (2000, 0.0011993496380179969), (2001, 0.0013036641133147848), (2002, 0.0011673666331939658), (2003, 0.001242315137651285), (2004, 0.0012040218612142763), (2005, 0.03395911543584451), (2006, 0.01093665385085284), (2007, 0.001202499904357363), (2008, 0.0011920821913831644), (2009, 0.01717202872394018), (2010, 0.0), (2011, 0.0), (2012, 0.0014197920730263942), (2013, 0.0009140846594740281), (2014, 0.001330440549544821), (2015, 0.0012724980075502143), (2016, 0.08750882993741607), (2017, 0.0012815982609874017), (2018, 0.0), (2019, 0.026901611380029153), (2020, 0.0010070978662366004), (2021, 0.0013574439610532683), (2022, 0.0012727448457500782), (2023, 0.0011709538545514454), (2024, 0.001149499174945818), (2025, 0.0), (2026, 0.0013706475793851978), (2027, 0.0012564747584914687), (2028, 0.001279926735648397), (2029, 0.03175210401366951), (2030, 0.02906985581013955), (2031, 0.00118848334187145), (2032, 0.0014817240183825301), (2033, 0.0012104338287233776), (2034, 0.0), (2035, 0.001192333463241943), (2036, 0.0011767562920107508), (2037, 0.0014454476812884789), (2038, 0.01651941639135568), (2039, 0.0012591083945817452), (2040, 0.14029530536951879), (2041, 0.029282695898178255), (2042, 0.0011634500605517799), (2043, 0.0011788681010790956), (2044, 0.001337045944692681), (2045, 0.0012577329293718559), (2046, 0.010801585185037323), (2047, 0.0013504278723885748), (2048, 0.001141596297064468), (2049, 0.011278271948059046), (2050, 0.010897359488329213), (2051, 0.0012260019545767395), (2052, 0.009536388317199612), (2053, 0.00132830961125093), (2054, 0.0012203683154042117), (2055, 0.011164623780438861), (2056, 0.0011607984088834022), (2057, 0.001173680008338695), (2058, 0.001241846663601331), (2059, 0.0249530815742873), (2060, 0.0014574173104801318), (2061, 0.0676882803353741), (2062, 0.0012110414139607385), (2063, 0.0), (2064, 0.001129656291192418), (2065, 0.0011216937648955599), (2066, 0.0013795404894311187), (2067, 0.001179079508690654), (2068, 0.0011693387164683257), (2069, 0.0012375089849964054), (2070, 0.0012293480053301056), (2071, 0.0011365642314934202), (2072, 0.0013470658421501573), (2073, 0.0012357865013040148), (2074, 0.0013027489545477018), (2075, 0.0014504335037367633), (2076, 0.001138373206549524), (2077, 0.001354655438399817), (2078, 0.0012285725757816526), (2079, 0.001423662543897151), (2080, 0.0), (2081, 0.001252623707660009), (2082, 0.01224253256876395), (2083, 0.0012541574230444448), (2084, 0.0012739943625832543), (2085, 0.0013113517849094698), (2086, 0.011634702427518556), (2087, 0.010083564372464706), (2088, 0.001281183626034636), (2089, 0.001301783345955113), (2090, 0.0012814796135653531), (2091, 0.03083410776467019), (2092, 0.001240240128867641), (2093, 0.001035342325094386), (2094, 0.0013499518974700358), (2095, 0.025892617168463326), (2096, 0.0012644417215739768), (2097, 0.044092833616947005), (2098, 0.04059601078025269), (2099, 0.010237960897392944), (2100, 0.01123167693167922), (2101, 0.0013452695820007155), (2102, 0.03827213319587851), (2103, 0.0012267482245347729), (2104, 0.0013079964612134867), (2105, 0.0012491024870205682), (2106, 0.0012532192528894506), (2107, 0.0011511150955227135), (2108, 0.001209867098086308), (2109, 0.016953462685997525), (2110, 0.0010727279508401264), (2111, 0.013292521977397729), (2112, 0.001390012042063653), (2113, 0.05094909150271808), (2114, 0.0011157857229728133), (2115, 0.001322832576498055), (2116, 0.015798181290865083), (2117, 0.02572557955469526), (2118, 0.0013107284874661921), (2119, 0.0011696768438432838), (2120, 0.0), (2121, 0.039420973231816155), (2122, 0.001250992332833259), (2123, 0.0013701964185589225), (2124, 0.0012185370991683413), (2125, 0.011830503604628027), (2126, 0.0013272361204694234), (2127, 0.0), (2128, 0.0012347823200760631), (2129, 0.001135861709874439), (2130, 0.0013201357916286197), (2131, 0.0012216988135132236), (2132, 0.0010893539977462855), (2133, 0.0012491249203662785), (2134, 0.0012335619638262163), (2135, 0.08760034638856709), (2136, 0.0012791886270949208), (2137, 0.0015801222013401858), (2138, 0.06083256105152364), (2139, 0.0011081774112042663), (2140, 0.0013622087576325992), (2141, 0.0011534268932381932), (2142, 0.001297002541718548), (2143, 0.015828345059216653), (2144, 0.016350905328657496), (2145, 0.07065079511779937), (2146, 0.0), (2147, 0.0014348473195659205), (2148, 0.0011811968818265836), (2149, 0.0011174669950270567), (2150, 0.02934169093355992), (2151, 0.0012894536329271513), (2152, 0.0), (2153, 0.028019140458398033), (2154, 0.012999403896880386), (2155, 0.0012630177845434755), (2156, 0.0012780511971182006), (2157, 0.028305069341399088), (2158, 0.0014084425336684078), (2159, 0.0012111749339856724), (2160, 0.0012366512945981042), (2161, 0.034314239013733705), (2162, 0.0013069250871408393), (2163, 0.001085452474389626), (2164, 0.0012212254529810522), (2165, 0.0012819965379019347), (2166, 0.0014029941676006077), (2167, 0.0011935135329248956), (2168, 0.0012756487573297379), (2169, 0.0011915250632995105), (2170, 0.0012071727300306046), (2171, 0.029896715515861507), (2172, 0.0014328183968394018), (2173, 0.0), (2174, 0.0011291132043168325), (2175, 0.001254483103769322), (2176, 0.011205049775774106), (2177, 0.0012672434591753537), (2178, 0.001236792330750872), (2179, 0.027839226859626552), (2180, 0.001421324189804245), (2181, 0.0013647487728242521), (2182, 0.0014909066218714274), (2183, 0.03792462071631331), (2184, 0.031184399092740497), (2185, 0.0013586582616587424), (2186, 0.0012619804543454807), (2187, 0.0013648288157609835), (2188, 0.001506350783192889), (2189, 0.001565062797414446), (2190, 0.04792749687591079), (2191, 0.0013110363440814172), (2192, 0.015926824982064595), (2193, 0.0013385172143988578), (2194, 0.0012922262112362796), (2195, 0.0012470321440869502), (2196, 0.0014094082881841922), (2197, 0.0012185997562890155), (2198, 0.012180228263669438), (2199, 0.013408727247604118), (2200, 0.01692058468170731), (2201, 0.030134898279670867), (2202, 0.0012023300411470965), (2203, 0.001287356606822003), (2204, 0.0011405376118427664), (2205, 0.0011910228342153027), (2206, 0.0011202444139426886), (2207, 0.02693955049800861), (2208, 0.0013478599212393477), (2209, 0.0011985308722529877), (2210, 0.012531358505850314), (2211, 0.013543845902920893), (2212, 0.03048165486045452), (2213, 0.0011455358165412374), (2214, 0.0012896059566763968), (2215, 0.0011667726119199975), (2216, 0.0012634736973470917), (2217, 0.0012835375343493468), (2218, 0.001446534963063624), (2219, 0.0013570758785802855), (2220, 0.0010581368379349234), (2221, 0.04156304083910618), (2222, 0.0012685773854150982), (2223, 0.011671230582388493), (2224, 0.001248208436765645), (2225, 0.0011528054865722866), (2226, 0.0), (2227, 0.0009970188427283675), (2228, 0.001439369307401449), (2229, 0.0013482801705160961), (2230, 0.001321550862329123), (2231, 0.0012279750790661456), (2232, 0.03487377443080275), (2233, 0.0012598416117386723), (2234, 0.017914754751156677), (2235, 0.001499720397051897), (2236, 0.0014320005435897339), (2237, 0.0), (2238, 0.0), (2239, 0.0012720173956459035), (2240, 0.0010072308956420735), (2241, 0.001453888146013793), (2242, 0.0012184066582863584), (2243, 0.0011956644287004648), (2244, 0.0015050965940478537), (2245, 0.017524297250067333), (2246, 0.0012017386123768163), (2247, 0.0013110651741389473), (2248, 0.0009955906728575151), (2249, 0.0013736365638375785), (2250, 0.0014414712311660754), (2251, 0.0015496493999563096), (2252, 0.0013134900531734614), (2253, 0.0013258948036570298), (2254, 0.0013855683985129535), (2255, 0.0014387324326066437), (2256, 0.0010908496633213437), (2257, 0.013297712671326806), (2258, 0.0013489429896013957), (2259, 0.011529522162787657), (2260, 0.010840680421065573), (2261, 0.014493471516145457), (2262, 0.011058403305683378), (2263, 0.03348198030789095), (2264, 0.09957677137455048), (2265, 0.008397894977793531), (2266, 0.0015730034301072889), (2267, 0.03276967259033146), (2268, 0.0011779774878639415), (2269, 0.014800014817290524), (2270, 0.0011259643771372363), (2271, 0.001418375859756468), (2272, 0.0012458100473224187), (2273, 0.001453618362404937), (2274, 0.0011528528783053171), (2275, 0.0), (2276, 0.0012814412431290635), (2277, 0.0011459678069314135), (2278, 0.0011891768765330284), (2279, 0.0010653636030708996), (2280, 0.051518649926211524), (2281, 0.01484554944103208), (2282, 0.0014328704425579553), (2283, 0.04564761312569322), (2284, 0.03231498457103579), (2285, 0.0011195523391331244), (2286, 0.001423970544250778), (2287, 0.0010477307826599284), (2288, 0.0), (2289, 0.0), (2290, 0.08293087849077119), (2291, 0.0012537144288704077), (2292, 0.06576573023542687), (2293, 0.0013784586120610348), (2294, 0.001150272907112776), (2295, 0.0014970322121781998), (2296, 0.0012987865587176938), (2297, 0.0012444990542120331), (2298, 0.0012383554378485352), (2299, 0.06906959169127613), (2300, 0.001327971124586799), (2301, 0.011398713541473763), (2302, 0.0012615651846265025), (2303, 0.028713708303917285), (2304, 0.0013086774425509439), (2305, 0.0012741318284347205), (2306, 0.0013871454415499175), (2307, 0.028456982716922846), (2308, 0.001378914368740783), (2309, 0.0011925028221733626), (2310, 0.0014909498284225203), (2311, 0.0013063203120169372), (2312, 0.001592694771005343), (2313, 0.0012805988969747332), (2314, 0.001225005827725349), (2315, 0.0012285712822180763), (2316, 0.04346207318042817), (2317, 0.001239179635589066), (2318, 0.0010598737196845787), (2319, 0.012475995563875202), (2320, 0.001563981963699063), (2321, 0.09064658706094862), (2322, 0.02606101722896762), (2323, 0.0011365868646414795), (2324, 0.0014372292298011266), (2325, 0.0013013400324823042), (2326, 0.0), (2327, 0.025419390480775617), (2328, 0.0013683527159289316), (2329, 0.03988164722583408), (2330, 0.0012351934357557452), (2331, 0.01467200896615799), (2332, 0.05372517501069706), (2333, 0.0014476571554540147), (2334, 0.0012229358827249308), (2335, 0.011095799672176375), (2336, 0.00116217534588611), (2337, 0.01254668704468104), (2338, 0.0011440632930114839), (2339, 0.0014885927455021767), (2340, 0.0014054659825549643), (2341, 0.0012184015596564156), (2342, 0.0014269075839839268), (2343, 0.001232429661223867), (2344, 0.0011178328000285506), (2345, 0.0011559676905425118), (2346, 0.0014390381135568004), (2347, 0.0011329503615609676), (2348, 0.0011143484271009358), (2349, 0.0015430449307147773), (2350, 0.001426296984847259), (2351, 0.013147909327914445), (2352, 0.039622657492842626), (2353, 0.0013526625978081382), (2354, 0.0012883780838163549), (2355, 0.0009957147709421907), (2356, 0.0012353905563883445), (2357, 0.0013793208864571257), (2358, 0.014850997199466675), (2359, 0.0012381083428594558), (2360, 0.0012732365863955348), (2361, 0.0), (2362, 0.0), (2363, 0.0013607878126566232), (2364, 0.010471338058654585), (2365, 0.07033109221621409), (2366, 0.0011000369161780026), (2367, 0.011103733103393238), (2368, 0.0015610156287718575), (2369, 0.0011515915169647917), (2370, 0.07142915439074043), (2371, 0.01182632897580336), (2372, 0.04357268895371573), (2373, 0.0), (2374, 0.0012592383087768621), (2375, 0.0013658695370798244), (2376, 0.001308136338749293), (2377, 0.0011720330454703474), (2378, 0.001269584053173514), (2379, 0.014663512845220338), (2380, 0.0011618086214570222), (2381, 0.012732417511740925), (2382, 0.0011485176667892045), (2383, 0.001452860759644029), (2384, 0.001467155671260858), (2385, 0.0014325971854940796), (2386, 0.0011347638410118366), (2387, 0.0012913763885681118), (2388, 0.0013540342649976213), (2389, 0.009179104955218793), (2390, 0.026304884901423665), (2391, 0.0013321686510669624), (2392, 0.04196909988732324), (2393, 0.08413548151360074), (2394, 0.0), (2395, 0.001542331634985053), (2396, 0.0012097198917612117), (2397, 0.0013010333559481555), (2398, 0.0139394445523385), (2399, 0.001168433519746534), (2400, 0.0014166212731689307), (2401, 0.0), (2402, 0.014369447055490038), (2403, 0.0012688103559656163), (2404, 0.0015152851577058329), (2405, 0.01557470254501039), (2406, 0.07948122840682406), (2407, 0.0015414748206975279), (2408, 0.027503354811102526), (2409, 0.0012138560278526177), (2410, 0.0014829565923831806), (2411, 0.03876630403724075), (2412, 0.001168140112463406), (2413, 0.0013149873764173735), (2414, 0.028410205161715867), (2415, 0.0013432435142821998), (2416, 0.0015085200444535565), (2417, 0.0012723338280298784), (2418, 0.001299481650346452), (2419, 0.0013022879338033713), (2420, 0.001390268663166095), (2421, 0.012389655299624831), (2422, 0.0012500508309546427), (2423, 0.01302173564102162), (2424, 0.0), (2425, 0.001445341606035361), (2426, 0.0), (2427, 0.0015569653905821163), (2428, 0.001321349084705406), (2429, 0.0011897714685429029), (2430, 0.011756095795450002), (2431, 0.0011144335414839173), (2432, 0.0010899124992984784), (2433, 0.025378497906265098), (2434, 0.0014924742131801336), (2435, 0.011401929833809712), (2436, 0.0014547741278152424), (2437, 0.0012500423482189559), (2438, 0.0013775439156302931), (2439, 0.0010645439365602931), (2440, 0.031799967873095726), (2441, 0.014464099877690428), (2442, 0.0012054853822423487), (2443, 0.08346115169895055), (2444, 0.0012334719458853656), (2445, 0.0012097528783857907), (2446, 0.0011672410043085568), (2447, 0.0012645943308976385), (2448, 0.014201359444110568), (2449, 0.014117952989371243), (2450, 0.037112743248862504), (2451, 0.03261698924092905), (2452, 0.001502491259878922), (2453, 0.0013247482800602328), (2454, 0.0013467130289594074), (2455, 0.0013809567903901023), (2456, 0.013090845500183823), (2457, 0.0010825182295779846), (2458, 0.0011950910162463085), (2459, 0.001579672349016132), (2460, 0.01447081163259885), (2461, 0.010657325878117924), (2462, 0.02798399813738065), (2463, 0.0011980627665012858), (2464, 0.0012161264789337435), (2465, 0.0013053874739907196), (2466, 0.01060531527813145), (2467, 0.0012577154575345755), (2468, 0.0014335570422706612), (2469, 0.0009296366041331622), (2470, 0.0013610255989438794), (2471, 0.001099902803093782), (2472, 0.0012378311400862883), (2473, 0.03412108892113345), (2474, 0.0012226778002811182), (2475, 0.0), (2476, 0.04217435343939024), (2477, 0.001336631823139908), (2478, 0.0012709299456406377), (2479, 0.01888501717654994), (2480, 0.00123572614978223), (2481, 0.0011525606125814068), (2482, 0.0011259290191683914), (2483, 0.0014698770725252988), (2484, 0.04369453687062476), (2485, 0.013215994100384387), (2486, 0.001458378598174412), (2487, 0.0012563056314390587), (2488, 0.0016195906086896496), (2489, 0.001189890704033488), (2490, 0.0016000578600626418), (2491, 0.001211723643875034), (2492, 0.001535005722173258), (2493, 0.0013601383006994338), (2494, 0.0014784649010744961), (2495, 0.0014491139318281265), (2496, 0.0011047480527094226), (2497, 0.001171043358135325), (2498, 0.0012556459091334782), (2499, 0.0012942727738500595), (2500, 0.0015468640272572995), (2501, 0.0012023931813391563), (2502, 0.0556349166140679), (2503, 0.0013080417666159344), (2504, 0.031067331545911663), (2505, 0.0012271885719480496), (2506, 0.0), (2507, 0.04025122402589758), (2508, 0.0011980211973870887), (2509, 0.038066507651935394), (2510, 0.034939342690636185), (2511, 0.0013859128961605971), (2512, 0.0013186756176607323), (2513, 0.0013610926738827297), (2514, 0.0011438851619020663), (2515, 0.001372116508018767), (2516, 0.03023287236135016), (2517, 0.009885857023145352), (2518, 0.0015245586678626912), (2519, 0.001496425590718295), (2520, 0.0), (2521, 0.03702319425656029), (2522, 0.001318782277577314), (2523, 0.0011811768604520266), (2524, 0.001163162702169222), (2525, 0.011233443468658698), (2526, 0.001098300818361317), (2527, 0.001285756563329688), (2528, 0.017579993542320607), (2529, 0.001616360136720965), (2530, 0.014237872971594887), (2531, 0.012738438136820136), (2532, 0.0511881060279235), (2533, 0.0011914266610122742), (2534, 0.0011688869878069255), (2535, 0.001224286873700005), (2536, 0.0014563232603973786), (2537, 0.0015130720822636482), (2538, 0.0011042843143952567), (2539, 0.02565071575983178), (2540, 0.029695641582538113), (2541, 0.0011918692529545726), (2542, 0.0011471119749249918), (2543, 0.0015411453049417744), (2544, 0.008744479439459735), (2545, 0.001152089943403665), (2546, 0.0012590165496533562), (2547, 0.0015550666667427313), (2548, 0.0011021467033348474), (2549, 0.011362406236574668), (2550, 0.0016389606676958702), (2551, 0.0011841657208241452), (2552, 0.0013229565531563871), (2553, 0.016083750113802583), (2554, 0.011247010112116696), (2555, 0.012465401502973355), (2556, 0.0), (2557, 0.0013767031313072792), (2558, 0.0012776573940205373), (2559, 0.0014656706130030356), (2560, 0.0016201086510951963), (2561, 0.0014142325128350837), (2562, 0.011175974484207638), (2563, 0.00132575985673397), (2564, 0.0013851812028146764), (2565, 0.00129161350270223), (2566, 0.0011691437216679072), (2567, 0.0013169218540004777), (2568, 0.08585078079411791), (2569, 0.0015168613269130103), (2570, 0.001460354424610934), (2571, 0.0012210698589973025), (2572, 0.0012704823809158055), (2573, 0.001024258851844229), (2574, 0.01867517698232882), (2575, 0.0013256306016250546), (2576, 0.0012589341332210117), (2577, 0.03213688834741096), (2578, 0.0011004527059691937), (2579, 0.026775939055689865), (2580, 0.0013088283388137682), (2581, 0.0015121113749436829), (2582, 0.013296153185142948), (2583, 0.030832358084292025), (2584, 0.05641432459445695), (2585, 0.001524705972934364), (2586, 0.0011594601975343148), (2587, 0.001142246694611406), (2588, 0.0013880032066421802), (2589, 0.028655448902695117), (2590, 0.012060231110441418), (2591, 0.013219452051316884), (2592, 0.012904915813643478), (2593, 0.01099126226770226), (2594, 0.0011383052949322072), (2595, 0.019706661333908367), (2596, 0.0010601006188205666), (2597, 0.0018390992801806188), (2598, 0.0012656870293185159), (2599, 0.001202090672556069), (2600, 0.0014063338583227504), (2601, 0.0014582085866664655), (2602, 0.0), (2603, 0.010331593257304036), (2604, 0.013894064615941663), (2605, 0.03005726790897231), (2606, 0.0012312007937892474), (2607, 0.001079740034981194), (2608, 0.0010756992085307754), (2609, 0.0012933926946398886), (2610, 0.0012829115680201002), (2611, 0.0011666845690465274), (2612, 0.010939847004638561), (2613, 0.001313058845791082), (2614, 0.011599192146546679), (2615, 0.10071556642679041), (2616, 0.011404873905133804), (2617, 0.011389055574870618), (2618, 0.0012295071286510285), (2619, 0.0015659088624897747), (2620, 0.0011692446228074248), (2621, 0.001092148840608086), (2622, 0.0011648582563499284), (2623, 0.08585646533474091), (2624, 0.0014501631436904807), (2625, 0.0014700782250065818), (2626, 0.0013081863947244485), (2627, 0.0010459494377260707), (2628, 0.001457336175450018), (2629, 0.03695081332848644), (2630, 0.0011775564053401614), (2631, 0.001201651398568185), (2632, 0.0011996905810191501), (2633, 0.001390982314524132), (2634, 0.0011962958134498524), (2635, 0.0012959889657895675), (2636, 0.001658179248941602), (2637, 0.014658868420231407), (2638, 0.0014065915543511325), (2639, 0.0012151412404439246), (2640, 0.0015729740627474914), (2641, 0.0011426202871411067), (2642, 0.0013183570355240234), (2643, 0.01335228179820733), (2644, 0.029151897859111618), (2645, 0.0013874601112863893), (2646, 0.011176554144141546), (2647, 0.11861043223150806), (2648, 0.0012240135636825825), (2649, 0.04909385863055288), (2650, 0.001310493100285108), (2651, 0.001306788207618377), (2652, 0.031406123030669586), (2653, 0.051153192756745874), (2654, 0.09045999167756884), (2655, 0.0014779271945127735), (2656, 0.013826544027256343), (2657, 0.0016146915803071566), (2658, 0.0021707751055726936), (2659, 0.0016033587472983387), (2660, 0.0), (2661, 0.037929545720863184), (2662, 0.03844761196762675), (2663, 0.016416159586303353), (2664, 0.03738017696568406), (2665, 0.0012590905082454553), (2666, 0.025745148151680212), (2667, 0.043874286688538086), (2668, 0.043471767005667517), (2669, 0.0016422205838950157), (2670, 0.001305521950548431), (2671, 0.045574241961989614), (2672, 0.012793606291776982), (2673, 0.0015560347500498224), (2674, 0.0), (2675, 0.0014035184769109255), (2676, 0.0012749460996142902), (2677, 0.0012580355644093747), (2678, 0.0018070880305856194), (2679, 0.0011467169247980497), (2680, 0.0012650290961098158), (2681, 0.0011993740918597512), (2682, 0.08565172996054224), (2683, 0.026840186716905797), (2684, 0.0016145731364038275), (2685, 0.016037364547253755), (2686, 0.0010012407052587668), (2687, 0.0012091651972152599), (2688, 0.025849176002471694), (2689, 0.0014942423766372058), (2690, 0.0012601729849097028), (2691, 0.0012551449791340934), (2692, 0.0011545731099469898), (2693, 0.0011820853689642398), (2694, 0.001481464410682148), (2695, 0.0012337960076175074), (2696, 0.001417610476009536), (2697, 0.0), (2698, 0.001234891983012195), (2699, 0.001184467580465538), (2700, 0.0012528230984517146), (2701, 0.001801243717379072), (2702, 0.0012619701788602125), (2703, 0.0016543947477430543), (2704, 0.05479032317360614), (2705, 0.0012077487496272529), (2706, 0.0012854251002201637), (2707, 0.0013070236364320777), (2708, 0.026412571070035515), (2709, 0.0013585743730996915), (2710, 0.013364687379492101), (2711, 0.04775979747593584), (2712, 0.0013474675300444816), (2713, 0.04828034725210466), (2714, 0.001240610500484531), (2715, 0.02217788260890974), (2716, 0.001289196691049775), (2717, 0.028581121332093062), (2718, 0.0012031714726898307), (2719, 0.04213271687842485), (2720, 0.0016061878423976263), (2721, 0.011645377218043916), (2722, 0.0015650922517533063), (2723, 0.026595390084294294), (2724, 0.0012290637176236505), (2725, 0.0013090349716471598), (2726, 0.0012139483397367614), (2727, 0.0013394664784460912), (2728, 0.0012077531181452538), (2729, 0.030837928532934215), (2730, 0.0017458596464875076), (2731, 0.0014965214782079457), (2732, 0.016114074221997614), (2733, 0.03080823326022495), (2734, 0.0013229479907282842), (2735, 0.0010121656979953212), (2736, 0.0010749805585409042), (2737, 0.0018615785212555747), (2738, 0.0014441060064795362), (2739, 0.0014093889678342712), (2740, 0.0014996541321854783), (2741, 0.021358271568816898), (2742, 0.0012246941291951781), (2743, 0.0), (2744, 0.0015703006131711776), (2745, 0.0012573328687000677), (2746, 0.0012658633379983382), (2747, 0.001076923904269914), (2748, 0.0), (2749, 0.0012375847848010075), (2750, 0.00142670887795915), (2751, 0.0014159452526975533), (2752, 0.0496826914591151), (2753, 0.0012728810163990562), (2754, 0.001168046614376217), (2755, 0.0013246470908642872), (2756, 0.014489877417474668), (2757, 0.001705939929383143), (2758, 0.01150833726337042), (2759, 0.0011665691973358136), (2760, 0.04521205883887509), (2761, 0.0010784217947189538), (2762, 0.0011819989620338554), (2763, 0.012845098113326795), (2764, 0.0015858865124037526), (2765, 0.001335321973251769), (2766, 0.0012254315870912108), (2767, 0.0010285495940577667), (2768, 0.0015338140084533091), (2769, 0.0014538266594072474), (2770, 0.011131855412283054), (2771, 0.0012622645860413608), (2772, 0.012176880573325213), (2773, 0.0012113640203074488), (2774, 0.0010425527804853462), (2775, 0.0015072010455688411), (2776, 0.0011884178669897085), (2777, 0.0011094493371056502), (2778, 0.001348194686062527), (2779, 0.0011862765144398867), (2780, 0.0012422074050283585), (2781, 0.034412024019007725), (2782, 0.048792224455345624), (2783, 0.03671559996507765), (2784, 0.0012291714223071942), (2785, 0.0014817186133701465), (2786, 0.001190962384277395), (2787, 0.0012413797172619598), (2788, 0.0012444943007079196), (2789, 0.014700254304416646), (2790, 0.0013526819798336572), (2791, 0.0011688607128310048), (2792, 0.0012525620216238462), (2793, 0.0014190803869551798), (2794, 0.0015033686539420612), (2795, 0.0015849007693410045), (2796, 0.03171670231827589), (2797, 0.0013578382920970387), (2798, 0.001252921336435775), (2799, 0.012454127016232566), (2800, 0.0012331944107757925), (2801, 0.0010513434529637402), (2802, 0.0013965256075138776), (2803, 0.0012617506178831737), (2804, 0.0011420512401160688), (2805, 0.0010688190776096179), (2806, 0.06194765083779781), (2807, 0.00134608738478901), (2808, 0.0012139941028813822), (2809, 0.06938107793789111), (2810, 0.014164428940266937), (2811, 0.0011911869947137529), (2812, 0.010500336813277392), (2813, 0.029711824079455353), (2814, 0.012276177093995587), (2815, 0.0012602985316507581), (2816, 0.001248343064085477), (2817, 0.0014990475310273064), (2818, 0.0017782934213742632), (2819, 0.0012607849318752317), (2820, 0.0011428138652493586), (2821, 0.001260833734908133), (2822, 0.0181395033769676), (2823, 0.0011049836860558347), (2824, 0.0012307906939339943), (2825, 0.0012405076007833726), (2826, 0.001185162582513942), (2827, 0.0011029172664683675), (2828, 0.001154860914327598), (2829, 0.0013325989066155014), (2830, 0.0013557496104796205), (2831, 0.030708142526776887), (2832, 0.0014634320223639913), (2833, 0.001312147746528481), (2834, 0.0016308617916371527), (2835, 0.011162520823967018), (2836, 0.0012558306441221017), (2837, 0.0013414832147565544), (2838, 0.0016686528371925545), (2839, 0.02757584173911607), (2840, 0.0015617941483405157), (2841, 0.001261643365471444), (2842, 0.0010699314250721273), (2843, 0.0012193624604945124), (2844, 0.0118992868559271), (2845, 0.0014674161420881132), (2846, 0.0013014494676043035), (2847, 0.001272620405341939), (2848, 0.0013542555958425849), (2849, 0.0), (2850, 0.0012121933060989464), (2851, 0.014838538770480083), (2852, 0.0014194275791825867), (2853, 0.0013118256588128302), (2854, 0.001582380227298724), (2855, 0.0012246317060782153), (2856, 0.028060943346519547), (2857, 0.06892985072399284), (2858, 0.0015804829156185782), (2859, 0.0011520296740597455), (2860, 0.0013186168719061925), (2861, 0.0014781320401809064), (2862, 0.0011726188768695495), (2863, 0.0012312846844035753), (2864, 0.04201507143592334), (2865, 0.001300218249509346), (2866, 0.0011330762196713887), (2867, 0.010070364735700638), (2868, 0.0014219547972821299), (2869, 0.0017189250557481067), (2870, 0.001508712518606703), (2871, 0.0010723253232978924), (2872, 0.0012840574356653618), (2873, 0.014885157290790128), (2874, 0.0013397101624943052), (2875, 0.00140774449576043), (2876, 0.0010984483023332844), (2877, 0.0013059808916456304), (2878, 0.0013903008682771582), (2879, 0.001356681425401221), (2880, 0.0012016900968786304), (2881, 0.001256932406777233), (2882, 0.001507714850694885), (2883, 0.0015045483740739661), (2884, 0.0014937178841414507), (2885, 0.017643016235878977), (2886, 0.0), (2887, 0.010436198352699084), (2888, 0.0011981822212834077), (2889, 0.0015348553780165852), (2890, 0.0012306071418594158), (2891, 0.0015773539648689231), (2892, 0.0015049343446577345), (2893, 0.001259712500015218), (2894, 0.0012949732171406035), (2895, 0.001331689456682515), (2896, 0.011138774323773252), (2897, 0.0012776373476892722), (2898, 0.0012079963355970983), (2899, 0.0011910555823729833), (2900, 0.0), (2901, 0.013269564865634747), (2902, 0.0011307725119008047), (2903, 0.0014018079719205839), (2904, 0.001376118784935776), (2905, 0.0011487272161968287), (2906, 0.0011522691080844071), (2907, 0.0012285910612074796), (2908, 0.0012762820616955683), (2909, 0.012568141312746303), (2910, 0.0013254153195671648), (2911, 0.0013176103781915695), (2912, 0.0011897709917526869), (2913, 0.024473758079570165), (2914, 0.0012593023546603344), (2915, 0.01570053808857732), (2916, 0.011578011661250807), (2917, 0.0010743915464244615), (2918, 0.0012130175876153536), (2919, 0.0012832990529419123), (2920, 0.0012278987352482872), (2921, 0.0013348731981644966), (2922, 0.0015171802094164667), (2923, 0.0014897586832749855), (2924, 0.001341563881205524), (2925, 0.0012477593136168115), (2926, 0.0011607769302164114), (2927, 0.030933944909891747), (2928, 0.0014390985464350964), (2929, 0.0011567488211577245), (2930, 0.0011886028269066393), (2931, 0.011189471033283119), (2932, 0.0014730583569461198), (2933, 0.0), (2934, 0.0011157120920816366), (2935, 0.0011046179216787774), (2936, 0.0012573993181339976), (2937, 0.0015973994464162315), (2938, 0.08544198581283179), (2939, 0.0013844331933735448), (2940, 0.0013071160484652046), (2941, 0.0014319321016796661), (2942, 0.001149244072625399), (2943, 0.001105461838212354), (2944, 0.03909880631106831), (2945, 0.001226224564082984), (2946, 0.0), (2947, 0.0014020724330469963), (2948, 0.0014522472760676432), (2949, 0.001426382130931796), (2950, 0.0011258922940853946), (2951, 0.0014740270373840055), (2952, 0.0014658502467299662), (2953, 0.0012823359417833066), (2954, 0.0011601108757451858), (2955, 0.0011224950583608498), (2956, 0.001413996195021174), (2957, 0.001556761395925169), (2958, 0.016373469448992133), (2959, 0.0012455757307312174), (2960, 0.0012020127321775225), (2961, 0.0010805033388496135), (2962, 0.0011693055035302614), (2963, 0.0013442423284541617), (2964, 0.03082603074618298), (2965, 0.0011916685832544778), (2966, 0.0013554438710487737), (2967, 0.0012442876918462701), (2968, 0.00137759239515262), (2969, 0.0012039243089767436), (2970, 0.0011883327487428829), (2971, 0.0), (2972, 0.011266427036007439), (2973, 0.0011712324711501052), (2974, 0.0012505449834504668), (2975, 0.0013209233200081934), (2976, 0.009770004663163254), (2977, 0.0012844271010693492), (2978, 0.0013249727812902987), (2979, 0.0012095266459813785), (2980, 0.06177153337528486), (2981, 0.0011786638873198447), (2982, 0.001340541030177904), (2983, 0.0013876576526360809), (2984, 0.0011451678935603762), (2985, 0.0011725829250269684), (2986, 0.0013184716808852738), (2987, 0.001267810843702037), (2988, 0.0012968541639031585), (2989, 0.0015538051265455543), (2990, 0.0014991085344798355), (2991, 0.001119588763934511), (2992, 0.0011782397203704959), (2993, 0.0013452966233451122), (2994, 0.00118297154533743), (2995, 0.0012243841786682122), (2996, 0.001392516331973666), (2997, 0.0), (2998, 0.01549366375791277), (2999, 0.014810602409855534), (3000, 0.0012809493376299), (3001, 0.001386395644555652), (3002, 0.0011920441850279604), (3003, 0.012577391422133577), (3004, 0.0014683354570935241), (3005, 0.00126202726076039), (3006, 0.0011111896198234062), (3007, 0.0011891243200286103), (3008, 0.0012380110850490507), (3009, 0.001561388892326303), (3010, 0.0013951030297250995), (3011, 0.0012375165408200796), (3012, 0.0), (3013, 0.0013844116716008467), (3014, 0.0011766935914341316), (3015, 0.035006848992509665), (3016, 0.001137897168404902), (3017, 0.0013213133865853507), (3018, 0.0016620724917503738), (3019, 0.0012971483083376455), (3020, 0.0013398410356038725), (3021, 0.0011431696421906141), (3022, 0.0014921330979223457), (3023, 0.0011866635337886224), (3024, 0.0), (3025, 0.0013732378421093762), (3026, 0.0012252055103441528), (3027, 0.001358496485416903), (3028, 0.001163787718614622), (3029, 0.0011688122934160698), (3030, 0.08252071184860962), (3031, 0.0013510441698680073), (3032, 0.0012479549007726745), (3033, 0.011452746042962345), (3034, 0.014790952228120763), (3035, 0.00106106910161361), (3036, 0.0013793504641700892), (3037, 0.0), (3038, 0.0), (3039, 0.00143043851797079), (3040, 0.0015568409136703446), (3041, 0.001235074405021129), (3042, 0.0015081403287407235), (3043, 0.0015126529151855282), (3044, 0.0012100666964171042), (3045, 0.0011877176261447595), (3046, 0.001295467052500712), (3047, 0.0011953436706416143), (3048, 0.0011803414152077895), (3049, 0.0013844115519979288), (3050, 0.0010085605697805324), (3051, 0.0015900770317682194), (3052, 0.0015226996683393753), (3053, 0.0014023753033220808), (3054, 0.0015051868031956638), (3055, 0.0015137872226720717), (3056, 0.001155181940383749), (3057, 0.0), (3058, 0.010677996094894308), (3059, 0.0), (3060, 0.0015506348263010033), (3061, 0.00126513337373294), (3062, 0.0), (3063, 0.0012070678034276725), (3064, 0.001213126737221871), (3065, 0.018019895403360582), (3066, 0.010470786555784142), (3067, 0.0011849906380989597), (3068, 0.0011869937356999742), (3069, 0.0012300066079067502), (3070, 0.0), (3071, 0.001186311575755619), (3072, 0.0012964561505544145), (3073, 0.0011968210221179585), (3074, 0.03411990908110323), (3075, 0.0011197076780988134), (3076, 0.0016567549492408134), (3077, 0.001154995642861956), (3078, 0.013266831700897532), (3079, 0.0), (3080, 0.011388168027442896), (3081, 0.012087690397410302), (3082, 0.001176080359336477), (3083, 0.0013323408669151213), (3084, 0.010903668343550152), (3085, 0.0012613528222497534), (3086, 0.0013266475366349516), (3087, 0.0014070444008582811), (3088, 0.0016570569220630503), (3089, 0.013884892302511123), (3090, 0.0013301739715701596), (3091, 0.05816810637483336), (3092, 0.001330895545478908), (3093, 0.0010770035627788311), (3094, 0.01730086252751939), (3095, 0.0012863356114069574), (3096, 0.010122343193799531), (3097, 0.0013535624349764969), (3098, 0.016331090956769274), (3099, 0.00106705008247831), (3100, 0.001088578315477687), (3101, 0.0015588346078716975), (3102, 0.0013149000566094603), (3103, 0.001341915512822313), (3104, 0.016955602081035102), (3105, 0.0010894864225556098), (3106, 0.0012376210952152748), (3107, 0.0011555005866208112), (3108, 0.0013396511293860204), (3109, 0.0013871168004126802), (3110, 0.0014806495316156813), (3111, 0.026551173848458856), (3112, 0.010965892320707164), (3113, 0.0011120834748370194), (3114, 0.0011863623142462682), (3115, 0.0017352986384333382), (3116, 0.04548067927006054), (3117, 0.0013902340896513338), (3118, 0.0), (3119, 0.04801739038755118), (3120, 0.0836137926834813), (3121, 0.011454476111793482), (3122, 0.0011893199226558795), (3123, 0.0013569892339853058), (3124, 0.001341082945367996), (3125, 0.0012816493828648335), (3126, 0.0011912274002372344), (3127, 0.0014517202928029129), (3128, 0.0347812793272588), (3129, 0.0012116095285911374), (3130, 0.0012612314862040623), (3131, 0.0012830202196960677), (3132, 0.001238457497655847), (3133, 0.0012344256086604768), (3134, 0.0011948770856142865), (3135, 0.0011025522133989926), (3136, 0.001198138497321448), (3137, 0.013078650862190353), (3138, 0.02183435487199515), (3139, 0.0015781368981522114), (3140, 0.0017099174709108939), (3141, 0.011791447688028233), (3142, 0.021591705930534524), (3143, 0.0013746168643131718), (3144, 0.04926627894819936), (3145, 0.0015611308821536075), (3146, 0.0012379123519142764), (3147, 0.0011605776472688267), (3148, 0.016821816484259018), (3149, 0.001378734245157829), (3150, 0.0012022548230471236), (3151, 0.01207622605065946), (3152, 0.0009242374091093279), (3153, 0.0012479734703162116), (3154, 0.0015033845818763487), (3155, 0.001190099636787191), (3156, 0.0011408458615471298), (3157, 0.0014542211131567224), (3158, 0.0013215169747659385), (3159, 0.0015859712887044818), (3160, 0.001065853983411769), (3161, 0.0012124272723270763), (3162, 0.16798841868684217), (3163, 0.0013061214084617698), (3164, 0.0012509157046369243), (3165, 0.0012805279715959478), (3166, 0.0016182702987468964), (3167, 0.029348850472699074), (3168, 0.0015141714671188344), (3169, 0.0012974091861883046), (3170, 0.0), (3171, 0.0), (3172, 0.0014301258956938801), (3173, 0.015230732168102374), (3174, 0.0011964118845496315), (3175, 0.0014416636075834492), (3176, 0.0026955720818686605), (3177, 0.0015028619066218497), (3178, 0.001761649181541535), (3179, 0.030972675921218232), (3180, 0.001307088432158332), (3181, 0.11387078503084293), (3182, 0.0013028358364770736), (3183, 0.00136551025479543), (3184, 0.001277449618962223), (3185, 0.0016909716092641332), (3186, 0.0013583270857983822), (3187, 0.01127704814479236), (3188, 0.01787255637208123), (3189, 0.011505617481419343), (3190, 0.001394918724845521), (3191, 0.0012796425668863357), (3192, 0.0013471751303322278), (3193, 0.0012929908469795995), (3194, 0.0012303524378579184), (3195, 0.0011211069780502506), (3196, 0.0013180670562769293), (3197, 0.001262264823845548), (3198, 0.001315939740529562), (3199, 0.0), (3200, 0.0010460943897248759), (3201, 0.07079139947084459), (3202, 0.0013873758907435316), (3203, 0.0013433371842814304), (3204, 0.015275020416608893), (3205, 0.0009840045989609224), (3206, 0.0015527732802537919), (3207, 0.0013329188021058706), (3208, 0.030655037442908047), (3209, 0.0011903147285096734), (3210, 0.0011916122483988567), (3211, 0.008571273608614524), (3212, 0.07918695383119305), (3213, 0.0012953263561416436), (3214, 0.0), (3215, 0.0011236270007824803), (3216, 0.02531750193613975), (3217, 0.0358215088445986), (3218, 0.0016283753141141171), (3219, 0.014949308156549226), (3220, 0.0015189255062532598), (3221, 0.0142586450047372), (3222, 0.0010644559936182978), (3223, 0.0012351715187476665), (3224, 0.001144237451885847), (3225, 0.0705735338376208), (3226, 0.023510076371410952), (3227, 0.00158421115680262), (3228, 0.05491790382084741), (3229, 0.03856810842276224), (3230, 0.0013671888640553855), (3231, 0.001030103496101178), (3232, 0.0012545345380681936), (3233, 0.0012431650389389223), (3234, 0.014532618512178823), (3235, 0.0013417078321355095), (3236, 0.04535710765348446), (3237, 0.001271891284978534), (3238, 0.01609212734170814), (3239, 0.0013957696624788108), (3240, 0.0012159293417738212), (3241, 0.001393294388287092), (3242, 0.001357516623755883), (3243, 0.027846499680051248), (3244, 0.0011736158802916747), (3245, 0.0011168484275439854), (3246, 0.0012298819506925867), (3247, 0.0010757105683350606), (3248, 0.0), (3249, 0.0013911828495612737), (3250, 0.0011500961314279995), (3251, 0.0013742075935075763), (3252, 0.0013260341934998707), (3253, 0.002015227956097817), (3254, 0.0), (3255, 0.0014203245513940174), (3256, 0.03812067040759232), (3257, 0.06555647884012404), (3258, 0.0), (3259, 0.001284715677338244), (3260, 0.06961664092653422), (3261, 0.002230961186669704), (3262, 0.0014344836853507224), (3263, 0.03505447396192835), (3264, 0.0013679491179574412), (3265, 0.001281282029541001), (3266, 0.0015356827351218365), (3267, 0.0014460647132036532), (3268, 0.0), (3269, 0.0013649090611029713), (3270, 0.0011583211165224927), (3271, 0.0013618661596284513), (3272, 0.030397558642044954), (3273, 0.0013360409011616275), (3274, 0.0), (3275, 0.0015722850522723994), (3276, 0.0016824896850324148), (3277, 0.0014253123868988853), (3278, 0.0011066002095161734), (3279, 0.0011144962723070191), (3280, 0.0011004982943265181), (3281, 0.0013831894566511402), (3282, 0.03906074572618706), (3283, 0.0014486433486018565), (3284, 0.0015886778162745), (3285, 0.0), (3286, 0.04213060555410754), (3287, 0.02959820793449502), (3288, 0.06488877752843447), (3289, 0.0013334785534739094), (3290, 0.0012791061860359886), (3291, 0.0014968519967326623), (3292, 0.0014516944698803253), (3293, 0.0011340037780436032), (3294, 0.0013357347864224032), (3295, 0.0011033446864915906), (3296, 0.0), (3297, 0.013120689752946698), (3298, 0.03121877630584515), (3299, 0.0014203699973451803), (3300, 0.001126167981566285), (3301, 0.0008731500175923883), (3302, 0.05152295027877045), (3303, 0.0014204526796795655), (3304, 0.0010491200648372453), (3305, 0.0012170426529180198), (3306, 0.0013112954439918154), (3307, 0.001291154646654904), (3308, 0.04634422288858295), (3309, 0.001055192657219857), (3310, 0.0012464259421807171), (3311, 0.0011423594115550118), (3312, 0.001441988250695323), (3313, 0.0012460862314167874), (3314, 0.0013879191660916821), (3315, 0.001299314041258795), (3316, 0.0013370765591923504), (3317, 0.02777718541961772), (3318, 0.0011747467634182509), (3319, 0.0011635463759833548), (3320, 0.0010816410963001872), (3321, 0.0013067195256096925), (3322, 0.0014354241087969073), (3323, 0.006371596906401213), (3324, 0.0013102051478890019), (3325, 0.004857045882333846), (3326, 0.0012410297705052874), (3327, 0.001108869133014365), (3328, 0.0011810304576974505), (3329, 0.0012276492176990078), (3330, 0.0012406950499367728), (3331, 0.001145212244132135), (3332, 0.001255950001724702), (3333, 0.001091141278286823), (3334, 0.0012236990582997034), (3335, 0.011312140471535248), (3336, 0.001290581180152507), (3337, 0.0012666860801149272), (3338, 0.001103663784816878), (3339, 0.0015303463023378355), (3340, 0.0), (3341, 0.0012845108545400331), (3342, 0.0011562750178484103), (3343, 0.001334987199521953), (3344, 0.001340313402133485), (3345, 0.001644740448164218), (3346, 0.04924651251463592), (3347, 0.0), (3348, 0.001229526690523659), (3349, 0.0), (3350, 0.01693547769192836), (3351, 0.0015239631558758879), (3352, 0.0012152548081980933), (3353, 0.0013683344745692072), (3354, 0.0014035264070620108), (3355, 0.0012817954679779503), (3356, 0.0012401061049829053), (3357, 0.0015768711677175704), (3358, 0.001340091598801682), (3359, 0.0012968289407886296), (3360, 0.011121104155179003), (3361, 0.03247057283963208), (3362, 0.0010408376348224663), (3363, 0.0014955383697338562), (3364, 0.0015677317427405905), (3365, 0.0), (3366, 0.02820795697534853), (3367, 0.0012987757051483727), (3368, 0.0011323125980062022), (3369, 0.00120193142578969), (3370, 0.0013874582907117102), (3371, 0.0012346330103699414), (3372, 0.0011664252526433017), (3373, 0.04170920715380447), (3374, 0.0), (3375, 0.03156433959700687), (3376, 0.015530976272904147), (3377, 0.0015389482987887893), (3378, 0.00123691969764832), (3379, 0.057383821157865604), (3380, 0.052601952747183045), (3381, 0.0012146186880523748), (3382, 0.0014101574114423494), (3383, 0.0), (3384, 0.0014584544755647652), (3385, 0.0013755056030037), (3386, 0.0012484985055123156), (3387, 0.001334171049841273), (3388, 0.0013081489048165386), (3389, 0.011132822067840904), (3390, 0.08214375703384225), (3391, 0.001233691240509602), (3392, 0.0185369212958104), (3393, 0.001207908886089862), (3394, 0.0), (3395, 0.029979451651672605), (3396, 0.0012863792898870278), (3397, 0.02545270894412325), (3398, 0.001249375899380473), (3399, 0.0), (3400, 0.0012001947323781316), (3401, 0.001258655851954499), (3402, 0.0011992536228305622), (3403, 0.028097247861190392), (3404, 0.0012224920244922307), (3405, 0.0011013836977108), (3406, 0.0013046009347030278), (3407, 0.0011708466295813809), (3408, 0.0014539551536132352), (3409, 0.0), (3410, 0.0012793028357231415), (3411, 0.0010606904382870553), (3412, 0.0012947629772020706), (3413, 0.017867319165506296), (3414, 0.0014661583886499071), (3415, 0.0014609603239584788), (3416, 0.0011591798933953345), (3417, 0.0012121617148969507), (3418, 0.0011086710813318014), (3419, 0.0012797742171742129), (3420, 0.007363104423077616), (3421, 0.034366814609919735), (3422, 0.04062172320414553), (3423, 0.001268157679008481), (3424, 0.0014037854809382702), (3425, 0.0014256957373187835), (3426, 0.001152962848603921), (3427, 0.0013482828267094133), (3428, 0.0015739824849761144), (3429, 0.0008370141756379677), (3430, 0.012525519485874208), (3431, 0.0), (3432, 0.001154976321909189), (3433, 0.0011581831412500892), (3434, 0.0011803118307577968), (3435, 0.0012585306811076892), (3436, 0.0012341274478130189), (3437, 0.001227461058907499), (3438, 0.00128064588439254), (3439, 0.001446183244900651), (3440, 0.0013647784989239005), (3441, 0.03456524974718421), (3442, 0.016933874062398352), (3443, 0.001253079801515324), (3444, 0.030723614912477364), (3445, 0.0012296568292848513), (3446, 0.001256872588590982), (3447, 0.0013102622279493126), (3448, 0.0014881683526503182), (3449, 0.001374709227142743), (3450, 0.0013685564044075213), (3451, 0.001246314183698664), (3452, 0.0010624470103022903), (3453, 0.0013182585755227968), (3454, 0.0012824537475042469), (3455, 0.0), (3456, 0.0011866298528836845), (3457, 0.03069222685526678), (3458, 0.0012997618494086853), (3459, 0.010783231889184324), (3460, 0.001233235185873717), (3461, 0.055466909037041684), (3462, 0.0012256513863566484), (3463, 0.001250600669517225), (3464, 0.0013002491657190568), (3465, 0.0010904392510921092), (3466, 0.0011696983425337555), (3467, 0.16998449490114897), (3468, 0.031447598660934016), (3469, 0.0014461753233583046), (3470, 0.001297088680242005), (3471, 0.11074241391558408), (3472, 0.013093636563791767), (3473, 0.029652023406430434), (3474, 0.0012071253913255252), (3475, 0.0018117112882000926), (3476, 0.02771143117067584), (3477, 0.001417864137295335), (3478, 0.0012106219980347708), (3479, 0.001486997304109243), (3480, 0.0011020955054285339), (3481, 0.02079765067287225), (3482, 0.02820571674139886), (3483, 0.032267508855874254), (3484, 0.027343634788505402), (3485, 0.025385292222087533), (3486, 0.0012236411665915224), (3487, 0.0012146715354556512), (3488, 0.04003797391979553), (3489, 0.06880025820481935), (3490, 0.001204195101608496), (3491, 0.001189843825320665), (3492, 0.0012461962079072686), (3493, 0.0012349558211023212), (3494, 0.0012292259827021417), (3495, 0.0011192862967567803), (3496, 0.0012674801310782473), (3497, 0.0013401474031531045), (3498, 0.0012121381130204456), (3499, 0.001251256236211842), (3500, 0.0), (3501, 0.015091891071042828), (3502, 0.0014832085359672926), (3503, 0.031758470705699995), (3504, 0.001315860663225638), (3505, 0.03137645289169379), (3506, 0.05531628360494665), (3507, 0.0012540536655229783), (3508, 0.025317230492627057), (3509, 0.0012272484117639383), (3510, 0.0014167258817795573), (3511, 0.016981386232739492), (3512, 0.025921547495314327), (3513, 0.0011686745092942177), (3514, 0.0013411289548608803), (3515, 0.02234251524180526), (3516, 0.0013614536333817606), (3517, 0.03482641103293874), (3518, 0.0012843080670759987), (3519, 0.0013218506418820825), (3520, 0.0011885217894478301), (3521, 0.0013662633921013966), (3522, 0.0012094805510960449), (3523, 0.0015921062900634353), (3524, 0.01265549635937354), (3525, 0.0009974256821910661), (3526, 0.033724207944223206), (3527, 0.0), (3528, 0.001145323519366764), (3529, 0.0013457125495768766), (3530, 0.0), (3531, 0.0012219160792217498), (3532, 0.001355004218769345), (3533, 0.01107920848778081), (3534, 0.0), (3535, 0.0013068370759346632), (3536, 0.01157261136988161), (3537, 0.0018106287296370948), (3538, 0.0010338873791964872), (3539, 0.03145747507516887), (3540, 0.08275825636727038), (3541, 0.024254654643186838), (3542, 0.0011173185025866233), (3543, 0.0011422095249738456), (3544, 0.0013557158541118001), (3545, 0.010848358522581503), (3546, 0.0009468687389110986), (3547, 0.0012906389475159765), (3548, 0.000977959838696785), (3549, 0.001199206463683257), (3550, 0.03369906141862511), (3551, 0.0012647003576086448), (3552, 0.0018116943014960336), (3553, 0.0), (3554, 0.012389960316384478), (3555, 0.03141707998376326), (3556, 0.001291786651299616), (3557, 0.02005663561738225), (3558, 0.0), (3559, 0.001105214042794474), (3560, 0.0013410620884023675), (3561, 0.0016634767992157085), (3562, 0.04488960672738038), (3563, 0.0011824661034810647), (3564, 0.0012943433756117822), (3565, 0.0013311812422581886), (3566, 0.0013220337191993691), (3567, 0.0011347898436738196), (3568, 0.0011405493751083654), (3569, 0.0012391235827407714), (3570, 0.0011287149647761791), (3571, 0.031105576862829457), (3572, 0.0014883980178482677), (3573, 0.0013001125323587944), (3574, 0.025046651249286775), (3575, 0.0010114783642510567), (3576, 0.001126895674741002), (3577, 0.0017486462250394196), (3578, 0.0016336945644425732), (3579, 0.0), (3580, 0.0012700875910261972), (3581, 0.011322372942445683), (3582, 0.0011587910349782078), (3583, 0.001190380879591528), (3584, 0.0012884926772321096), (3585, 0.0012479972004475655), (3586, 0.0012801495256770138), (3587, 0.0013422586818091808), (3588, 0.0014993562802718908), (3589, 0.0011360564597408353), (3590, 0.0011834872890099386), (3591, 0.0013059309535862651), (3592, 0.001382494877226342), (3593, 0.0012732755316492285), (3594, 0.0013405852869309031), (3595, 0.0011764596913871755), (3596, 0.0012377391232097823), (3597, 0.0012096907504095804), (3598, 0.0010640108530108106), (3599, 0.0012198991727119645), (3600, 0.0012514601663545513), (3601, 0.001353517034780205), (3602, 0.001186168611150002), (3603, 0.0012508989400841688), (3604, 0.0014030982067719533), (3605, 0.0013114977031691462), (3606, 0.04039841011648568), (3607, 0.034565037581093), (3608, 0.0), (3609, 0.0011094357361467024), (3610, 0.013681413068951178), (3611, 0.034286781933802815), (3612, 0.0013585036197475582), (3613, 0.01274207668540362), (3614, 0.0011694741838060758), (3615, 0.012671181964937425), (3616, 0.052967373486608856), (3617, 0.001289509508546875), (3618, 0.001271335941112513), (3619, 0.0010747907718450652), (3620, 0.012572650625507732), (3621, 0.08666670939752416), (3622, 0.0011613015295231471), (3623, 0.0012426016596097011), (3624, 0.0012313715904087726), (3625, 0.0), (3626, 0.012737568158105103), (3627, 0.019793048588663226), (3628, 0.030182439121284294), (3629, 0.0), (3630, 0.0010526533671979738), (3631, 0.049242499388661536), (3632, 0.048407222558340214), (3633, 0.02707815503512844), (3634, 0.0), (3635, 0.0015065857180518191), (3636, 0.0011477644437398135), (3637, 0.0011681901040706893), (3638, 0.0017180481449943121), (3639, 0.0014560147396733246), (3640, 0.0012817415825502377), (3641, 0.001166650696346627), (3642, 0.0012385920353795053), (3643, 0.011764635437393279), (3644, 0.0011649590343087732), (3645, 0.0), (3646, 0.0011411492481492875), (3647, 0.001265847738336976), (3648, 0.0013145196548928265), (3649, 0.0014667274959632435), (3650, 0.011415215484762873), (3651, 0.0), (3652, 0.0), (3653, 0.05111204696216294), (3654, 0.0012963964028507144), (3655, 0.0012980423442151775), (3656, 0.02647324613388892), (3657, 0.0010277769252021107), (3658, 0.001176081577246871), (3659, 0.0648600767164617), (3660, 0.07782356531550598), (3661, 0.0012206214407914574), (3662, 0.07028770172348751), (3663, 0.0026803006491446257), (3664, 0.0011359798286521968), (3665, 0.061120612338281054), (3666, 0.001236270044688797), (3667, 0.0010490806176090448), (3668, 0.0011234699520909633), (3669, 0.0), (3670, 0.0013303891804726934), (3671, 0.036001558485776866), (3672, 0.0015670412794965656), (3673, 0.02620943811856308), (3674, 0.0009933548681426735), (3675, 0.0013295534582041955), (3676, 0.0011273082081894466), (3677, 0.0013597938882525444), (3678, 0.0013601884393947745), (3679, 0.002338890216311134), (3680, 0.0012584801045582403), (3681, 0.018092466204922858), (3682, 0.011258559277103158), (3683, 0.0013871658823821898), (3684, 0.0011531588997990292), (3685, 0.02846272905543134), (3686, 0.00132337497007436), (3687, 0.0013900849001062508), (3688, 0.0013318610121266865), (3689, 0.0013102100382772976), (3690, 0.0012761885854862065), (3691, 0.0011357536264213974), (3692, 0.001290282018841126), (3693, 0.0010773925461504369), (3694, 0.001243961985787827), (3695, 0.012666452608077434), (3696, 0.01618537313476868), (3697, 0.00131560745559895), (3698, 0.00114180878161797), (3699, 0.001355135908451759), (3700, 0.001081920093937093), (3701, 0.01286817495343518), (3702, 0.0014644662509396534), (3703, 0.0016424761618581338), (3704, 0.011027430546698289), (3705, 0.0012026226039289947), (3706, 0.0012119822159049924), (3707, 0.0011342955269856962), (3708, 0.0014094582011388787), (3709, 0.0012223664982796364), (3710, 0.0012939645350593784), (3711, 0.0012228326631155545), (3712, 0.001206711485162167), (3713, 0.0009405365684790199), (3714, 0.0012067719907979553), (3715, 0.0014384513792999737), (3716, 0.010222906739275714), (3717, 0.0016033978222408892), (3718, 0.0012286583356107739), (3719, 0.0), (3720, 0.0011074555398923821), (3721, 0.0), (3722, 0.027242223641022523), (3723, 0.0011162520317678196), (3724, 0.0012503943312943103), (3725, 0.0010740509157222138), (3726, 0.009289512989006756), (3727, 0.0011022632992059144), (3728, 0.011921262878891307), (3729, 0.0012871710512100806), (3730, 0.0015818672092992954), (3731, 0.0011754761021878992), (3732, 0.0010189265787189882), (3733, 0.0011293680794077984), (3734, 0.026868754658418016), (3735, 0.03020708770761029), (3736, 0.0013349463000789986), (3737, 0.027648095607452353), (3738, 0.0011260443277748785), (3739, 0.0014430280123881774), (3740, 0.0014089366320958407), (3741, 0.001480603851937109), (3742, 0.0011480725605025027), (3743, 0.030814515481859487), (3744, 0.001347005219972421), (3745, 0.0012814776071899965), (3746, 0.015308609460351624), (3747, 0.03095420311814449), (3748, 0.0012339462859761751), (3749, 0.001214250222788009), (3750, 0.0009327825498320471), (3751, 0.011528264500082755), (3752, 0.011483455392680194), (3753, 0.011002608218105545), (3754, 0.0015222403779034505), (3755, 0.0), (3756, 0.0012356451054116508), (3757, 0.0013330837815176497), (3758, 0.0014507534421411622), (3759, 0.0014166991165770375), (3760, 0.001983016707855533), (3761, 0.0), (3762, 0.001452947344775712), (3763, 0.014469886029532699), (3764, 0.0017980508810746386), (3765, 0.0013059879354473118), (3766, 0.0014827120002921116), (3767, 0.001144929768050489), (3768, 0.016010177519763164), (3769, 0.0012967856555059674), (3770, 0.0012877002355621365), (3771, 0.00132912506963191), (3772, 0.0324008402542303), (3773, 0.0012073408269163252), (3774, 0.0013389510101557297), (3775, 0.0013504892862449692), (3776, 0.029621579098278533), (3777, 0.0013227272321287321), (3778, 0.001377388064896701), (3779, 0.001343147723222824), (3780, 0.001329879471310381), (3781, 0.015639652906100542), (3782, 0.00121123042425456), (3783, 0.0012222087344767112), (3784, 0.0011952732980684267), (3785, 0.010438505439152975), (3786, 0.0011544833201525121), (3787, 0.0013044611289025727), (3788, 0.0010893964358996574), (3789, 0.0014690583018144648), (3790, 0.03132828924389952), (3791, 0.0013398506685042993), (3792, 0.026395934317926344), (3793, 0.0012283136529871838), (3794, 0.03581096958053389), (3795, 0.0010666553687815902), (3796, 0.014290886442699963), (3797, 0.0013434342262665685), (3798, 0.0012548712412807895), (3799, 0.0), (3800, 0.0), (3801, 0.001079062284827861), (3802, 0.001344331595228203), (3803, 0.025481917429191554), (3804, 0.0014708585327706878), (3805, 0.024612759485658626), (3806, 0.0), (3807, 0.0012167583172441128), (3808, 0.06894224619997959), (3809, 0.015227945693996044), (3810, 0.0013418263701334354), (3811, 0.0012383263099340707), (3812, 0.04746053597319785), (3813, 0.012705452825235794), (3814, 0.0011769118018056016), (3815, 0.0012963990138773474), (3816, 0.031024593391538822), (3817, 0.03376087218916436), (3818, 0.0012003770815659906), (3819, 0.001115722491055723), (3820, 0.0012611550096256797), (3821, 0.0010921895992532015), (3822, 0.013325849450160274), (3823, 0.0011975909378050447), (3824, 0.015477631885045123), (3825, 0.058286267349704296), (3826, 0.0013087712931136258), (3827, 0.0010938070875480207), (3828, 0.001403993307771307), (3829, 0.09890506703610326), (3830, 0.03351421889563622), (3831, 0.0014011451423079826), (3832, 0.0013739117056819842), (3833, 0.0012252194709540833), (3834, 0.001284641704706795), (3835, 0.009854440684019868), (3836, 0.0010688830208574088), (3837, 0.0012840462078852297), (3838, 0.04941032643656451), (3839, 0.015523884133349262), (3840, 0.0011743953307943504), (3841, 0.0102587822229599), (3842, 0.0011157860315164116), (3843, 0.03338014651012577), (3844, 0.0015152514853474042), (3845, 0.001259084272560462), (3846, 0.012357743200407088), (3847, 0.028098404134026377), (3848, 0.0014130859859510395), (3849, 0.0012940365795606952), (3850, 0.0012471382487214266), (3851, 0.03991595648994336), (3852, 0.09783073002783634), (3853, 0.0011559648878792335), (3854, 0.0010606954668796896), (3855, 0.0012002546174850756), (3856, 0.0011744804654724732), (3857, 0.0014008096322554932), (3858, 0.01236606468296745), (3859, 0.0011573435439473018), (3860, 0.0011498926186639328), (3861, 0.014418067209843715), (3862, 0.001489411815603012), (3863, 0.01439292625147411), (3864, 0.04637016495740412), (3865, 0.02765836295803909), (3866, 0.001413170785477355), (3867, 0.00134677788308513), (3868, 0.0012931276087155218), (3869, 0.0013849977139048493), (3870, 0.10097643317832708), (3871, 0.09766674997519398), (3872, 0.001152571712311387), (3873, 0.0012639673145522217), (3874, 0.0013607439798362993), (3875, 0.0011991255020880496), (3876, 0.0011029079655128157), (3877, 0.0566530163568827), (3878, 0.03989667864033421), (3879, 0.0011886873835637597), (3880, 0.0010600817220855988), (3881, 0.0011551118471260888), (3882, 0.03070684962144914), (3883, 0.0014159713830545935), (3884, 0.0013833487555404743), (3885, 0.001172751784184378), (3886, 0.0012460416109358633), (3887, 0.0011128590021844537), (3888, 0.0012689660299758636), (3889, 0.0013020231302564155), (3890, 0.03221546877348802), (3891, 0.0014113454184183838), (3892, 0.013376742969799127), (3893, 0.0012812143373228705), (3894, 0.009249239952366638), (3895, 0.0010117869046505253), (3896, 0.0011928588541667811), (3897, 0.00127508084109496), (3898, 0.0), (3899, 0.02266024594810523), (3900, 0.0010616877052219984), (3901, 0.0014389082177344388), (3902, 0.0011532254624955958), (3903, 0.0014290520687343451), (3904, 0.0), (3905, 0.001403251190095634), (3906, 0.018364636532888137), (3907, 0.0012481816349639804), (3908, 0.0012083155122160473), (3909, 0.0010826140269917413), (3910, 0.06455880882995099), (3911, 0.001311099704587421), (3912, 0.001370412616743556), (3913, 0.0013001575498130364), (3914, 0.00130047657641152), (3915, 0.0013225653662544408), (3916, 0.001078123690374816), (3917, 0.001120237911816026), (3918, 0.002775373376138092), (3919, 0.0012064179279535957), (3920, 0.0012018628211615551), (3921, 0.0015499967935966217), (3922, 0.0013769257122858464), (3923, 0.010136832467664142), (3924, 0.0013394186920875576), (3925, 0.001658158754399576), (3926, 0.027167298799587493), (3927, 0.0), (3928, 0.0008937692836793445), (3929, 0.0011507354263347626), (3930, 0.038274781088386646), (3931, 0.0013007842206578693), (3932, 0.0011563522254229386), (3933, 0.0), (3934, 0.0012415734003622264), (3935, 0.0013142287536055573), (3936, 0.0014005802846542498), (3937, 0.001186288556843825), (3938, 0.012070553625818254), (3939, 0.0014853282743805063), (3940, 0.0011517128599285971), (3941, 0.0011404593858425852), (3942, 0.0014995160975434516), (3943, 0.06773989382523386), (3944, 0.0009253912902675562), (3945, 0.0031875278785875195), (3946, 0.0), (3947, 0.0015360163297900723), (3948, 0.034998199939397893), (3949, 0.0015321805315276704), (3950, 0.001434655024747632), (3951, 0.0014302471070326518), (3952, 0.0), (3953, 0.0010811785358022781), (3954, 0.0010943236928117799), (3955, 0.0012973908587754525), (3956, 0.0694224444106568), (3957, 0.0010951658615380754), (3958, 0.0010478281096102191), (3959, 0.0012511903327189593), (3960, 0.0014176457476091438), (3961, 0.0013774594779085894), (3962, 0.0014116690563183677), (3963, 0.0012474913833819493), (3964, 0.0014815333015544517), (3965, 0.0012828305662839824), (3966, 0.0010688586416801168), (3967, 0.0012159875827853857), (3968, 0.001227618422880576), (3969, 0.0013347814962011975), (3970, 0.0012807529032275665), (3971, 0.001222532803373791), (3972, 0.0013814557645097658), (3973, 0.03758417668284125), (3974, 0.0011426507245108645), (3975, 0.0015760430586491399), (3976, 0.001363989143152236), (3977, 0.0013534962613308147), (3978, 0.00117465689307432), (3979, 0.030868839740769725), (3980, 0.009423569232816181), (3981, 0.007363104423077616), (3982, 0.001216716706527946), (3983, 0.0010401945445429465), (3984, 0.0013438652812629475), (3985, 0.0011910464933233185), (3986, 0.05867425529355301), (3987, 0.0011846792471933109), (3988, 0.0014037604973457152), (3989, 0.00114450867368566), (3990, 0.014252187818732063), (3991, 0.026362329864989664), (3992, 0.001424136852475893), (3993, 0.0011836821156189514), (3994, 0.0011904121934531932), (3995, 0.0013804324061953434), (3996, 0.0013761585685392837), (3997, 0.0013030949680444693), (3998, 0.0012563555213095118), (3999, 0.0013536723006476118), (4000, 0.0011660979409132285), (4001, 0.0012732786549094792), (4002, 0.0013696380671584791), (4003, 0.0018468185731958212), (4004, 0.0012104867627400586), (4005, 0.0012840862249797922), (4006, 0.0012443288213131731), (4007, 0.0018889381943493827), (4008, 0.0012610643317632097), (4009, 0.028068520118935417), (4010, 0.03370179639978994), (4011, 0.00122423970897981), (4012, 0.001194649419837215), (4013, 0.040620031142155476), (4014, 0.0), (4015, 0.05898683034186589), (4016, 0.0013986381548556843), (4017, 0.0015078610951781359), (4018, 0.001010534326097328), (4019, 0.0014457481905408255), (4020, 0.011968609778264435), (4021, 0.014428920895165068), (4022, 0.02339230799288427), (4023, 0.0015777361743808417), (4024, 0.0013886670738767189), (4025, 0.0012707186585509584), (4026, 0.007576351340051713), (4027, 0.001305331401647042), (4028, 0.0014816966323770355), (4029, 0.0011617864858585517), (4030, 0.0013056437555324278), (4031, 0.012409669676988016), (4032, 0.0017001655135629606), (4033, 0.0014690196952994665), (4034, 0.031902017370957055), (4035, 0.0010281772200104976), (4036, 0.0012129768201116539), (4037, 0.045233770370526526), (4038, 0.0013435898269073994), (4039, 0.001371511326996652), (4040, 0.0014391469229469212), (4041, 0.0012275115325659802), (4042, 0.0012228938445851434), (4043, 0.0012404940392735661), (4044, 0.0010800700841287175), (4045, 0.001386597810619034), (4046, 0.0013415538141796856), (4047, 0.0014833965554910628), (4048, 0.0012178419448545844), (4049, 0.001264605789523351), (4050, 0.03888518539403963), (4051, 0.0014478033911317866), (4052, 0.0011403969238041693), (4053, 0.0011303479609020535), (4054, 0.07848533115289882), (4055, 0.001260390523580711), (4056, 0.0011856867033997467), (4057, 0.0), (4058, 0.001458466926152825), (4059, 0.0011374578130703976), (4060, 0.001177868367881832), (4061, 0.0014706484900582346), (4062, 0.0015697782666280879), (4063, 0.0011248532716590434), (4064, 0.0016473985189904164), (4065, 0.0032933238647895797), (4066, 0.024180982094224694), (4067, 0.003940372036954054), (4068, 0.0013376199009876584), (4069, 0.001155202022523079), (4070, 0.0012689881685856127), (4071, 0.0011332818225042527), (4072, 0.0010111276975434005), (4073, 0.0012319182957727275), (4074, 0.03500069378604413), (4075, 0.001275601627668564), (4076, 0.0013758871165528528), (4077, 0.001327546768027905), (4078, 0.0013028890050732194), (4079, 0.0), (4080, 0.0010700020391784205), (4081, 0.0013102104235854397), (4082, 0.0017850164283003966), (4083, 0.0012055998210156879), (4084, 0.0), (4085, 0.0012217330115169593), (4086, 0.03067616515915161), (4087, 0.0013165064975158554), (4088, 0.0012874879209514886), (4089, 0.0748800638705906), (4090, 0.0013141572175395379), (4091, 0.0013072940130805463), (4092, 0.0013481869182271598), (4093, 0.0011980360840658005), (4094, 0.0013143352598577233), (4095, 0.0010150913510690038), (4096, 0.0012643508501334851), (4097, 0.0013201087078506058), (4098, 0.0011882001394994339), (4099, 0.09321865213785281), (4100, 0.0012481595711825292), (4101, 0.0014642284379839008), (4102, 0.0014104085991776464), (4103, 0.0013548714515798817), (4104, 0.014281202886696431), (4105, 0.0012789286944754402), (4106, 0.015518561259774494), (4107, 0.0016813588969735527), (4108, 0.0013280166951915354), (4109, 0.0011820361686664367), (4110, 0.0012447433361202328), (4111, 0.0159728329125743), (4112, 0.02954639959130635), (4113, 0.0222439010043458), (4114, 0.01836117419350577), (4115, 0.001502186215135668), (4116, 0.0013502347699557728), (4117, 0.0013455378770268697), (4118, 0.012320957445763246), (4119, 0.0013900611402469256), (4120, 0.03220668637025481), (4121, 0.00135933480157243), (4122, 0.001625252130476175), (4123, 0.0012691514843421842), (4124, 0.027213559898563725), (4125, 0.001367216793773599), (4126, 0.0012967111674391167), (4127, 0.0014733293100462558), (4128, 0.0012369471784019065), (4129, 0.0), (4130, 0.0013563987850092989), (4131, 0.0011938618513504492), (4132, 0.0013011134027647348), (4133, 0.001204640003381287), (4134, 0.03787455765267927), (4135, 0.05898168386310965), (4136, 0.011470493319018981), (4137, 0.0012306135470506524), (4138, 0.016480830525053967), (4139, 0.0012888770484576712), (4140, 0.012189354710816185), (4141, 0.001052724198435443), (4142, 0.0014933817682215619), (4143, 0.0011221515811960419), (4144, 0.013870351554560564), (4145, 0.0013006849405010092), (4146, 0.028842597262261356), (4147, 0.01792966856174667), (4148, 0.0012778809649887043), (4149, 0.03796895733760651), (4150, 0.0013857141547673562), (4151, 0.0), (4152, 0.07210818904173258), (4153, 0.0011849428225578773), (4154, 0.0011493095997112057), (4155, 0.0011733359716942433), (4156, 0.0011010219637834723), (4157, 0.0013208366192359426), (4158, 0.0012683799386671755), (4159, 0.0011858040998577676), (4160, 0.011585914067939171), (4161, 0.001195933473637412), (4162, 0.08722260441969618), (4163, 0.0012932980610814548), (4164, 0.031139349755354283), (4165, 0.001106605516453195), (4166, 0.0014328283768948677), (4167, 0.0013365153692111733), (4168, 0.04026104003634938), (4169, 0.0014408666261883124), (4170, 0.0014061165816062616), (4171, 0.0), (4172, 0.0014733019577474046), (4173, 0.0315963701656549), (4174, 0.016685717997102275), (4175, 0.0012469916265931437), (4176, 0.001193502461996768), (4177, 0.016682934804048415), (4178, 0.10531622450858817), (4179, 0.001295773336769554), (4180, 0.0011595329047609931), (4181, 0.0012801251181420053), (4182, 0.04397142672928538), (4183, 0.0012404332643139665), (4184, 0.0012300793939074859), (4185, 0.00136593617727162), (4186, 0.014651945275830958), (4187, 0.001414557334474694), (4188, 0.001225471861143223), (4189, 0.001285446828995836), (4190, 0.012291110231796666), (4191, 0.06296757565135487), (4192, 0.001229459247520603), (4193, 0.0010737119273171863), (4194, 0.014074451495658476), (4195, 0.02893656440285944), (4196, 0.03357016556799956), (4197, 0.033644405088041215), (4198, 0.0014601876942284366), (4199, 0.03292284355741515), (4200, 0.0012773527019477168), (4201, 0.003552119062788972), (4202, 0.0015592513129099369), (4203, 0.001435909283445534), (4204, 0.0015472518502584987), (4205, 0.001120820315144796), (4206, 0.001313432655026587), (4207, 0.03146915751153632), (4208, 0.0013933502516528431), (4209, 0.001484416775287769), (4210, 0.04674149987554084), (4211, 0.0013415746690090891), (4212, 0.0011895258834878951), (4213, 0.0), (4214, 0.0015796902804750014), (4215, 0.001313041782300277), (4216, 0.0012556570947402075), (4217, 0.0011239519909031338), (4218, 0.011281792754964845), (4219, 0.0014307207550594483), (4220, 0.001095814349795899), (4221, 0.0014905834375907555), (4222, 0.001494753065098415), (4223, 0.0016486570309734493), (4224, 0.0012183244190859311), (4225, 0.041897731605955946), (4226, 0.0013409151591016171), (4227, 0.001223867070484956), (4228, 0.0), (4229, 0.0), (4230, 0.001429071696387531), (4231, 0.0011900081744581675), (4232, 0.0), (4233, 0.0013164579947311276), (4234, 0.001133709185346589), (4235, 0.0010777269580919209), (4236, 0.0010720775685565764), (4237, 0.04014121672642273), (4238, 0.0012919172647549737), (4239, 0.0015394307175844084), (4240, 0.0013456837738037221), (4241, 0.0012679048798302712), (4242, 0.0015084377471476173), (4243, 0.0), (4244, 0.001270600163285402), (4245, 0.01584688825209105), (4246, 0.0012835398964098604), (4247, 0.0011450577704394736), (4248, 0.001207444617389396), (4249, 0.001147457461756117), (4250, 0.016118833601671354), (4251, 0.0012354257991999006), (4252, 0.0011878536307874412), (4253, 0.0011596333134807034), (4254, 0.0), (4255, 0.0012130980756257738), (4256, 0.0013206872004681166), (4257, 0.001130227759483081), (4258, 0.012224069569394622), (4259, 0.012579748522288594), (4260, 0.02794054714375682), (4261, 0.0010411917537203616), (4262, 0.001409785205153432), (4263, 0.0015920326338564657), (4264, 0.001162917371607558), (4265, 0.001274123697122784), (4266, 0.001194077401062835), (4267, 0.0016083721811225615), (4268, 0.0012160588771093516), (4269, 0.0013253526770332768), (4270, 0.027363299098391244), (4271, 0.0016814123142587327), (4272, 0.0011606073756218393), (4273, 0.0012157949134628326), (4274, 0.0011293431227030748), (4275, 0.0012198359244509713), (4276, 0.04080762187799746), (4277, 0.0012679756689712145), (4278, 0.0011737195666662275), (4279, 0.0011406722829720567), (4280, 0.0812362261758907), (4281, 0.0014291782662125604), (4282, 0.0012020723099259532), (4283, 0.0013707593734658967), (4284, 0.0013084775153408537), (4285, 0.0013071013768742575), (4286, 0.036565261172588855), (4287, 0.0012800049607786133), (4288, 0.0), (4289, 0.0012954873349978171), (4290, 0.0011333675865117883), (4291, 0.0015120069005578763), (4292, 0.0), (4293, 0.0014094961312060038), (4294, 0.0012215992475600097), (4295, 0.01697424676415968), (4296, 0.0), (4297, 0.02256330694866821), (4298, 0.0013517271770910344), (4299, 0.001226806538685504), (4300, 0.0012018477258708713), (4301, 0.0), (4302, 0.0014011135810557194), (4303, 0.029223346449342873), (4304, 0.0), (4305, 0.0010918101952433722), (4306, 0.001376111883254717), (4307, 0.0014539101562326877), (4308, 0.0), (4309, 0.0011450653526516264), (4310, 0.0011510209838473985), (4311, 0.0), (4312, 0.001241769958788187), (4313, 0.00192875170096808), (4314, 0.010674265242252873), (4315, 0.0), (4316, 0.0012904880183626484), (4317, 0.0012649826420866566), (4318, 0.0011756209748164624), (4319, 0.0016360874451772606), (4320, 0.001175821772927771), (4321, 0.001420737271753936), (4322, 0.0011137991926692158), (4323, 0.019719239852998068), (4324, 0.00136002932062678), (4325, 0.0011965566110496298), (4326, 0.0), (4327, 0.017444457912876774), (4328, 0.0011158832055068295), (4329, 0.028961363942043933), (4330, 0.011262042762219357), (4331, 0.0013520457055412646), (4332, 0.001620462385698163), (4333, 0.0014080161812155291), (4334, 0.03611360242227629), (4335, 0.001385359276525145), (4336, 0.048567685516510715), (4337, 0.03308655844190695), (4338, 0.012079577527595628), (4339, 0.0011390233971035357), (4340, 0.012142264396573657), (4341, 0.03394111416002912), (4342, 0.02581983996860671), (4343, 0.0), (4344, 0.02708103943208414), (4345, 0.028810469048719416), (4346, 0.032574234751724544), (4347, 0.030355493255853298), (4348, 0.01040974897831398), (4349, 0.0012138825083214486), (4350, 0.0011542617484155114), (4351, 0.027111030985685985), (4352, 0.001233872912687235), (4353, 0.0010652853769441118), (4354, 0.0011483314917788655), (4355, 0.0013077738813012778), (4356, 0.010464049397423673), (4357, 0.0011547079163723658), (4358, 0.03613426722272628), (4359, 0.0012886479299654774), (4360, 0.0012242161046028637), (4361, 0.0012554910528056805), (4362, 0.06312703453585766), (4363, 0.0012007101364925996), (4364, 0.011222511910590954), (4365, 0.0012316892549623188), (4366, 0.0011420371081443048), (4367, 0.0011922346907768944), (4368, 0.001398282366674066), (4369, 0.0013994907486965917), (4370, 0.0014252157466219484), (4371, 0.0374406545166646), (4372, 0.02099845420517793), (4373, 0.0010419476348228823), (4374, 0.08573878582570298), (4375, 0.0013806418880827635), (4376, 0.0012267498909786898), (4377, 0.001293175378923449), (4378, 0.0012533297698597869), (4379, 0.0012609217904784526), (4380, 0.01629038610425171), (4381, 0.0012108415820648473), (4382, 0.0012355785625271167), (4383, 0.0011587739312192975), (4384, 0.00123253943730977), (4385, 0.0010519559359707326), (4386, 0.000962398390140559), (4387, 0.001216610012269104), (4388, 0.0013543017224654217), (4389, 0.0013266946280614158), (4390, 0.0), (4391, 0.0011103036738528917), (4392, 0.0012644104791508341), (4393, 0.0), (4394, 0.09366371529028847), (4395, 0.011466858541622094), (4396, 0.018371949330283036), (4397, 0.011392564833926812), (4398, 0.0014017832664562555), (4399, 0.0011906845644755447), (4400, 0.0014206197956296446), (4401, 0.0740717149770433), (4402, 0.001149755714182371), (4403, 0.0016187882633727899), (4404, 0.0012258150534527285), (4405, 0.010032116311683173), (4406, 0.0012612631424560432), (4407, 0.0018091418369682154), (4408, 0.0013368287262011344), (4409, 0.0011383954251355855), (4410, 0.01701691422571449), (4411, 0.04213068625982619), (4412, 0.0013002156756009475), (4413, 0.0), (4414, 0.0009393066007510378), (4415, 0.0009607779535750616), (4416, 0.0013083350240308616), (4417, 0.0013031444052816771), (4418, 0.0014643014334944254), (4419, 0.0011557037679671416), (4420, 0.025436951276444863), (4421, 0.03198479997242067), (4422, 0.015411653039676758), (4423, 0.0014424176450825933), (4424, 0.0012975143326908586), (4425, 0.003134541809344748), (4426, 0.020725400501683672), (4427, 0.0012126214022480245), (4428, 0.001169058488223095), (4429, 0.0), (4430, 0.028853981739591736), (4431, 0.0013012595403606628), (4432, 0.029705655338173282), (4433, 0.01699478141644405), (4434, 0.0), (4435, 0.0011951637129031223), (4436, 0.0012963174849474107), (4437, 0.0011329497197719374), (4438, 0.0010969094262695332), (4439, 0.0), (4440, 0.0015519272532331797), (4441, 0.0011118050670581418), (4442, 0.0011883941646705174), (4443, 0.03696996851533001), (4444, 0.0016359639187585274), (4445, 0.0009656684762220639), (4446, 0.0014060312510635541), (4447, 0.010617673833383858), (4448, 0.001212614387208429), (4449, 0.001394064957819007), (4450, 0.0010824073305852311), (4451, 0.0014722294476770756), (4452, 0.0013933963185955708), (4453, 0.0013101237220713138), (4454, 0.012843815313990713), (4455, 0.02930499890264901), (4456, 0.03455263036106024), (4457, 0.028770868734182716), (4458, 0.0), (4459, 0.001304757895219541), (4460, 0.0012957727109444007), (4461, 0.0), (4462, 0.0013039880847499742), (4463, 0.0), (4464, 0.0014040149199594765), (4465, 0.001386005496991218), (4466, 0.0012487496813543097), (4467, 0.0012381751298646754), (4468, 0.0011020797128252202), (4469, 0.0013925464357197987), (4470, 0.0012376266466710365), (4471, 0.0011754629202295655), (4472, 0.001209546308178284), (4473, 0.0010123189119900379), (4474, 0.0013491975497349155), (4475, 0.0), (4476, 0.0010911639430794232), (4477, 0.0014099448515405306), (4478, 0.06375226963942163), (4479, 0.016576999347746812), (4480, 0.00185150141821313), (4481, 0.0012898103666213372), (4482, 0.011344528374083701), (4483, 0.013592444625376265), (4484, 0.0014685266502711288), (4485, 0.03258385640968493), (4486, 0.0012469459039247202), (4487, 0.001195927168840585), (4488, 0.0012489194510925295), (4489, 0.001312976303089303), (4490, 0.0014723188093870492), (4491, 0.0012053472646658008), (4492, 0.03315475830926901), (4493, 0.001303944158685535), (4494, 0.0013550966692031361), (4495, 0.0013447954833211773), (4496, 0.0013562871089237494), (4497, 0.0012685697633393834), (4498, 0.0010454871516772815), (4499, 0.0015212359536544223), (4500, 0.054730186536305916), (4501, 0.010842639754827004), (4502, 0.0011761943738807063), (4503, 0.001284029066607985), (4504, 0.001128945374019479), (4505, 0.001286927599796858), (4506, 0.001437947791366326), (4507, 0.001255088387622576), (4508, 0.0012903289633690541), (4509, 0.001138777431006079), (4510, 0.0012963891265204924), (4511, 0.015047513291095318), (4512, 0.0), (4513, 0.0010798047989911848), (4514, 0.0013491847832919298), (4515, 0.0014481263381434302), (4516, 0.011796556920273893), (4517, 0.001184487128888441), (4518, 0.0014636689635893533), (4519, 0.027112245023812095), (4520, 0.0), (4521, 0.0013743741967624), (4522, 0.0012157541081827532), (4523, 0.06646367801730385), (4524, 0.045673012234635844), (4525, 0.001100173269511089), (4526, 0.02968909382045361), (4527, 0.0012826568362763779), (4528, 0.0), (4529, 0.00149294809418975), (4530, 0.014491175845345625), (4531, 0.0013289993618946449), (4532, 0.0010402620078947488), (4533, 0.0011517924171328489), (4534, 0.001252133737289579), (4535, 0.0013398050360941692), (4536, 0.001135905852237146), (4537, 0.0014504698965135789), (4538, 0.001396588248950263), (4539, 0.0013142419565222118), (4540, 0.0011987391059064456), (4541, 0.003735158942462439), (4542, 0.0012109923219009132), (4543, 0.0011165282754462028), (4544, 0.0013896632584054283), (4545, 0.0013114052238861868), (4546, 0.001430519514055916), (4547, 0.0012748453133732142), (4548, 0.0012413711917670333), (4549, 0.0013392624231402396), (4550, 0.001238945211852478), (4551, 0.0014501789105951974), (4552, 0.0012103122432829902), (4553, 0.0), (4554, 0.038748140559816256), (4555, 0.025446695734665948), (4556, 0.001143080221076841), (4557, 0.0013476189188030155), (4558, 0.01467119775670203), (4559, 0.027070180072756262), (4560, 0.0011796137204992977), (4561, 0.0), (4562, 0.019081965727903515), (4563, 0.0012026567015612547), (4564, 0.0011815647145763683), (4565, 0.0), (4566, 0.0382695358952272), (4567, 0.0012915964500053037), (4568, 0.0011850778501259521), (4569, 0.010641621042597743), (4570, 0.031154851920919525), (4571, 0.0017712869263572517), (4572, 0.001367111864764696), (4573, 0.0), (4574, 0.001358966335015919), (4575, 0.0012261161110001687), (4576, 0.0013486703657939957), (4577, 0.0010733309563391552), (4578, 0.0033419024575534087), (4579, 0.034674543661754355), (4580, 0.0013646732020730146), (4581, 0.0011673943344636354), (4582, 0.015438786481880197), (4583, 0.001213813772978615), (4584, 0.0014893531364099733), (4585, 0.0011202765856434458), (4586, 0.0011578182861869657), (4587, 0.0012316939825389953), (4588, 0.001125871248369153), (4589, 0.0), (4590, 0.0012076821945877871), (4591, 0.0011305544761570949), (4592, 0.00121426152460607), (4593, 0.0), (4594, 0.0013957397756222242), (4595, 0.0013078247183727523), (4596, 0.0011792838211970268), (4597, 0.0012890943537326564), (4598, 0.009325100146522361), (4599, 0.0132420240813973), (4600, 0.0011878289180522472), (4601, 0.0013488405025591696), (4602, 0.0012833409935204796), (4603, 0.0), (4604, 0.01123671976886982), (4605, 0.05910094311616318), (4606, 0.0014938899446437868), (4607, 0.0019671186961610874), (4608, 0.0009893352603661462), (4609, 0.016196211153847104), (4610, 0.0010631285069880262), (4611, 0.001486358539271622), (4612, 0.00156325265784645), (4613, 0.02109024681437526), (4614, 0.0011663821878332354), (4615, 0.0011865871287759914), (4616, 0.012494505430314775), (4617, 0.0015239379895517784), (4618, 0.001554729603594096), (4619, 0.0013555254429891883), (4620, 0.0011041110640902217), (4621, 0.0012343261420236084), (4622, 0.0011838540809003771), (4623, 0.001208708841497538), (4624, 0.001383905031777067), (4625, 0.028134629491515746), (4626, 0.0), (4627, 0.0013286706022811957), (4628, 0.0014161566206186962), (4629, 0.001236422317769822), (4630, 0.001344838346764662), (4631, 0.0), (4632, 0.001314751291346003), (4633, 0.03341385765512696), (4634, 0.0011986127390527324), (4635, 0.001940955119234358), (4636, 0.001033492081463076), (4637, 0.001323324570080377), (4638, 0.0010774703411280432), (4639, 0.0013066404552895812), (4640, 0.04014372447377801), (4641, 0.0771572077427458), (4642, 0.0013041025641927502), (4643, 0.0), (4644, 0.0030473802612881913), (4645, 0.001321505106921922), (4646, 0.0014855648948309027), (4647, 0.014529597280845755), (4648, 0.0012304483468770439), (4649, 0.0012236836563733144), (4650, 0.03684470250402669), (4651, 0.0), (4652, 0.0010485327359396994), (4653, 0.0014786911606050272), (4654, 0.0016807495691565856), (4655, 0.0012398793917057357), (4656, 0.0013904920377115068), (4657, 0.0011917046499946616), (4658, 0.032690074488393984), (4659, 0.0013817647513877614), (4660, 0.001505621040510094), (4661, 0.001063769964657371), (4662, 0.030616422866634872), (4663, 0.001265882682201041), (4664, 0.0011639791939790536), (4665, 0.0012369379828440193), (4666, 0.0015095154949959038), (4667, 0.0010613892803896516), (4668, 0.0), (4669, 0.001281774124253084), (4670, 0.0011412042730820505), (4671, 0.001710969883154166), (4672, 0.0011404152657932642), (4673, 0.0012195566505578835), (4674, 0.0009939843492780482), (4675, 0.04488651584767202), (4676, 0.01832075395804987), (4677, 0.0012709699485540886), (4678, 0.0012859181719547482), (4679, 0.0010304519357898156), (4680, 0.0012860457990832653), (4681, 0.0024399892749961713), (4682, 0.0012879373183157308), (4683, 0.0011767610028865663), (4684, 0.0013196191105246027), (4685, 0.001206950419592461), (4686, 0.001235341413399285), (4687, 0.0012218047526681996), (4688, 0.001286627335444078), (4689, 0.0011525508307903343), (4690, 0.001112911783519375), (4691, 0.0015078649136541986), (4692, 0.0014697221217470327), (4693, 0.0), (4694, 0.001307403953347936), (4695, 0.032427946214575565), (4696, 0.00145263547378728), (4697, 0.00133957813796203), (4698, 0.0013456011476486918), (4699, 0.0014199442580165244), (4700, 0.0014916000272070867), (4701, 0.0015368157516659747), (4702, 0.0012459723320374894), (4703, 0.01865236598801439), (4704, 0.0015234792140560829), (4705, 0.0015942479502412928), (4706, 0.0012392876616463073), (4707, 0.0014421078782364055), (4708, 0.0012115877881146901), (4709, 0.001511500046890591), (4710, 0.001409442211173343), (4711, 0.012200665787067182), (4712, 0.0), (4713, 0.0), (4714, 0.0012716223083228649), (4715, 0.001217869106653752), (4716, 0.049605463410033634), (4717, 0.001314403525242221), (4718, 0.04153089026942278), (4719, 0.009125561910554499), (4720, 0.001353847125845676), (4721, 0.001624054330786638), (4722, 0.00119952913766017), (4723, 0.0), (4724, 0.0013748402129904356), (4725, 0.0014948956585245623), (4726, 0.013633741107482554), (4727, 0.0011767260482222776), (4728, 0.001331597912569005), (4729, 0.0), (4730, 0.01231147492257596), (4731, 0.0013900001846263398), (4732, 0.001446521102780397), (4733, 0.0), (4734, 0.0), (4735, 0.04500640136238465), (4736, 0.0013065899914552381), (4737, 0.012857590458301532), (4738, 0.0011383533211873644), (4739, 0.008319601819168907), (4740, 0.013398941432484717), (4741, 0.001342180920298653), (4742, 0.0), (4743, 0.0011888690208243938), (4744, 0.0), (4745, 0.0009687458330653163), (4746, 0.030765724156935164), (4747, 0.0013992522521141385), (4748, 0.0010609065477687996), (4749, 0.0014962775708668265), (4750, 0.0012876588942523216), (4751, 0.0), (4752, 0.0), (4753, 0.0012720190606150656), (4754, 0.031908085452202625), (4755, 0.0013492869217224394), (4756, 0.012430968183703654), (4757, 0.0013386070065270423), (4758, 0.10219417015190442), (4759, 0.0013377196378351185)]\n"
          ]
        }
      ]
    },
    {
      "cell_type": "code",
      "source": [
        "len(recommendation_score)"
      ],
      "metadata": {
        "colab": {
          "base_uri": "https://localhost:8080/"
        },
        "id": "1mLrR1q-VZyp",
        "outputId": "1dc0cd59-faa2-4a39-c3db-f88f5ad9b83d"
      },
      "execution_count": 56,
      "outputs": [
        {
          "output_type": "execute_result",
          "data": {
            "text/plain": [
              "4760"
            ]
          },
          "metadata": {},
          "execution_count": 56
        }
      ]
    },
    {
      "cell_type": "markdown",
      "source": [
        "# Sort All Movies based on recommendation_score"
      ],
      "metadata": {
        "id": "kaMFRJvQeNvy"
      }
    },
    {
      "cell_type": "code",
      "source": [
        "sorted_similar_movies=sorted(recommendation_score, key= lambda x:x[1],reverse=True)\n",
        "print(sorted_similar_movies)"
      ],
      "metadata": {
        "colab": {
          "base_uri": "https://localhost:8080/"
        },
        "id": "GRW75mAAX36z",
        "outputId": "b32b93ce-abbe-4ec2-f5fd-a4a1557cdb05"
      },
      "execution_count": 57,
      "outputs": [
        {
          "output_type": "stream",
          "name": "stdout",
          "text": [
            "[(2, 1.0), (3467, 0.16998449490114897), (3162, 0.16798841868684217), (247, 0.16676213236105666), (2040, 0.14029530536951879), (1862, 0.13765684735397982), (1758, 0.12782582300586437), (1834, 0.12347095997039573), (2647, 0.11861043223150806), (1182, 0.11587794932187268), (3181, 0.11387078503084293), (1557, 0.11160734842416073), (1176, 0.11095793896900469), (3471, 0.11074241391558408), (1810, 0.11027004587366988), (1327, 0.10844532805416607), (1251, 0.10651628716292356), (4178, 0.10531622450858817), (752, 0.10527737589047619), (4758, 0.10219417015190442), (3870, 0.10097643317832708), (2615, 0.10071556642679041), (2264, 0.09957677137455048), (3829, 0.09890506703610326), (3852, 0.09783073002783634), (3871, 0.09766674997519398), (4394, 0.09366371529028847), (4099, 0.09321865213785281), (144, 0.09226585651007997), (1813, 0.09195021186071407), (2321, 0.09064658706094862), (2654, 0.09045999167756884), (14, 0.08978695817957723), (459, 0.08923787055432865), (1072, 0.08878817200868001), (1257, 0.08868515493270383), (2135, 0.08760034638856709), (2016, 0.08750882993741607), (353, 0.08747213057262887), (4162, 0.08722260441969618), (691, 0.08701677221844098), (182, 0.08674385690816258), (3621, 0.08666670939752416), (178, 0.08645764553023746), (166, 0.08624334517049907), (540, 0.08597722577440373), (1405, 0.08591492669147797), (2623, 0.08585646533474091), (2568, 0.08585078079411791), (230, 0.0857601323102386), (4374, 0.08573878582570298), (2682, 0.08565172996054224), (2938, 0.08544198581283179), (619, 0.08491266815210154), (2393, 0.08413548151360074), (3120, 0.0836137926834813), (2443, 0.08346115169895055), (474, 0.08334771736378603), (2290, 0.08293087849077119), (3540, 0.08275825636727038), (3030, 0.08252071184860962), (53, 0.0824158103742871), (640, 0.08227837108395852), (3390, 0.08214375703384225), (463, 0.08180520253978477), (698, 0.08156243812692501), (1524, 0.08125579428827868), (4280, 0.0812362261758907), (643, 0.07966759046857397), (2406, 0.07948122840682406), (3212, 0.07918695383119305), (1888, 0.07883701205250761), (4054, 0.07848533115289882), (1714, 0.07836442441982383), (3660, 0.07782356531550598), (421, 0.07762040337171143), (4641, 0.0771572077427458), (1284, 0.07689929360966248), (1067, 0.07628038579333658), (1959, 0.07560096151952164), (1092, 0.07519893111202995), (4089, 0.0748800638705906), (624, 0.07449228162442369), (4401, 0.0740717149770433), (1646, 0.07365868575823767), (988, 0.0731219995143242), (1473, 0.07309713396565025), (198, 0.07249626136860697), (4152, 0.07210818904173258), (146, 0.07150858592144109), (2370, 0.07142915439074043), (1523, 0.07134627359949268), (427, 0.07131260271264676), (1586, 0.07114762889584461), (1409, 0.07094030642020543), (3201, 0.07079139947084459), (2145, 0.07065079511779937), (932, 0.07064019832274561), (3225, 0.0705735338376208), (2365, 0.07033109221621409), (3662, 0.07028770172348751), (1505, 0.070234095662864), (173, 0.06998019274407842), (3260, 0.06961664092653422), (1319, 0.06960405987860911), (705, 0.06944782492057058), (3956, 0.0694224444106568), (2809, 0.06938107793789111), (2299, 0.06906959169127613), (3808, 0.06894224619997959), (2857, 0.06892985072399284), (3489, 0.06880025820481935), (1433, 0.06813965069051596), (1038, 0.06785442256027478), (3943, 0.06773989382523386), (2061, 0.0676882803353741), (1107, 0.06760554007738107), (1076, 0.06748999782179768), (730, 0.06708534870270891), (4523, 0.06646367801730385), (548, 0.06597887233695443), (1927, 0.06590047585000477), (2292, 0.06576573023542687), (3257, 0.06555647884012404), (1950, 0.06532881605230378), (1460, 0.06531357703780521), (1715, 0.06524273911342189), (1041, 0.06516481176406604), (3288, 0.06488877752843447), (3659, 0.0648600767164617), (695, 0.06457860817668702), (3910, 0.06455880882995099), (4478, 0.06375226963942163), (362, 0.06319471429675909), (4362, 0.06312703453585766), (4191, 0.06296757565135487), (361, 0.06273468522296125), (1886, 0.062486794007754864), (2806, 0.06194765083779781), (2980, 0.06177153337528486), (989, 0.06122438949252813), (3665, 0.061120612338281054), (2138, 0.06083256105152364), (794, 0.06054471089349859), (1477, 0.0599884763288986), (488, 0.05977316245170797), (4605, 0.05910094311616318), (4015, 0.05898683034186589), (4135, 0.05898168386310965), (3986, 0.05867425529355301), (3825, 0.058286267349704296), (3091, 0.05816810637483336), (3379, 0.057383821157865604), (3877, 0.0566530163568827), (341, 0.056551232277802066), (2584, 0.05641432459445695), (140, 0.05608082345878916), (854, 0.05606905981915323), (850, 0.05598688508053148), (2502, 0.0556349166140679), (887, 0.05559945415767056), (3461, 0.055466909037041684), (3506, 0.05531628360494665), (3228, 0.05491790382084741), (2704, 0.05479032317360614), (4500, 0.054730186536305916), (615, 0.05446838464323413), (179, 0.05406559467418158), (2332, 0.05372517501069706), (1195, 0.05357509791862975), (1861, 0.05324680146564001), (1364, 0.05318676657312635), (3616, 0.052967373486608856), (385, 0.05277173880822187), (3380, 0.052601952747183045), (724, 0.05249506043358534), (26, 0.05248491792239553), (22, 0.05236997681022121), (1602, 0.05175654599626786), (1664, 0.05168498501165532), (3302, 0.05152295027877045), (2280, 0.051518649926211524), (1726, 0.05144953725427274), (2532, 0.0511881060279235), (2653, 0.051153192756745874), (3653, 0.05111204696216294), (2113, 0.05094909150271808), (1050, 0.05068937641979588), (160, 0.05067246251403951), (1845, 0.050229513964652014), (1673, 0.05014294294505676), (578, 0.049957670513578266), (446, 0.04988299125934554), (1276, 0.04968721397853188), (2752, 0.0496826914591151), (4716, 0.049605463410033634), (1529, 0.049420047844990926), (3838, 0.04941032643656451), (3144, 0.04926627894819936), (3346, 0.04924651251463592), (3631, 0.049242499388661536), (2649, 0.04909385863055288), (2782, 0.048792224455345624), (4336, 0.048567685516510715), (1737, 0.048496550833120905), (3632, 0.048407222558340214), (2713, 0.04828034725210466), (3119, 0.04801739038755118), (2190, 0.04792749687591079), (2711, 0.04775979747593584), (3812, 0.04746053597319785), (1465, 0.04721513779572652), (461, 0.04716978297052691), (4210, 0.04674149987554084), (3864, 0.04637016495740412), (3308, 0.04634422288858295), (755, 0.04617274828397298), (1578, 0.0460571713959122), (1720, 0.045967688590925766), (753, 0.04581403906034404), (4524, 0.045673012234635844), (2283, 0.04564761312569322), (2671, 0.045574241961989614), (3116, 0.04548067927006054), (286, 0.04541024262209552), (3236, 0.04535710765348446), (4037, 0.045233770370526526), (219, 0.045214437956422486), (2760, 0.04521205883887509), (4735, 0.04500640136238465), (3562, 0.04488960672738038), (4675, 0.04488651584767202), (596, 0.04481985536968792), (1842, 0.04476685122657141), (185, 0.04419872460341601), (2097, 0.044092833616947005), (4182, 0.04397142672928538), (2667, 0.043874286688538086), (1606, 0.04376405152403996), (2484, 0.04369453687062476), (787, 0.04357458081611662), (2372, 0.04357268895371573), (2668, 0.043471767005667517), (2316, 0.04346207318042817), (1338, 0.04344348075716346), (1953, 0.04298839628669291), (852, 0.04291170621220009), (926, 0.042589804709213655), (121, 0.04255615612598519), (620, 0.04243848779393265), (196, 0.04239994244637165), (1142, 0.04234514384291058), (662, 0.04231482019550303), (1094, 0.042281033908878024), (2476, 0.04217435343939024), (2719, 0.04213271687842485), (4411, 0.04213068625982619), (3286, 0.04213060555410754), (1844, 0.042106904744551456), (1555, 0.04203508144872738), (2864, 0.04201507143592334), (429, 0.04198616398096749), (2392, 0.04196909988732324), (4225, 0.041897731605955946), (3373, 0.04170920715380447), (1496, 0.04161175894220244), (2221, 0.04156304083910618), (4718, 0.04153089026942278), (743, 0.041516348772011304), (346, 0.04140753779963454), (768, 0.040954576686265266), (4276, 0.04080762187799746), (3422, 0.04062172320414553), (4013, 0.040620031142155476), (2098, 0.04059601078025269), (3606, 0.04039841011648568), (4168, 0.04026104003634938), (2507, 0.04025122402589758), (4640, 0.04014372447377801), (4237, 0.04014121672642273), (3488, 0.04003797391979553), (1311, 0.04000443486748629), (3851, 0.03991595648994336), (3878, 0.03989667864033421), (2329, 0.03988164722583408), (1647, 0.03977655159522318), (2352, 0.039622657492842626), (2121, 0.039420973231816155), (188, 0.039355843928505684), (1552, 0.039333627024239974), (281, 0.03930302706430971), (1979, 0.03926921406954242), (2944, 0.03909880631106831), (3282, 0.03906074572618706), (4050, 0.03888518539403963), (1351, 0.03880002609177822), (778, 0.03878098427861627), (948, 0.03876790126464097), (2411, 0.03876630403724075), (4554, 0.038748140559816256), (3229, 0.03856810842276224), (1389, 0.03856467524256853), (1241, 0.038471996972751304), (2662, 0.03844761196762675), (472, 0.03830802428875007), (3930, 0.038274781088386646), (2102, 0.03827213319587851), (4566, 0.0382695358952272), (1079, 0.03817284093158445), (3256, 0.03812067040759232), (1002, 0.038118345693824676), (2509, 0.038066507651935394), (4149, 0.03796895733760651), (2661, 0.037929545720863184), (2183, 0.03792462071631331), (1703, 0.0378868763209638), (4134, 0.03787455765267927), (3973, 0.03758417668284125), (4371, 0.0374406545166646), (233, 0.03741802442075169), (49, 0.03739375077452648), (2664, 0.03738017696568406), (1609, 0.03734044729134607), (1574, 0.037316962441234294), (2450, 0.037112743248862504), (2521, 0.03702319425656029), (4443, 0.03696996851533001), (2629, 0.03695081332848644), (1356, 0.036914628577669514), (4650, 0.03684470250402669), (2783, 0.03671559996507765), (1794, 0.036581406250892484), (4286, 0.036565261172588855), (1868, 0.03635124622577814), (4358, 0.03613426722272628), (4334, 0.03611360242227629), (3671, 0.036001558485776866), (517, 0.03592297039152413), (3217, 0.0358215088445986), (3794, 0.03581096958053389), (1843, 0.035783129282177625), (58, 0.035659673532097015), (3263, 0.03505447396192835), (1427, 0.03503666662990665), (3015, 0.035006848992509665), (4074, 0.03500069378604413), (3948, 0.034998199939397893), (500, 0.034962288179319345), (2510, 0.034939342690636185), (2232, 0.03487377443080275), (3517, 0.03482641103293874), (1309, 0.03481192850293889), (3128, 0.0347812793272588), (4579, 0.034674543661754355), (3441, 0.03456524974718421), (3607, 0.034565037581093), (4456, 0.03455263036106024), (2781, 0.034412024019007725), (3421, 0.034366814609919735), (1601, 0.03431983330005508), (1698, 0.034319578474272076), (2161, 0.034314239013733705), (1403, 0.034310955695381846), (3611, 0.034286781933802815), (406, 0.03422756692813905), (2473, 0.03412108892113345), (3074, 0.03411990908110323), (337, 0.0341171865780371), (2005, 0.03395911543584451), (4341, 0.03394111416002912), (594, 0.033871453793512744), (3817, 0.03376087218916436), (3526, 0.033724207944223206), (4010, 0.03370179639978994), (3550, 0.03369906141862511), (4197, 0.033644405088041215), (4196, 0.03357016556799956), (1788, 0.033539996161443986), (3830, 0.03351421889563622), (2263, 0.03348198030789095), (4633, 0.03341385765512696), (1570, 0.033412464194927924), (3843, 0.03338014651012577), (1484, 0.0333642985128286), (4492, 0.03315475830926901), (4337, 0.03308655844190695), (954, 0.03304676478076244), (1866, 0.03297703722733896), (879, 0.03294711878035559), (4199, 0.03292284355741515), (391, 0.03289967231742593), (1189, 0.03285211735819804), (584, 0.032801789286637795), (1011, 0.03280136877244317), (275, 0.032797531722017256), (2267, 0.03276967259033146), (915, 0.032703553437884385), (4658, 0.032690074488393984), (137, 0.03264708885487378), (2451, 0.03261698924092905), (1711, 0.032591833703628365), (4485, 0.03258385640968493), (4346, 0.032574234751724544), (3361, 0.03247057283963208), (1095, 0.03244627237716242), (4695, 0.032427946214575565), (569, 0.0324145207007869), (1481, 0.03240756091214425), (3772, 0.0324008402542303), (2284, 0.03231498457103579), (3483, 0.032267508855874254), (360, 0.03223193234693518), (3890, 0.03221546877348802), (4120, 0.03220668637025481), (2577, 0.03213688834741096), (1057, 0.03213585827701481), (1383, 0.03199325014798772), (4421, 0.03198479997242067), (4754, 0.031908085452202625), (4034, 0.031902017370957055), (1339, 0.03183756750530533), (2440, 0.031799967873095726), (3503, 0.031758470705699995), (2029, 0.03175210401366951), (2796, 0.03171670231827589), (1724, 0.03169044313257263), (245, 0.031614468531910904), (4173, 0.0315963701656549), (350, 0.03158337502109896), (1165, 0.03157155173904601), (3375, 0.03156433959700687), (880, 0.03155155418167473), (4207, 0.03146915751153632), (3539, 0.03145747507516887), (3468, 0.031447598660934016), (3555, 0.03141707998376326), (2652, 0.031406123030669586), (1700, 0.031404722293638096), (3505, 0.03137645289169379), (1999, 0.03133628001011494), (3790, 0.03132828924389952), (365, 0.031281874512755777), (1640, 0.0312718996225739), (70, 0.031228587598988954), (1812, 0.031223326436374335), (3298, 0.03121877630584515), (363, 0.03119583805108308), (2184, 0.031184399092740497), (4570, 0.031154851920919525), (4164, 0.031139349755354283), (3571, 0.031105576862829457), (2504, 0.031067331545911663), (3816, 0.031024593391538822), (3179, 0.030972675921218232), (3747, 0.03095420311814449), (2927, 0.030933944909891747), (3979, 0.030868839740769725), (355, 0.030863526599060744), (2729, 0.030837928532934215), (2091, 0.03083410776467019), (2583, 0.030832358084292025), (2964, 0.03082603074618298), (1704, 0.030816295116702808), (3743, 0.030814515481859487), (2733, 0.03080823326022495), (347, 0.03079489109639573), (4746, 0.030765724156935164), (1907, 0.030758600181877843), (1021, 0.030736584618748015), (3444, 0.030723614912477364), (2831, 0.030708142526776887), (3882, 0.03070684962144914), (3457, 0.03069222685526678), (4086, 0.03067616515915161), (1600, 0.030667924995887656), (3208, 0.030655037442908047), (370, 0.03064228173822729), (4662, 0.030616422866634872), (853, 0.030616066497967658), (1223, 0.030602827095839814), (1836, 0.030575695376115992), (1485, 0.03056032486493928), (976, 0.03053654501800361), (1474, 0.030531770017776613), (706, 0.030491741363064113), (2212, 0.03048165486045452), (3272, 0.030397558642044954), (4347, 0.030355493255853298), (2516, 0.03023287236135016), (3735, 0.03020708770761029), (3628, 0.030182439121284294), (2201, 0.030134898279670867), (2605, 0.03005726790897231), (1864, 0.03002333052749948), (1634, 0.029994407291953084), (3395, 0.029979451651672605), (1333, 0.029977948207616355), (2171, 0.029896715515861507), (1643, 0.029793084954675683), (1085, 0.029787116936623947), (884, 0.02972332968880477), (2813, 0.029711824079455353), (4432, 0.029705655338173282), (2540, 0.029695641582538113), (4526, 0.02968909382045361), (1769, 0.029681443850598434), (3473, 0.029652023406430434), (1835, 0.029623099685529557), (3776, 0.029621579098278533), (3287, 0.02959820793449502), (1246, 0.02955153030782422), (4112, 0.02954639959130635), (1166, 0.02952367926462455), (1336, 0.029382662453480392), (3167, 0.029348850472699074), (392, 0.02934375704853529), (2150, 0.02934169093355992), (4455, 0.02930499890264901), (2041, 0.029282695898178255), (4303, 0.029223346449342873), (379, 0.029155021688695857), (2644, 0.029151897859111618), (2030, 0.02906985581013955), (1016, 0.02898565336123047), (4329, 0.028961363942043933), (4195, 0.02893656440285944), (4430, 0.028853981739591736), (4146, 0.028842597262261356), (4345, 0.028810469048719416), (961, 0.028794289613221), (4457, 0.028770868734182716), (2303, 0.028713708303917285), (1495, 0.028708602712650355), (1046, 0.02869701141915158), (899, 0.028673992780411106), (2589, 0.028655448902695117), (1163, 0.028632157010224812), (856, 0.02862715339458062), (1607, 0.028614836658403732), (2717, 0.028581121332093062), (1291, 0.028498227597373825), (3685, 0.02846272905543134), (2307, 0.028456982716922846), (423, 0.028447671450193092), (1954, 0.028439497195150962), (2414, 0.028410205161715867), (1837, 0.02840118327350777), (1841, 0.02839928486460743), (651, 0.028346682796122423), (1891, 0.02831382250671584), (2157, 0.028305069341399088), (3366, 0.02820795697534853), (3482, 0.02820571674139886), (909, 0.028180399474278996), (187, 0.02817135401397925), (4625, 0.028134629491515746), (646, 0.028116723095922714), (451, 0.028113903656698254), (3847, 0.028098404134026377), (3403, 0.028097247861190392), (4009, 0.028068520118935417), (2856, 0.028060943346519547), (1521, 0.028043837541881275), (2153, 0.028019140458398033), (2462, 0.02798399813738065), (4260, 0.02794054714375682), (1706, 0.027928243564750568), (72, 0.027875242195477094), (3243, 0.027846499680051248), (2179, 0.027839226859626552), (3317, 0.02777718541961772), (1538, 0.0277652045295398), (1820, 0.027761730290521022), (3476, 0.02771143117067584), (229, 0.027677565374794585), (3865, 0.02765836295803909), (3737, 0.027648095607452353), (2839, 0.02757584173911607), (2408, 0.027503354811102526), (1755, 0.027479698818369373), (47, 0.02740957429908908), (4270, 0.027363299098391244), (1114, 0.027353346912625552), (3484, 0.027343634788505402), (3722, 0.027242223641022523), (1307, 0.02723312327421798), (1255, 0.027230763352249297), (428, 0.027225214896859192), (335, 0.02722119111537467), (4124, 0.027213559898563725), (3926, 0.027167298799587493), (4519, 0.027112245023812095), (4351, 0.027111030985685985), (351, 0.027104305662789582), (4344, 0.02708103943208414), (3633, 0.02707815503512844), (4559, 0.027070180072756262), (1348, 0.026953343363511486), (2207, 0.02693955049800861), (2019, 0.026901611380029153), (1198, 0.026884070923664797), (3734, 0.026868754658418016), (2683, 0.026840186716905797), (900, 0.02683873477706545), (457, 0.026829075357717804), (167, 0.026807236957144324), (507, 0.026787470130777175), (2579, 0.026775939055689865), (2723, 0.026595390084294294), (3111, 0.026551173848458856), (136, 0.026532308441406315), (863, 0.0265269019249938), (3656, 0.02647324613388892), (409, 0.026449416346431855), (2708, 0.026412571070035515), (3792, 0.026395934317926344), (3991, 0.026362329864989664), (2390, 0.026304884901423665), (3673, 0.02620943811856308), (1376, 0.026168438445897366), (1025, 0.0260866828608736), (2322, 0.02606101722896762), (1162, 0.02596822440561935), (3512, 0.025921547495314327), (1008, 0.02591432648666076), (2095, 0.025892617168463326), (912, 0.025876980847658566), (2688, 0.025849176002471694), (4342, 0.02581983996860671), (177, 0.02576063297590076), (2666, 0.025745148151680212), (2117, 0.02572557955469526), (2539, 0.02565071575983178), (920, 0.025647022139394668), (1564, 0.02562350131974948), (3803, 0.025481917429191554), (3397, 0.02545270894412325), (4555, 0.025446695734665948), (4420, 0.025436951276444863), (2327, 0.025419390480775617), (3485, 0.025385292222087533), (2433, 0.025378497906265098), (445, 0.025339915723161827), (1902, 0.02533725252218558), (3216, 0.02531750193613975), (3508, 0.025317230492627057), (1958, 0.02529346441974738), (1846, 0.02523851084805722), (3574, 0.025046651249286775), (1373, 0.02497540065127287), (2059, 0.0249530815742873), (524, 0.02493851214703735), (208, 0.024901456191775462), (1800, 0.024894637560626105), (1482, 0.024672846958937622), (3805, 0.024612759485658626), (1461, 0.02452288096360891), (109, 0.024496011115762138), (901, 0.024492820990650407), (2913, 0.024473758079570165), (164, 0.024453911387801303), (1712, 0.024289096077044756), (3541, 0.024254654643186838), (4066, 0.024180982094224694), (712, 0.02417715079097593), (817, 0.024073394897883186), (549, 0.023850939527471887), (3226, 0.023510076371410952), (4022, 0.02339230799288427), (1014, 0.02294232293545594), (3899, 0.02266024594810523), (4297, 0.02256330694866821), (3515, 0.02234251524180526), (4113, 0.0222439010043458), (1537, 0.022211211156303513), (2715, 0.02217788260890974), (3138, 0.02183435487199515), (1883, 0.021712233138218642), (3142, 0.021591705930534524), (2741, 0.021358271568816898), (629, 0.02127821207500616), (4613, 0.02109024681437526), (4372, 0.02099845420517793), (404, 0.02089953047295417), (3481, 0.02079765067287225), (802, 0.020755185098306927), (4426, 0.020725400501683672), (410, 0.020438749494498098), (1784, 0.020415832585225533), (1850, 0.02033070583842446), (3557, 0.02005663561738225), (641, 0.019944723175191487), (797, 0.019923205825383563), (3627, 0.019793048588663226), (1217, 0.019789654438335483), (4323, 0.019719239852998068), (2595, 0.019706661333908367), (1594, 0.019249996782608667), (4562, 0.019081965727903515), (2479, 0.01888501717654994), (2574, 0.01867517698232882), (4703, 0.01865236598801439), (3392, 0.0185369212958104), (847, 0.018506278682805417), (819, 0.01838721767034042), (4396, 0.018371949330283036), (3906, 0.018364636532888137), (4114, 0.01836117419350577), (4676, 0.01832075395804987), (714, 0.018293542887067263), (1741, 0.01825999832729575), (2822, 0.0181395033769676), (3681, 0.018092466204922858), (1285, 0.018033495092143886), (3065, 0.018019895403360582), (4147, 0.01792966856174667), (2234, 0.017914754751156677), (3188, 0.01787255637208123), (3413, 0.017867319165506296), (489, 0.01777598637670944), (2885, 0.017643016235878977), (1103, 0.01758897657671223), (2528, 0.017579993542320607), (1112, 0.017568397474650825), (674, 0.01756640744479733), (2245, 0.017524297250067333), (1292, 0.0175133243698993), (454, 0.01750857828144367), (1049, 0.017491661923392188), (4327, 0.017444457912876774), (1132, 0.017345373971677517), (279, 0.017314898034618127), (3094, 0.01730086252751939), (395, 0.01726234416015199), (154, 0.017240952365341324), (201, 0.01720674605777591), (2009, 0.01717202872394018), (849, 0.017101160582641328), (1768, 0.017099233934922464), (872, 0.017052678790905402), (334, 0.01704300360564401), (971, 0.017041783723858273), (4410, 0.01701691422571449), (4433, 0.01699478141644405), (3511, 0.016981386232739492), (4295, 0.01697424676415968), (3104, 0.016955602081035102), (2109, 0.016953462685997525), (3350, 0.01693547769192836), (3442, 0.016933874062398352), (1104, 0.01693013049048927), (2200, 0.01692058468170731), (3148, 0.016821816484259018), (1447, 0.016699264425501036), (4174, 0.016685717997102275), (4177, 0.016682934804048415), (998, 0.01667577689528277), (1951, 0.01661422202144138), (4479, 0.016576999347746812), (2038, 0.01651941639135568), (1231, 0.016509948386676916), (821, 0.016499105691228318), (4138, 0.016480830525053967), (689, 0.016478482711944728), (2663, 0.016416159586303353), (769, 0.016414433448928283), (2958, 0.016373469448992133), (1963, 0.016355284746091867), (2144, 0.016350905328657496), (1084, 0.01633966565722611), (3098, 0.016331090956769274), (369, 0.016317746843000063), (4380, 0.01629038610425171), (1778, 0.016288458612653187), (4609, 0.016196211153847104), (3696, 0.01618537313476868), (600, 0.016179110399813262), (324, 0.016136605819224697), (4250, 0.016118833601671354), (2732, 0.016114074221997614), (254, 0.016097941803288038), (585, 0.016097581525908105), (1406, 0.016095497017310664), (3238, 0.01609212734170814), (1006, 0.016090663619455388), (1532, 0.016089373021201555), (2553, 0.016083750113802583), (2685, 0.016037364547253755), (312, 0.01602727479298673), (3768, 0.016010177519763164), (1621, 0.015977558587300676), (4111, 0.0159728329125743), (1365, 0.015956803971367062), (2192, 0.015926824982064595), (169, 0.015924928223030398), (4245, 0.01584688825209105), (2143, 0.015828345059216653), (2116, 0.015798181290865083), (628, 0.01574458179477079), (2915, 0.01570053808857732), (61, 0.015700296579909238), (1935, 0.015692022400491577), (1759, 0.015686213781213668), (3781, 0.015639652906100542), (1421, 0.015575257539247054), (2405, 0.01557470254501039), (1663, 0.015541918994232759), (978, 0.015541450194164674), (292, 0.01553823699997026), (3376, 0.015530976272904147), (1762, 0.015530345680590191), (3839, 0.015523884133349262), (4106, 0.015518561259774494), (935, 0.015511685310990704), (2998, 0.01549366375791277), (3824, 0.015477631885045123), (4582, 0.015438786481880197), (1667, 0.015430909882176706), (843, 0.015428669617544563), (4422, 0.015411653039676758), (1464, 0.015399436999083586), (176, 0.015343597160036178), (1912, 0.015336864729038039), (3746, 0.015308609460351624), (3204, 0.015275020416608893), (1004, 0.0152510048390804), (3173, 0.015230732168102374), (3809, 0.015227945693996044), (1561, 0.01520433194028404), (1073, 0.015184951346349784), (1973, 0.015157762264731492), (465, 0.015156939234544179), (3501, 0.015091891071042828), (1877, 0.015048505824993277), (4511, 0.015047513291095318), (1323, 0.014986709856148717), (1062, 0.014978680143108115), (742, 0.014957719025172157), (3219, 0.014949308156549226), (2873, 0.014885157290790128), (607, 0.014875899522948651), (2358, 0.014850997199466675), (2281, 0.01484554944103208), (1077, 0.014840722254536634), (2851, 0.014838538770480083), (2999, 0.014810602409855534), (2269, 0.014800014817290524), (3034, 0.014790952228120763), (170, 0.014737473366343377), (2789, 0.014700254304416646), (2331, 0.01467200896615799), (4558, 0.01467119775670203), (2379, 0.014663512845220338), (2637, 0.014658868420231407), (4186, 0.014651945275830958), (309, 0.014630561848943591), (317, 0.01462345567399896), (441, 0.014604475612693431), (1352, 0.014589988145755389), (1171, 0.014564133717081887), (1492, 0.014560295920339599), (3234, 0.014532618512178823), (4647, 0.014529597280845755), (2261, 0.014493471516145457), (4530, 0.014491175845345625), (2756, 0.014489877417474668), (2460, 0.01447081163259885), (3763, 0.014469886029532699), (2441, 0.014464099877690428), (4021, 0.014428920895165068), (3861, 0.014418067209843715), (3863, 0.01439292625147411), (1774, 0.014392387074811318), (2402, 0.014369447055490038), (882, 0.014327103964336483), (57, 0.014299611675317878), (3796, 0.014290886442699963), (271, 0.014285027818281603), (4104, 0.014281202886696431), (3221, 0.0142586450047372), (3990, 0.014252187818732063), (2530, 0.014237872971594887), (2448, 0.014201359444110568), (2810, 0.014164428940266937), (2449, 0.014117952989371243), (1833, 0.014078254367755942), (4194, 0.014074451495658476), (2398, 0.0139394445523385), (1168, 0.013928842085517505), (2604, 0.013894064615941663), (3089, 0.013884892302511123), (1161, 0.013881165473000149), (4144, 0.013870351554560564), (1202, 0.013863661656083852), (2656, 0.013826544027256343), (153, 0.013687266472545923), (3610, 0.013681413068951178), (64, 0.013654755407159993), (4726, 0.013633741107482554), (4483, 0.013592444625376265), (2211, 0.013543845902920893), (1397, 0.013492565986475144), (2199, 0.013408727247604118), (4740, 0.013398941432484717), (473, 0.013378516155271289), (3892, 0.013376742969799127), (2710, 0.013364687379492101), (2643, 0.01335228179820733), (3822, 0.013325849450160274), (1009, 0.013303527370530057), (2257, 0.013297712671326806), (2582, 0.013296153185142948), (2111, 0.013292521977397729), (693, 0.013274169812845777), (2901, 0.013269564865634747), (3078, 0.013266831700897532), (4599, 0.0132420240813973), (1088, 0.013238926450120418), (2591, 0.013219452051316884), (2485, 0.013215994100384387), (1625, 0.013208991833248267), (831, 0.013189600407038638), (781, 0.013178653276608292), (401, 0.013150009854293477), (2351, 0.013147909327914445), (3297, 0.013120689752946698), (3472, 0.013093636563791767), (2456, 0.013090845500183823), (3137, 0.013078650862190353), (1466, 0.013043378083368223), (2423, 0.01302173564102162), (2154, 0.012999403896880386), (700, 0.01292208237041556), (2592, 0.012904915813643478), (3701, 0.01286817495343518), (4737, 0.012857590458301532), (2763, 0.012845098113326795), (4454, 0.012843815313990713), (2672, 0.012793606291776982), (773, 0.012762144929092103), (3613, 0.01274207668540362), (2531, 0.012738438136820136), (3626, 0.012737568158105103), (2381, 0.012732417511740925), (1615, 0.012712298935203384), (1613, 0.012708697974787662), (3813, 0.012705452825235794), (946, 0.0126765625234737), (3615, 0.012671181964937425), (3695, 0.012666452608077434), (3524, 0.01265549635937354), (490, 0.01262673091223464), (4259, 0.012579748522288594), (3003, 0.012577391422133577), (3620, 0.012572650625507732), (2909, 0.012568141312746303), (2337, 0.01254668704468104), (2210, 0.012531358505850314), (3430, 0.012525519485874208), (4616, 0.012494505430314775), (1196, 0.012480836711296331), (2319, 0.012475995563875202), (2555, 0.012465401502973355), (2799, 0.012454127016232566), (4756, 0.012430968183703654), (4031, 0.012409669676988016), (3554, 0.012389960316384478), (2421, 0.012389655299624831), (3858, 0.01236606468296745), (3846, 0.012357743200407088), (859, 0.01235045306552424), (4118, 0.012320957445763246), (4730, 0.01231147492257596), (4190, 0.012291110231796666), (1328, 0.01228468249082124), (2814, 0.012276177093995587), (1520, 0.01225699437251007), (345, 0.012248794681285728), (522, 0.012246277809698142), (2082, 0.01224253256876395), (4258, 0.012224069569394622), (4711, 0.012200665787067182), (1531, 0.012195112529343542), (4140, 0.012189354710816185), (2198, 0.012180228263669438), (2772, 0.012176880573325213), (1889, 0.012173354702830076), (1911, 0.012143699861389374), (4340, 0.012142264396573657), (1961, 0.012119899206984218), (1141, 0.012116869316853051), (297, 0.012108623111816796), (1766, 0.0120960846403037), (3081, 0.012087690397410302), (413, 0.01208763017883206), (4338, 0.012079577527595628), (3151, 0.01207622605065946), (45, 0.012073859161023784), (3938, 0.012070553625818254), (2590, 0.012060231110441418), (340, 0.011992696442102106), (4020, 0.011968609778264435), (1204, 0.01196003333350492), (298, 0.011957418900780505), (1222, 0.011947737677948845), (686, 0.01194038913021743), (3728, 0.011921262878891307), (611, 0.011904615652818851), (2844, 0.0118992868559271), (1013, 0.011897834290116266), (977, 0.01186574725226487), (301, 0.011860949328780727), (2125, 0.011830503604628027), (1235, 0.011829408926702858), (2371, 0.01182632897580336), (91, 0.011822173067052452), (1155, 0.011812987560687079), (4516, 0.011796556920273893), (3141, 0.011791447688028233), (1525, 0.011775859038329593), (715, 0.011773061363304077), (3643, 0.011764635437393279), (2430, 0.011756095795450002), (257, 0.011738256345945105), (1878, 0.01170709742442254), (1849, 0.01169892354640692), (470, 0.011675812976541767), (2223, 0.011671230582388493), (277, 0.011660767732058637), (2721, 0.011645377218043916), (2086, 0.011634702427518556), (1955, 0.011631818270625665), (405, 0.01163024482545347), (576, 0.01160899683811007), (2614, 0.011599192146546679), (1713, 0.011594339901804782), (4160, 0.011585914067939171), (1913, 0.011581100734006429), (2916, 0.011578011661250807), (3536, 0.01157261136988161), (1206, 0.01157231654401975), (308, 0.01154286729931916), (1731, 0.011536290181322432), (2259, 0.011529522162787657), (3751, 0.011528264500082755), (149, 0.01151447572267607), (1425, 0.011510490794085513), (2758, 0.01150833726337042), (3189, 0.011505617481419343), (3752, 0.011483455392680194), (1697, 0.011481541066256908), (73, 0.01147877433083186), (4136, 0.011470493319018981), (4395, 0.011466858541622094), (1898, 0.011464615476422541), (3121, 0.011454476111793482), (1541, 0.01145321465745283), (3033, 0.011452746042962345), (344, 0.011434532125493295), (3650, 0.011415215484762873), (2616, 0.011404873905133804), (2435, 0.011401929833809712), (1298, 0.011401380583918817), (2301, 0.011398713541473763), (4397, 0.011392564833926812), (2617, 0.011389055574870618), (3080, 0.011388168027442896), (1771, 0.01138149369445821), (1116, 0.011372739807685845), (2549, 0.011362406236574668), (4482, 0.011344528374083701), (3581, 0.011322372942445683), (3335, 0.011312140471535248), (713, 0.011302278191063643), (657, 0.011291434733564932), (1936, 0.011283214521999187), (4218, 0.011281792754964845), (299, 0.011278672242132547), (2049, 0.011278271948059046), (3187, 0.01127704814479236), (2972, 0.011266427036007439), (4330, 0.011262042762219357), (3682, 0.011258559277103158), (2554, 0.011247010112116696), (4604, 0.01123671976886982), (2525, 0.011233443468658698), (2100, 0.01123167693167922), (1358, 0.011226105572917257), (4364, 0.011222511910590954), (2176, 0.011205049775774106), (407, 0.011192893478764758), (2931, 0.011189471033283119), (2646, 0.011176554144141546), (2562, 0.011175974484207638), (1522, 0.01117330861675752), (2055, 0.011164623780438861), (2835, 0.011162520823967018), (1361, 0.011156560012769271), (2896, 0.011138774323773252), (3389, 0.011132822067840904), (2770, 0.011131855412283054), (300, 0.01112372557682392), (3360, 0.011121104155179003), (717, 0.011105195453593005), (2367, 0.011103733103393238), (2335, 0.011095799672176375), (3533, 0.01107920848778081), (807, 0.011071319805026302), (528, 0.011066468130851003), (1604, 0.01106136675214159), (2262, 0.011058403305683378), (546, 0.011048253726514613), (3704, 0.011027430546698289), (597, 0.011017337811104831), (3753, 0.011002608218105545), (2593, 0.01099126226770226), (183, 0.010981133166339127), (1783, 0.010977352010201365), (1463, 0.010970735326273524), (3112, 0.010965892320707164), (2612, 0.010939847004638561), (1394, 0.010939126344289648), (2006, 0.01093665385085284), (1308, 0.010905600403291773), (1943, 0.010905513404151225), (3084, 0.010903668343550152), (383, 0.010900099408617326), (2050, 0.010897359488329213), (1598, 0.010892745695574703), (1310, 0.010889547078520532), (1804, 0.010887344040779616), (1581, 0.010855236936463678), (745, 0.010850190355126205), (1300, 0.010849841299495983), (3545, 0.010848358522581503), (4501, 0.010842639754827004), (2260, 0.010840680421065573), (1670, 0.010829588623395276), (2046, 0.010801585185037323), (3459, 0.010783231889184324), (1423, 0.010769232063574124), (498, 0.010767920182234502), (1683, 0.010758564926937053), (703, 0.010719018472780045), (1513, 0.010713719015962988), (3058, 0.010677996094894308), (4314, 0.010674265242252873), (2461, 0.010657325878117924), (511, 0.010653433578162556), (1368, 0.010644433136142502), (4569, 0.010641621042597743), (497, 0.010639944987343584), (725, 0.010621573597653174), (4447, 0.010617673833383858), (2466, 0.01060531527813145), (1854, 0.010599356351394234), (120, 0.010596578522522576), (1487, 0.010588719970949028), (836, 0.010558317920802964), (117, 0.010535942359867162), (2812, 0.010500336813277392), (2364, 0.010471338058654585), (1875, 0.010470844882781853), (3066, 0.010470786555784142), (4356, 0.010464049397423673), (1040, 0.01045883206951257), (3785, 0.010438505439152975), (2887, 0.010436198352699084), (1451, 0.010412659778763425), (4348, 0.01040974897831398), (1839, 0.010402448342039817), (199, 0.0103586046347859), (2603, 0.010331593257304036), (1690, 0.010330900046902045), (940, 0.01032479618200318), (1932, 0.010304508099495796), (1744, 0.010270775847805311), (3841, 0.0102587822229599), (2099, 0.010237960897392944), (3716, 0.010222906739275714), (1830, 0.010155020209860744), (1610, 0.010142382093558343), (1539, 0.010140306523215561), (3923, 0.010136832467664142), (3096, 0.010122343193799531), (242, 0.010086272731059467), (2087, 0.010083564372464706), (2867, 0.010070364735700638), (1370, 0.010053359307884313), (4405, 0.010032116311683173), (1268, 0.010029551800697537), (1676, 0.00997158622573501), (1863, 0.009961546007030676), (2517, 0.009885857023145352), (1684, 0.009865375143506345), (3835, 0.009854440684019868), (519, 0.00984851114240558), (824, 0.009771750335094764), (2976, 0.009770004663163254), (437, 0.009546142816292192), (2052, 0.009536388317199612), (3980, 0.009423569232816181), (4598, 0.009325100146522361), (3726, 0.009289512989006756), (3894, 0.009249239952366638), (726, 0.009247560945344716), (2389, 0.009179104955218793), (4719, 0.009125561910554499), (1695, 0.009003563945087192), (720, 0.008753965021104057), (2544, 0.008744479439459735), (3211, 0.008571273608614524), (527, 0.008500471147238953), (2265, 0.008397894977793531), (4739, 0.008319601819168907), (1144, 0.008299971040954464), (4026, 0.007576351340051713), (3420, 0.007363104423077616), (3981, 0.007363104423077616), (3323, 0.006371596906401213), (3325, 0.004857045882333846), (4067, 0.003940372036954054), (4541, 0.003735158942462439), (4201, 0.003552119062788972), (4578, 0.0033419024575534087), (4065, 0.0032933238647895797), (3945, 0.0031875278785875195), (4425, 0.003134541809344748), (4644, 0.0030473802612881913), (3918, 0.002775373376138092), (3176, 0.0026955720818686605), (3663, 0.0026803006491446257), (4681, 0.0024399892749961713), (3679, 0.002338890216311134), (3261, 0.002230961186669704), (2658, 0.0021707751055726936), (3253, 0.002015227956097817), (3760, 0.001983016707855533), (4607, 0.0019671186961610874), (4635, 0.001940955119234358), (4313, 0.00192875170096808), (4007, 0.0018889381943493827), (2737, 0.0018615785212555747), (4480, 0.00185150141821313), (4003, 0.0018468185731958212), (2597, 0.0018390992801806188), (3475, 0.0018117112882000926), (3552, 0.0018116943014960336), (3537, 0.0018106287296370948), (4407, 0.0018091418369682154), (2678, 0.0018070880305856194), (2701, 0.001801243717379072), (3764, 0.0017980508810746386), (4082, 0.0017850164283003966), (2818, 0.0017782934213742632), (4571, 0.0017712869263572517), (3178, 0.001761649181541535), (3577, 0.0017486462250394196), (2730, 0.0017458596464875076), (3115, 0.0017352986384333382), (2869, 0.0017189250557481067), (3638, 0.0017180481449943121), (4671, 0.001710969883154166), (3140, 0.0017099174709108939), (570, 0.0017094401336039842), (2757, 0.001705939929383143), (4032, 0.0017001655135629606), (3185, 0.0016909716092641332), (3276, 0.0016824896850324148), (4271, 0.0016814123142587327), (4107, 0.0016813588969735527), (4654, 0.0016807495691565856), (2838, 0.0016686528371925545), (3561, 0.0016634767992157085), (3018, 0.0016620724917503738), (2636, 0.001658179248941602), (3925, 0.001658158754399576), (3088, 0.0016570569220630503), (3076, 0.0016567549492408134), (2703, 0.0016543947477430543), (4223, 0.0016486570309734493), (4064, 0.0016473985189904164), (3345, 0.001644740448164218), (3703, 0.0016424761618581338), (2669, 0.0016422205838950157), (2550, 0.0016389606676958702), (4319, 0.0016360874451772606), (4444, 0.0016359639187585274), (3578, 0.0016336945644425732), (1371, 0.001633327883489804), (2834, 0.0016308617916371527), (3218, 0.0016283753141141171), (764, 0.0016264455128346326), (4122, 0.001625252130476175), (4721, 0.001624054330786638), (4332, 0.001620462385698163), (2560, 0.0016201086510951963), (2488, 0.0016195906086896496), (4403, 0.0016187882633727899), (3166, 0.0016182702987468964), (2529, 0.001616360136720965), (2657, 0.0016146915803071566), (2684, 0.0016145731364038275), (4267, 0.0016083721811225615), (2720, 0.0016061878423976263), (3717, 0.0016033978222408892), (2659, 0.0016033587472983387), (2490, 0.0016000578600626418), (2937, 0.0015973994464162315), (4705, 0.0015942479502412928), (678, 0.0015928989381454864), (2312, 0.001592694771005343), (484, 0.0015922153946764024), (3523, 0.0015921062900634353), (4263, 0.0015920326338564657), (3051, 0.0015900770317682194), (3284, 0.0015886778162745), (3159, 0.0015859712887044818), (2764, 0.0015858865124037526), (2795, 0.0015849007693410045), (3227, 0.00158421115680262), (967, 0.001582505158972958), (2854, 0.001582380227298724), (3730, 0.0015818672092992954), (2858, 0.0015804829156185782), (2137, 0.0015801222013401858), (4214, 0.0015796902804750014), (2459, 0.001579672349016132), (3139, 0.0015781368981522114), (4023, 0.0015777361743808417), (2891, 0.0015773539648689231), (3357, 0.0015768711677175704), (3975, 0.0015760430586491399), (3428, 0.0015739824849761144), (996, 0.0015734116699941249), (2266, 0.0015730034301072889), (2640, 0.0015729740627474914), (3275, 0.0015722850522723994), (2744, 0.0015703006131711776), (4062, 0.0015697782666280879), (3364, 0.0015677317427405905), (3672, 0.0015670412794965656), (670, 0.0015666492230171879), (2619, 0.0015659088624897747), (2722, 0.0015650922517533063), (2189, 0.001565062797414446), (2320, 0.001563981963699063), (4612, 0.00156325265784645), (2840, 0.0015617941483405157), (3009, 0.001561388892326303), (3145, 0.0015611308821536075), (2368, 0.0015610156287718575), (4202, 0.0015592513129099369), (3101, 0.0015588346078716975), (711, 0.00155860971916272), (2427, 0.0015569653905821163), (3040, 0.0015568409136703446), (2957, 0.001556761395925169), (928, 0.0015564098177151958), (2673, 0.0015560347500498224), (2547, 0.0015550666667427313), (4618, 0.001554729603594096), (2989, 0.0015538051265455543), (690, 0.0015535076113717527), (3206, 0.0015527732802537919), (4440, 0.0015519272532331797), (3060, 0.0015506348263010033), (952, 0.001550267458971322), (3921, 0.0015499967935966217), (2251, 0.0015496493999563096), (4204, 0.0015472518502584987), (2500, 0.0015468640272572995), (687, 0.0015448679053331497), (2349, 0.0015430449307147773), (2395, 0.001542331634985053), (1145, 0.001541493690409391), (2407, 0.0015414748206975279), (2543, 0.0015411453049417744), (4239, 0.0015394307175844084), (3377, 0.0015389482987887893), (4701, 0.0015368157516659747), (3947, 0.0015360163297900723), (3266, 0.0015356827351218365), (2492, 0.001535005722173258), (2889, 0.0015348553780165852), (2768, 0.0015338140084533091), (3949, 0.0015321805315276704), (1437, 0.001530905426309445), (3339, 0.0015303463023378355), (1548, 0.0015290706551569638), (2585, 0.001524705972934364), (2518, 0.0015245586678626912), (3351, 0.0015239631558758879), (4617, 0.0015239379895517784), (4704, 0.0015234792140560829), (3052, 0.0015226996683393753), (735, 0.0015226664982563567), (3754, 0.0015222403779034505), (4499, 0.0015212359536544223), (3220, 0.0015189255062532598), (2922, 0.0015171802094164667), (2569, 0.0015168613269130103), (751, 0.0015153736037084988), (2404, 0.0015152851577058329), (3844, 0.0015152514853474042), (3168, 0.0015141714671188344), (3055, 0.0015137872226720717), (2537, 0.0015130720822636482), (3043, 0.0015126529151855282), (2581, 0.0015121113749436829), (4291, 0.0015120069005578763), (4709, 0.001511500046890591), (4666, 0.0015095154949959038), (2870, 0.001508712518606703), (2416, 0.0015085200444535565), (4242, 0.0015084377471476173), (3042, 0.0015081403287407235), (4691, 0.0015078649136541986), (4017, 0.0015078610951781359), (2882, 0.001507714850694885), (2775, 0.0015072010455688411), (3635, 0.0015065857180518191), (2188, 0.001506350783192889), (4660, 0.001505621040510094), (3054, 0.0015051868031956638), (2244, 0.0015050965940478537), (2892, 0.0015049343446577345), (2883, 0.0015045483740739661), (3154, 0.0015033845818763487), (2794, 0.0015033686539420612), (3177, 0.0015028619066218497), (2452, 0.001502491259878922), (4115, 0.001502186215135668), (947, 0.0015019657557403174), (2235, 0.001499720397051897), (2740, 0.0014996541321854783), (3942, 0.0014995160975434516), (3588, 0.0014993562802718908), (2990, 0.0014991085344798355), (2817, 0.0014990475310273064), (2295, 0.0014970322121781998), (3291, 0.0014968519967326623), (1208, 0.001496798106318121), (2731, 0.0014965214782079457), (2519, 0.001496425590718295), (4749, 0.0014962775708668265), (3363, 0.0014955383697338562), (4725, 0.0014948956585245623), (4222, 0.001494753065098415), (2689, 0.0014942423766372058), (4606, 0.0014938899446437868), (2884, 0.0014937178841414507), (4142, 0.0014933817682215619), (4529, 0.00149294809418975), (2434, 0.0014924742131801336), (3022, 0.0014921330979223457), (4700, 0.0014916000272070867), (2310, 0.0014909498284225203), (2182, 0.0014909066218714274), (4221, 0.0014905834375907555), (2923, 0.0014897586832749855), (3862, 0.001489411815603012), (4584, 0.0014893531364099733), (582, 0.0014889986461213882), (2339, 0.0014885927455021767), (3572, 0.0014883980178482677), (3448, 0.0014881683526503182), (3479, 0.001486997304109243), (736, 0.0014866278685319648), (4611, 0.001486358539271622), (4646, 0.0014855648948309027), (3939, 0.0014853282743805063), (1799, 0.001484568313079612), (4209, 0.001484416775287769), (839, 0.0014835000241752547), (4047, 0.0014833965554910628), (3502, 0.0014832085359672926), (2410, 0.0014829565923831806), (3766, 0.0014827120002921116), (2032, 0.0014817240183825301), (2785, 0.0014817186133701465), (4028, 0.0014816966323770355), (3964, 0.0014815333015544517), (2694, 0.001481464410682148), (3110, 0.0014806495316156813), (3741, 0.001480603851937109), (1023, 0.0014797509352416107), (4653, 0.0014786911606050272), (1939, 0.0014786641022624186), (2494, 0.0014784649010744961), (2861, 0.0014781320401809064), (2655, 0.0014779271945127735), (2951, 0.0014740270373840055), (4127, 0.0014733293100462558), (4172, 0.0014733019577474046), (2932, 0.0014730583569461198), (4490, 0.0014723188093870492), (4451, 0.0014722294476770756), (3804, 0.0014708585327706878), (4061, 0.0014706484900582346), (2625, 0.0014700782250065818), (2483, 0.0014698770725252988), (4692, 0.0014697221217470327), (512, 0.0014692289911019468), (791, 0.0014691345907165624), (3789, 0.0014690583018144648), (4033, 0.0014690196952994665), (4484, 0.0014685266502711288), (3004, 0.0014683354570935241), (2845, 0.0014674161420881132), (2384, 0.001467155671260858), (3649, 0.0014667274959632435), (1258, 0.0014663639986157817), (3414, 0.0014661583886499071), (2952, 0.0014658502467299662), (2559, 0.0014656706130030356), (3702, 0.0014644662509396534), (458, 0.001464444704557427), (4418, 0.0014643014334944254), (4101, 0.0014642284379839008), (1968, 0.0014639794724725715), (4518, 0.0014636689635893533), (2832, 0.0014634320223639913), (3415, 0.0014609603239584788), (2570, 0.001460354424610934), (4198, 0.0014601876942284366), (939, 0.0014599396915401116), (795, 0.001459148692996838), (4058, 0.001458466926152825), (3384, 0.0014584544755647652), (2486, 0.001458378598174412), (2601, 0.0014582085866664655), (2060, 0.0014574173104801318), (2628, 0.001457336175450018), (2536, 0.0014563232603973786), (3639, 0.0014560147396733246), (2436, 0.0014547741278152424), (3157, 0.0014542211131567224), (3408, 0.0014539551536132352), (4307, 0.0014539101562326877), (2241, 0.001453888146013793), (2769, 0.0014538266594072474), (2273, 0.001453618362404937), (3762, 0.001452947344775712), (2383, 0.001452860759644029), (4696, 0.00145263547378728), (2948, 0.0014522472760676432), (3127, 0.0014517202928029129), (3292, 0.0014516944698803253), (531, 0.0014515356004277588), (3758, 0.0014507534421411622), (982, 0.0014506124878224417), (4537, 0.0014504698965135789), (2075, 0.0014504335037367633), (4551, 0.0014501789105951974), (2624, 0.0014501631436904807), (481, 0.0014495111767175123), (2495, 0.0014491139318281265), (3283, 0.0014486433486018565), (4515, 0.0014481263381434302), (4051, 0.0014478033911317866), (2333, 0.0014476571554540147), (627, 0.0014475403910753817), (1321, 0.0014469277862254077), (1345, 0.0014466474600707503), (2218, 0.001446534963063624), (4732, 0.001446521102780397), (3439, 0.001446183244900651), (3469, 0.0014461753233583046), (3267, 0.0014460647132036532), (4019, 0.0014457481905408255), (1454, 0.0014455537354371635), (2037, 0.0014454476812884789), (679, 0.0014453846519030804), (2425, 0.001445341606035361), (708, 0.0014447943549354425), (1071, 0.0014441496569901303), (2738, 0.0014441060064795362), (3739, 0.0014430280123881774), (4423, 0.0014424176450825933), (4707, 0.0014421078782364055), (3312, 0.001441988250695323), (875, 0.0014418659874750814), (3175, 0.0014416636075834492), (2250, 0.0014414712311660754), (845, 0.0014412142397523672), (4169, 0.0014408666261883124), (1518, 0.001440465562850962), (462, 0.001439972893545635), (2228, 0.001439369307401449), (4040, 0.0014391469229469212), (2928, 0.0014390985464350964), (1335, 0.0014390402228279795), (2346, 0.0014390381135568004), (3901, 0.0014389082177344388), (905, 0.001438805793384597), (2255, 0.0014387324326066437), (1669, 0.0014386882916504046), (612, 0.0014384577180342176), (3715, 0.0014384513792999737), (4506, 0.001437947791366326), (2324, 0.0014372292298011266), (1919, 0.0014360173975303515), (4203, 0.001435909283445534), (3322, 0.0014354241087969073), (2147, 0.0014348473195659205), (3950, 0.001434655024747632), (1666, 0.0014345137327326743), (3262, 0.0014344836853507224), (2468, 0.0014335570422706612), (2282, 0.0014328704425579553), (4166, 0.0014328283768948677), (2172, 0.0014328183968394018), (2385, 0.0014325971854940796), (2236, 0.0014320005435897339), (2941, 0.0014319321016796661), (513, 0.0014312076487825202), (1489, 0.001431007669275976), (4219, 0.0014307207550594483), (4546, 0.001430519514055916), (3039, 0.00143043851797079), (842, 0.0014302912131096265), (3951, 0.0014302471070326518), (3172, 0.0014301258956938801), (4281, 0.0014291782662125604), (4230, 0.001429071696387531), (3903, 0.0014290520687343451), (1343, 0.0014274336658884814), (2342, 0.0014269075839839268), (2750, 0.00142670887795915), (2949, 0.001426382130931796), (2350, 0.001426296984847259), (443, 0.0014262851908901151), (1806, 0.0014261657908303856), (193, 0.0014257021265730717), (3425, 0.0014256957373187835), (3277, 0.0014253123868988853), (4370, 0.0014252157466219484), (1058, 0.0014248457965708723), (3992, 0.001424136852475893), (2286, 0.001423970544250778), (2079, 0.001423662543897151), (985, 0.0014226582385391308), (2868, 0.0014219547972821299), (2180, 0.001421324189804245), (4321, 0.001420737271753936), (4400, 0.0014206197956296446), (3303, 0.0014204526796795655), (3299, 0.0014203699973451803), (681, 0.0014203325551927178), (3255, 0.0014203245513940174), (955, 0.0014199723676819865), (4699, 0.0014199442580165244), (2012, 0.0014197920730263942), (89, 0.001419651838166609), (2852, 0.0014194275791825867), (2793, 0.0014190803869551798), (436, 0.001418827646717976), (2271, 0.001418375859756468), (3477, 0.001417864137295335), (3960, 0.0014176457476091438), (2696, 0.001417610476009536), (3510, 0.0014167258817795573), (3759, 0.0014166991165770375), (2400, 0.0014166212731689307), (1178, 0.0014163340509158644), (4628, 0.0014161566206186962), (3883, 0.0014159713830545935), (2751, 0.0014159452526975533), (563, 0.0014152502078369586), (889, 0.0014150579587200848), (246, 0.0014148740278821668), (4187, 0.001414557334474694), (614, 0.001414555607114048), (2561, 0.0014142325128350837), (2956, 0.001413996195021174), (1295, 0.00141359050352213), (1540, 0.0014132057495942199), (3866, 0.001413170785477355), (3848, 0.0014130859859510395), (3962, 0.0014116690563183677), (3891, 0.0014113454184183838), (1169, 0.0014108428679781612), (1387, 0.0014105454467609542), (4102, 0.0014104085991776464), (1887, 0.001410363546738181), (3382, 0.0014101574114423494), (4477, 0.0014099448515405306), (4262, 0.001409785205153432), (4293, 0.0014094961312060038), (3708, 0.0014094582011388787), (4710, 0.001409442211173343), (2196, 0.0014094082881841922), (1325, 0.001409393226060542), (2739, 0.0014093889678342712), (1533, 0.001409194365769001), (1363, 0.0014089759933650944), (3740, 0.0014089366320958407), (911, 0.0014088293876372098), (2158, 0.0014084425336684078), (830, 0.0014082789085013499), (4333, 0.0014080161812155291), (2875, 0.00140774449576043), (1983, 0.001407537642170677), (3087, 0.0014070444008582811), (2638, 0.0014065915543511325), (2600, 0.0014063338583227504), (1486, 0.0014061986433065781), (1488, 0.001406171296361289), (4170, 0.0014061165816062616), (581, 0.0014060609726597548), (4446, 0.0014060312510635541), (729, 0.0014057144740851743), (1940, 0.0014055452128853738), (2340, 0.0014054659825549643), (1829, 0.00140525246465551), (4464, 0.0014040149199594765), (3828, 0.001403993307771307), (100, 0.0014039668318216116), (3424, 0.0014037854809382702), (3988, 0.0014037604973457152), (3354, 0.0014035264070620108), (2675, 0.0014035184769109255), (3905, 0.001403251190095634), (3604, 0.0014030982067719533), (1456, 0.0014030765940388152), (2166, 0.0014029941676006077), (3053, 0.0014023753033220808), (2947, 0.0014020724330469963), (2903, 0.0014018079719205839), (4398, 0.0014017832664562555), (806, 0.0014017755485136564), (1637, 0.001401754200702462), (1398, 0.001401306034710491), (3831, 0.0014011451423079826), (4302, 0.0014011135810557194), (793, 0.0014009063374519843), (3857, 0.0014008096322554932), (3936, 0.0014005802846542498), (1876, 0.0014001976307115643), (4369, 0.0013994907486965917), (4747, 0.0013992522521141385), (1015, 0.0013991745065011238), (731, 0.0013986612023454152), (4016, 0.0013986381548556843), (4368, 0.001398282366674066), (456, 0.001397982975493311), (622, 0.0013976096684891358), (499, 0.0013972363403528497), (1929, 0.0013970117445005008), (448, 0.0013968714149003843), (4538, 0.001396588248950263), (2802, 0.0013965256075138776), (3239, 0.0013957696624788108), (4594, 0.0013957397756222242), (526, 0.0013951953763216218), (3010, 0.0013951030297250995), (3190, 0.001394918724845521), (530, 0.001394543196006758), (1138, 0.0013945177455604988), (4449, 0.001394064957819007), (1815, 0.0013936874865213182), (4452, 0.0013933963185955708), (4208, 0.0013933502516528431), (3241, 0.001393294388287092), (4469, 0.0013925464357197987), (2996, 0.001392516331973666), (425, 0.001391953423991404), (3249, 0.0013911828495612737), (2633, 0.001390982314524132), (1229, 0.0013907472634529616), (4656, 0.0013904920377115068), (2878, 0.0013903008682771582), (2420, 0.001390268663166095), (3117, 0.0013902340896513338), (3687, 0.0013900849001062508), (4119, 0.0013900611402469256), (1786, 0.0013900252795762825), (2112, 0.001390012042063653), (4731, 0.0013900001846263398), (4544, 0.0013896632584054283), (1393, 0.0013894998388627653), (4024, 0.0013886670738767189), (434, 0.0013884487227363352), (2588, 0.0013880032066421802), (3314, 0.0013879191660916821), (1047, 0.0013877868651204777), (813, 0.00138768008980934), (2983, 0.0013876576526360809), (2645, 0.0013874601112863893), (3370, 0.0013874582907117102), (3202, 0.0013873758907435316), (3683, 0.0013871658823821898), (2306, 0.0013871454415499175), (3109, 0.0013871168004126802), (4045, 0.001386597810619034), (3001, 0.001386395644555652), (1192, 0.0013863679558404922), (4465, 0.001386005496991218), (2511, 0.0013859128961605971), (4150, 0.0013857141547673562), (2254, 0.0013855683985129535), (1271, 0.0013855394707334946), (455, 0.0013855307969512975), (235, 0.0013855095603765987), (1243, 0.0013854057944421036), (4335, 0.001385359276525145), (2564, 0.0013851812028146764), (3869, 0.0013849977139048493), (2939, 0.0013844331933735448), (3013, 0.0013844116716008467), (3049, 0.0013844115519979288), (4624, 0.001383905031777067), (3884, 0.0013833487555404743), (3281, 0.0013831894566511402), (950, 0.0013827201960001669), (3592, 0.001382494877226342), (4659, 0.0013817647513877614), (1767, 0.0013816880443288295), (1997, 0.0013815877812716887), (3972, 0.0013814557645097658), (949, 0.001381314548295364), (1918, 0.0013812263139446166), (2455, 0.0013809567903901023), (683, 0.001380708944934783), (4375, 0.0013806418880827635), (3995, 0.0013804324061953434), (2066, 0.0013795404894311187), (3036, 0.0013793504641700892), (2357, 0.0013793208864571257), (2308, 0.001378914368740783), (3149, 0.001378734245157829), (2293, 0.0013784586120610348), (1121, 0.001378277431414071), (162, 0.0013777302270885595), (2968, 0.00137759239515262), (2438, 0.0013775439156302931), (3961, 0.0013774594779085894), (523, 0.0013774282188503397), (3778, 0.001377388064896701), (3922, 0.0013769257122858464), (2557, 0.0013767031313072792), (930, 0.0013763049290781715), (3996, 0.0013761585685392837), (2904, 0.001376118784935776), (4306, 0.001376111883254717), (342, 0.0013759624689674357), (4076, 0.0013758871165528528), (1450, 0.0013756189738050033), (3385, 0.0013755056030037), (1803, 0.0013751064581381599), (560, 0.001375008137697952), (516, 0.001374869643504472), (4724, 0.0013748402129904356), (3449, 0.001374709227142743), (3143, 0.0013746168643131718), (4521, 0.0013743741967624), (3251, 0.0013742075935075763), (1479, 0.0013741966142981942), (1442, 0.0013740182059063678), (1110, 0.0013739477903674682), (3832, 0.0013739117056819842), (2249, 0.0013736365638375785), (3025, 0.0013732378421093762), (904, 0.001373153522876593), (914, 0.0013728060315240053), (1436, 0.0013726067453852487), (550, 0.0013722754411172847), (2515, 0.001372116508018767), (207, 0.0013720841859756758), (728, 0.0013720618857032815), (1542, 0.0013718994726731014), (682, 0.0013716990710966387), (4039, 0.001371511326996652), (4283, 0.0013707593734658967), (2026, 0.0013706475793851978), (3912, 0.001370412616743556), (1043, 0.0013703795751140323), (2123, 0.0013701964185589225), (1443, 0.0013701255978585685), (4002, 0.0013696380671584791), (990, 0.0013696059980734473), (1254, 0.0013690471065549218), (1782, 0.0013687448638737471), (623, 0.0013686727188568558), (3450, 0.0013685564044075213), (2328, 0.0013683527159289316), (3353, 0.0013683344745692072), (368, 0.0013682806346779167), (1848, 0.0013680017905930543), (3264, 0.0013679491179574412), (673, 0.0013678375762172818), (891, 0.001367831834920937), (1191, 0.0013677434443145511), (4125, 0.001367216793773599), (3230, 0.0013671888640553855), (4572, 0.001367111864764696), (1890, 0.0013664318708746658), (3521, 0.0013662633921013966), (4185, 0.00136593617727162), (2375, 0.0013658695370798244), (3183, 0.00136551025479543), (1224, 0.001365289819467388), (485, 0.001365243533222398), (3269, 0.0013649090611029713), (2187, 0.0013648288157609835), (3440, 0.0013647784989239005), (2181, 0.0013647487728242521), (4580, 0.0013646732020730146), (676, 0.001364630210187351), (447, 0.0013643055921922663), (3976, 0.001363989143152236), (716, 0.00136338941897846), (1109, 0.0013631787565850264), (754, 0.001362647266391456), (2140, 0.0013622087576325992), (3271, 0.0013618661596284513), (834, 0.001361759478140978), (1507, 0.0013617497909573233), (3516, 0.0013614536333817606), (278, 0.0013612651723153358), (424, 0.0013612160116641167), (2513, 0.0013610926738827297), (1733, 0.0013610856707460927), (2470, 0.0013610255989438794), (2363, 0.0013607878126566232), (3874, 0.0013607439798362993), (1858, 0.001360692611235905), (3678, 0.0013601884393947745), (2493, 0.0013601383006994338), (1051, 0.0013600903616963942), (4324, 0.00136002932062678), (3677, 0.0013597938882525444), (4121, 0.00135933480157243), (326, 0.0013591131962192038), (4574, 0.001358966335015919), (2185, 0.0013586582616587424), (320, 0.001358627038581955), (1962, 0.0013585873183822894), (2709, 0.0013585743730996915), (3612, 0.0013585036197475582), (3027, 0.001358496485416903), (841, 0.0013584815584530606), (888, 0.0013583507889877683), (3186, 0.0013583270857983822), (2797, 0.0013578382920970387), (3242, 0.001357516623755883), (2021, 0.0013574439610532683), (1805, 0.0013573269969845833), (760, 0.0013570902244568672), (2219, 0.0013570758785802855), (3123, 0.0013569892339853058), (2879, 0.001356681425401221), (4130, 0.0013563987850092989), (1498, 0.001356356090355106), (4496, 0.0013562871089237494), (709, 0.001355980087389632), (2830, 0.0013557496104796205), (3544, 0.0013557158541118001), (4619, 0.0013555254429891883), (2966, 0.0013554438710487737), (3699, 0.001355135908451759), (825, 0.0013551126923514341), (4494, 0.0013550966692031361), (3532, 0.001355004218769345), (4103, 0.0013548714515798817), (774, 0.0013548189386553226), (2077, 0.001354655438399817), (896, 0.0013545520867534807), (1097, 0.0013545145232481295), (4388, 0.0013543017224654217), (2848, 0.0013542555958425849), (2388, 0.0013540342649976213), (4720, 0.001353847125845676), (371, 0.001353809906888013), (3999, 0.0013536723006476118), (3097, 0.0013535624349764969), (3601, 0.001353517034780205), (3977, 0.0013534962613308147), (1228, 0.0013527754431215731), (2790, 0.0013526819798336572), (2353, 0.0013526625978081382), (249, 0.0013525286623382012), (1984, 0.0013524434862821084), (4331, 0.0013520457055412646), (87, 0.0013519122111461813), (4298, 0.0013517271770910344), (98, 0.0013513642275751235), (3031, 0.0013510441698680073), (1924, 0.0013508125132001144), (3775, 0.0013504892862449692), (2047, 0.0013504278723885748), (738, 0.0013503635657302491), (1588, 0.0013503036906785894), (4116, 0.0013502347699557728), (2094, 0.0013499518974700358), (124, 0.0013496359572950014), (1925, 0.0013495007424106054), (107, 0.0013494418183124712), (39, 0.0013493662454393215), (4755, 0.0013492869217224394), (4474, 0.0013491975497349155), (4514, 0.0013491847832919298), (145, 0.001349160491469969), (204, 0.0013489908385961897), (2258, 0.0013489429896013957), (4601, 0.0013488405025591696), (4576, 0.0013486703657939957), (418, 0.0013486409131596461), (3427, 0.0013482828267094133), (2229, 0.0013482801705160961), (2778, 0.001348194686062527), (910, 0.0013481942028046381), (4092, 0.0013481869182271598), (1702, 0.0013481338382523313), (666, 0.0013481225757389491), (62, 0.0013480869073690784), (1064, 0.0013478919745439485), (2208, 0.0013478599212393477), (4557, 0.0013476189188030155), (2712, 0.0013474675300444816), (3192, 0.0013471751303322278), (2072, 0.0013470658421501573), (3744, 0.001347005219972421), (3867, 0.00134677788308513), (2454, 0.0013467130289594074), (225, 0.0013465155892029687), (508, 0.001346153955147797), (2807, 0.00134608738478901), (1381, 0.0013459259223388767), (3529, 0.0013457125495768766), (4240, 0.0013456837738037221), (4698, 0.0013456011476486918), (1472, 0.0013455485546601741), (4117, 0.0013455378770268697), (2993, 0.0013452966233451122), (2101, 0.0013452695820007155), (38, 0.001344931673511493), (4630, 0.001344838346764662), (4495, 0.0013447954833211773), (3802, 0.001344331595228203), (2963, 0.0013442423284541617), (3984, 0.0013438652812629475), (1349, 0.0013437898790365694), (969, 0.0013437580008236985), (4038, 0.0013435898269073994), (3797, 0.0013434342262665685), (3203, 0.0013433371842814304), (1757, 0.0013433109994745926), (1865, 0.00134326174046912), (2415, 0.0013432435142821998), (3779, 0.001343147723222824), (1689, 0.0013429383373447354), (402, 0.0013423738211237692), (3587, 0.0013422586818091808), (4741, 0.001342180920298653), (1593, 0.0013421111766637542), (3103, 0.001341915512822313), (3810, 0.0013418263701334354), (3235, 0.0013417078321355095), (4211, 0.0013415746690090891), (2924, 0.001341563881205524), (4046, 0.0013415538141796856), (2837, 0.0013414832147565544), (3514, 0.0013411289548608803), (3124, 0.001341082945367996), (3560, 0.0013410620884023675), (4226, 0.0013409151591016171), (3594, 0.0013405852869309031), (2982, 0.001340541030177904), (3344, 0.001340313402133485), (3497, 0.0013401474031531045), (3358, 0.001340091598801682), (432, 0.0013399174328378419), (3791, 0.0013398506685042993), (3020, 0.0013398410356038725), (4535, 0.0013398050360941692), (2874, 0.0013397101624943052), (3108, 0.0013396511293860204), (4697, 0.00133957813796203), (808, 0.0013394768691016685), (2727, 0.0013394664784460912), (3924, 0.0013394186920875576), (4549, 0.0013392624231402396), (1429, 0.0013390104719878696), (3774, 0.0013389510101557297), (4757, 0.0013386070065270423), (2193, 0.0013385172143988578), (771, 0.0013382264711146593), (677, 0.00133806272549815), (1069, 0.001337862349708675), (4759, 0.0013377196378351185), (4068, 0.0013376199009876584), (3316, 0.0013370765591923504), (2044, 0.001337045944692681), (4408, 0.0013368287262011344), (701, 0.0013367836780083812), (2477, 0.001336631823139908), (4167, 0.0013365153692111733), (1233, 0.0013364400110473518), (1059, 0.0013364359474686486), (747, 0.0013362779307264977), (123, 0.0013360709436968854), (1544, 0.001336044450124294), (3273, 0.0013360409011616275), (878, 0.0013359855014483473), (1716, 0.0013357521882366205), (3294, 0.0013357347864224032), (1901, 0.0013355701071471372), (658, 0.0013354340655934798), (118, 0.0013353486710076302), (2765, 0.001335321973251769), (3343, 0.001334987199521953), (3736, 0.0013349463000789986), (2921, 0.0013348731981644966), (3969, 0.0013347814962011975), (501, 0.0013347643759240358), (6, 0.0013343613601778056), (1736, 0.0013342897210173723), (3387, 0.001334171049841273), (1458, 0.001333875434775145), (1275, 0.001333607625937257), (3289, 0.0013334785534739094), (1143, 0.0013334171996944681), (1435, 0.0013332900408943706), (3757, 0.0013330837815176497), (1510, 0.0013330656321108442), (3207, 0.0013329188021058706), (788, 0.0013327627250210245), (2829, 0.0013325989066155014), (3083, 0.0013323408669151213), (2391, 0.0013321686510669624), (1357, 0.0013319623297648052), (3688, 0.0013318610121266865), (2895, 0.001331689456682515), (4728, 0.001331597912569005), (274, 0.0013315211948018075), (3565, 0.0013311812422581886), (855, 0.0013308982634632736), (3092, 0.001330895545478908), (991, 0.0013308219005832348), (1681, 0.0013306856922082203), (1279, 0.0013306622079198656), (69, 0.0013304573529267646), (2014, 0.001330440549544821), (3670, 0.0013303891804726934), (1286, 0.0013302587309736674), (3090, 0.0013301739715701596), (606, 0.0013298935124683715), (3780, 0.001329879471310381), (1227, 0.0013298765617327513), (3675, 0.0013295534582041955), (1390, 0.0013294463048541386), (1777, 0.0013293711527617962), (3771, 0.00132912506963191), (4531, 0.0013289993618946449), (1445, 0.0013288193782202962), (4627, 0.0013286706022811957), (737, 0.0013284027057104877), (2053, 0.00132830961125093), (4108, 0.0013280166951915354), (2300, 0.001327971124586799), (630, 0.001327748166987069), (250, 0.0013275925377737275), (605, 0.001327575313640186), (4077, 0.001327546768027905), (426, 0.001327517783571879), (1334, 0.0013272712390354025), (2126, 0.0013272361204694234), (1941, 0.0013272072977624665), (739, 0.0013267555392539282), (4389, 0.0013266946280614158), (1818, 0.0013266738415865554), (3086, 0.0013266475366349516), (587, 0.0013265481899050642), (675, 0.0013264233612871787), (1007, 0.001326420201419224), (1509, 0.001326395835974539), (380, 0.001326230743488116), (777, 0.0013261806305735553), (1725, 0.0013260361258073026), (3252, 0.0013260341934998707), (2253, 0.0013258948036570298), (2563, 0.00132575985673397), (2575, 0.0013256306016250546), (1926, 0.0013255136110118236), (2910, 0.0013254153195671648), (4269, 0.0013253526770332768), (1267, 0.001325067888553571), (865, 0.0013250326910444474), (2978, 0.0013249727812902987), (2453, 0.0013247482800602328), (2755, 0.0013246470908642872), (1260, 0.0013245264320310062), (1793, 0.0013243484910846492), (1061, 0.0013241359797646743), (304, 0.0013240747131788456), (1880, 0.001323657942000945), (283, 0.0013236281146093351), (3686, 0.00132337497007436), (4637, 0.001323324570080377), (367, 0.0013232641149542588), (2552, 0.0013229565531563871), (2734, 0.0013229479907282842), (2115, 0.001322832576498055), (3777, 0.0013227272321287321), (688, 0.0013226995026270742), (1655, 0.0013226994231461463), (3915, 0.0013225653662544408), (1366, 0.0013224154449491406), (1344, 0.001322237222945389), (3566, 0.0013220337191993691), (3519, 0.0013218506418820825), (1923, 0.001321755838346259), (2230, 0.001321550862329123), (3158, 0.0013215169747659385), (4645, 0.001321505106921922), (1175, 0.0013214317735554492), (2428, 0.001321349084705406), (3017, 0.0013213133865853507), (2975, 0.0013209233200081934), (601, 0.0013209163295497429), (4157, 0.0013208366192359426), (4256, 0.0013206872004681166), (1264, 0.0013205453641590666), (635, 0.001320201056821161), (2130, 0.0013201357916286197), (541, 0.001320123477205972), (4097, 0.0013201087078506058), (1184, 0.0013198120832560336), (1329, 0.0013196979265546838), (4684, 0.0013196191105246027), (1419, 0.001319616903261529), (444, 0.0013194505927201304), (544, 0.0013193193966310286), (2522, 0.001318782277577314), (2512, 0.0013186756176607323), (869, 0.001318658134640936), (2860, 0.0013186168719061925), (1860, 0.0013185350923053105), (2986, 0.0013184716808852738), (215, 0.0013183874154704715), (2642, 0.0013183570355240234), (3453, 0.0013182585755227968), (3196, 0.0013180670562769293), (255, 0.001317654768819568), (2911, 0.0013176103781915695), (1599, 0.001317249315105844), (748, 0.0013170427435702538), (2567, 0.0013169218540004777), (1517, 0.0013168395719732233), (602, 0.0013165199162458422), (4087, 0.0013165064975158554), (4233, 0.0013164579947311276), (494, 0.0013163382878206133), (205, 0.0013162925767764592), (1580, 0.001316183195124892), (732, 0.0013160758713592331), (3198, 0.001315939740529562), (218, 0.0013158759274159303), (3504, 0.001315860663225638), (1412, 0.0013157261701055164), (586, 0.001315658063629158), (1583, 0.0013156525034991424), (3697, 0.00131560745559895), (1916, 0.0013151923681317343), (2413, 0.0013149873764173735), (3102, 0.0013149000566094603), (1322, 0.0013148746458083323), (217, 0.0013148446073910016), (502, 0.001314770086659855), (4632, 0.001314751291346003), (1534, 0.0013145229098210425), (3648, 0.0013145196548928265), (142, 0.0013144337875559005), (4717, 0.001314403525242221), (128, 0.0013143670083187974), (4094, 0.0013143352598577233), (4539, 0.0013142419565222118), (3935, 0.0013142287536055573), (1140, 0.0013142110514278167), (4090, 0.0013141572175395379), (660, 0.0013139734956301341), (1332, 0.0013139370777315892), (384, 0.0013138634020046934), (388, 0.0013137910518654166), (2252, 0.0013134900531734614), (4206, 0.001313432655026587), (520, 0.0013134162940246278), (1478, 0.0013133285358644376), (2613, 0.001313058845791082), (4215, 0.001313041782300277), (4489, 0.001312976303089303), (727, 0.0013127044018567571), (529, 0.0013126060842514847), (1873, 0.0013125948597222839), (2833, 0.001312147746528481), (431, 0.0013121010975892513), (2853, 0.0013118256588128302), (3605, 0.0013114977031691462), (4545, 0.0013114052238861868), (2085, 0.0013113517849094698), (3306, 0.0013112954439918154), (3911, 0.001311099704587421), (1874, 0.0013110736213673092), (2247, 0.0013110651741389473), (2191, 0.0013110363440814172), (450, 0.0013108767070169854), (2118, 0.0013107284874661921), (1100, 0.0013105693250468756), (2650, 0.001310493100285108), (3447, 0.0013102622279493126), (4081, 0.0013102104235854397), (3689, 0.0013102100382772976), (3324, 0.0013102051478890019), (4453, 0.0013101237220713138), (1416, 0.001309923353002807), (1133, 0.0013095317259153832), (460, 0.0013090569434961784), (2725, 0.0013090349716471598), (537, 0.0013088656458940316), (2580, 0.0013088283388137682), (3826, 0.0013087712931136258), (74, 0.0013086856574497186), (2304, 0.0013086774425509439), (822, 0.0013086117226856642), (4284, 0.0013084775153408537), (959, 0.0013084386441892222), (4416, 0.0013083350240308616), (938, 0.0013082909724504539), (2626, 0.0013081863947244485), (3388, 0.0013081489048165386), (2376, 0.001308136338749293), (2503, 0.0013080417666159344), (2104, 0.0013079964612134867), (4595, 0.0013078247183727523), (4355, 0.0013077738813012778), (4694, 0.001307403953347936), (1318, 0.001307336256248212), (4091, 0.0013072940130805463), (758, 0.0013071774072075336), (1790, 0.0013071693533964373), (957, 0.0013071522187140005), (2940, 0.0013071160484652046), (4285, 0.0013071013768742575), (3180, 0.001307088432158332), (2707, 0.0013070236364320777), (2162, 0.0013069250871408393), (1053, 0.0013069112737058117), (3535, 0.0013068370759346632), (2651, 0.001306788207618377), (3321, 0.0013067195256096925), (4639, 0.0013066404552895812), (4736, 0.0013065899914552381), (216, 0.0013063258703787108), (2311, 0.0013063203120169372), (203, 0.0013061836159539008), (3163, 0.0013061214084617698), (352, 0.0013060689952189555), (3765, 0.0013059879354473118), (2877, 0.0013059808916456304), (3591, 0.0013059309535862651), (1248, 0.0013056896849089454), (1885, 0.0013056717958507354), (699, 0.0013056449825486532), (4030, 0.0013056437555324278), (1928, 0.0013055707768192288), (857, 0.0013055579899255286), (2670, 0.001305521950548431), (1469, 0.0013054179147403838), (302, 0.0013053925176759547), (2465, 0.0013053874739907196), (4027, 0.001305331401647042), (1614, 0.001305297937952529), (41, 0.0013050569306486482), (518, 0.0013050012614619793), (4459, 0.001304757895219541), (580, 0.0013047333769975692), (3406, 0.0013046009347030278), (3787, 0.0013044611289025727), (4642, 0.0013041025641927502), (1828, 0.0013040504211248604), (4462, 0.0013039880847499742), (4493, 0.001303944158685535), (626, 0.0013039124061221489), (1130, 0.001303862919873454), (15, 0.0013037202272690339), (840, 0.0013037074122415366), (2001, 0.0013036641133147848), (1187, 0.001303607929327313), (1710, 0.0013032951104432438), (1401, 0.0013032559859499741), (4417, 0.0013031444052816771), (3997, 0.0013030949680444693), (1952, 0.0013029605813154402), (4078, 0.0013028890050732194), (3182, 0.0013028358364770736), (2074, 0.0013027489545477018), (1754, 0.00130237249599977), (2419, 0.0013022879338033713), (792, 0.0013020712238261062), (3889, 0.0013020231302564155), (141, 0.001301982123701455), (148, 0.0013018137247376165), (2089, 0.001301783345955113), (21, 0.001301650280602311), (2846, 0.0013014494676043035), (2325, 0.0013013400324823042), (4431, 0.0013012595403606628), (430, 0.0013012162855979565), (1719, 0.001301155560253838), (4132, 0.0013011134027647348), (2397, 0.0013010333559481555), (3931, 0.0013007842206578693), (222, 0.0013007498389818672), (4145, 0.0013006849405010092), (3914, 0.00130047657641152), (1099, 0.0013002845484592117), (3464, 0.0013002491657190568), (2865, 0.001300218249509346), (4412, 0.0013002156756009475), (3913, 0.0013001575498130364), (3573, 0.0013001125323587944), (102, 0.0013000369103829538), (307, 0.001299911143520875), (696, 0.001299790062183478), (1577, 0.0012997722635958657), (3458, 0.0012997618494086853), (992, 0.0012996249053115012), (2418, 0.001299481650346452), (3315, 0.001299314041258795), (1976, 0.001299209308420982), (1859, 0.0012988848366544475), (2296, 0.0012987865587176938), (3367, 0.0012987757051483727), (1503, 0.0012986058996934914), (3655, 0.0012980423442151775), (1494, 0.0012979407136850846), (4424, 0.0012975143326908586), (3169, 0.0012974091861883046), (3955, 0.0012973908587754525), (810, 0.0012973269805575643), (1679, 0.00129723005295013), (3019, 0.0012971483083376455), (3470, 0.001297088680242005), (2142, 0.001297002541718548), (2988, 0.0012968541639031585), (86, 0.0012968346884651598), (3359, 0.0012968289407886296), (3769, 0.0012967856555059674), (4126, 0.0012967111674391167), (1946, 0.0012966477770952215), (1391, 0.0012965416546266066), (833, 0.0012965079403769915), (3072, 0.0012964561505544145), (3815, 0.0012963990138773474), (3654, 0.0012963964028507144), (4510, 0.0012963891265204924), (1247, 0.0012963810742310483), (4436, 0.0012963174849474107), (2635, 0.0012959889657895675), (4179, 0.001295773336769554), (4460, 0.0012957727109444007), (937, 0.0012956784809572232), (4289, 0.0012954873349978171), (844, 0.0012954837882661332), (3046, 0.001295467052500712), (1660, 0.0012954613340441733), (3213, 0.0012953263561416436), (532, 0.0012951460653662266), (637, 0.0012950302230332294), (2894, 0.0012949732171406035), (3412, 0.0012947629772020706), (415, 0.0012947202430593691), (1382, 0.0012945349052025502), (68, 0.0012944900019003789), (3564, 0.0012943433756117822), (2499, 0.0012942727738500595), (3849, 0.0012940365795606952), (1792, 0.0012940010703491446), (3710, 0.0012939645350593784), (2609, 0.0012933926946398886), (48, 0.001293334698913495), (4163, 0.0012932980610814548), (50, 0.001293295784491399), (4377, 0.001293175378923449), (3868, 0.0012931276087155218), (3193, 0.0012929908469795995), (832, 0.0012928634761211937), (1426, 0.0012925053961295708), (2194, 0.0012922262112362796), (1748, 0.001292199089344533), (4238, 0.0012919172647549737), (3556, 0.001291786651299616), (131, 0.0012916593375780702), (2565, 0.00129161350270223), (4567, 0.0012915964500053037), (2387, 0.0012913763885681118), (1154, 0.001291304623803083), (1101, 0.0012912935984689044), (59, 0.0012912725092941713), (1949, 0.001291226429693934), (3307, 0.001291154646654904), (1650, 0.0012908684559438848), (1263, 0.0012906882376200006), (3547, 0.0012906389475159765), (3336, 0.001290581180152507), (258, 0.0012905526964407071), (4316, 0.0012904880183626484), (4508, 0.0012903289633690541), (3692, 0.001290282018841126), (702, 0.0012898246068515896), (4481, 0.0012898103666213372), (1301, 0.0012897639190726352), (749, 0.0012896390528327737), (2214, 0.0012896059566763968), (3617, 0.001289509508546875), (2151, 0.0012894536329271513), (2716, 0.001289196691049775), (4597, 0.0012890943537326564), (1056, 0.0012888992370527449), (4139, 0.0012888770484576712), (521, 0.0012888068965273768), (574, 0.0012887787242799624), (1167, 0.0012886772463367954), (4359, 0.0012886479299654774), (1404, 0.0012885944936935495), (1947, 0.0012885496839102292), (1584, 0.0012885372876775924), (101, 0.0012885187509207232), (3584, 0.0012884926772321096), (2354, 0.0012883780838163549), (981, 0.001288317811507398), (4682, 0.0012879373183157308), (1765, 0.0012878144314634264), (3770, 0.0012877002355621365), (1723, 0.001287693865982612), (4750, 0.0012876588942523216), (1337, 0.0012875307678364499), (4088, 0.0012874879209514886), (1770, 0.0012874372134420399), (2203, 0.001287356606822003), (3729, 0.0012871710512100806), (4505, 0.001286927599796858), (420, 0.0012868303150756195), (1380, 0.0012868242894111543), (125, 0.0012866388667521266), (4688, 0.001286627335444078), (1776, 0.0012864734080550023), (3396, 0.0012863792898870278), (3095, 0.0012863356114069574), (750, 0.0012863198537735696), (685, 0.0012861126682455828), (4680, 0.0012860457990832653), (1636, 0.0012859780209818397), (4678, 0.0012859181719547482), (1150, 0.001285911610545765), (2527, 0.001285756563329688), (960, 0.0012856451365674006), (1172, 0.0012855366093308636), (1234, 0.0012854497154093773), (4189, 0.001285446828995836), (2706, 0.0012854251002201637), (591, 0.001285334187859287), (1682, 0.0012851451906157605), (1596, 0.0012848526018524587), (918, 0.0012847585405524786), (3259, 0.001284715677338244), (339, 0.0012846963827747168), (589, 0.0012846459447620746), (3834, 0.001284641704706795), (3341, 0.0012845108545400331), (1396, 0.0012844935782366327), (1024, 0.0012844753198323297), (2977, 0.0012844271010693492), (3518, 0.0012843080670759987), (4005, 0.0012840862249797922), (2872, 0.0012840574356653618), (3837, 0.0012840462078852297), (4503, 0.001284029066607985), (1483, 0.0012836961262705354), (1527, 0.0012836394611720832), (4246, 0.0012835398964098604), (2217, 0.0012835375343493468), (4602, 0.0012833409935204796), (2919, 0.0012832990529419123), (3131, 0.0012830202196960677), (2610, 0.0012829115680201002), (3965, 0.0012828305662839824), (1591, 0.0012827368160235595), (925, 0.0012826610921623945), (4527, 0.0012826568362763779), (3454, 0.0012824537475042469), (1102, 0.0012823508481660233), (2953, 0.0012823359417833066), (2165, 0.0012819965379019347), (180, 0.001281980422296094), (1326, 0.0012818837329917736), (3355, 0.0012817954679779503), (4669, 0.001281774124253084), (3640, 0.0012817415825502377), (3125, 0.0012816493828648335), (2017, 0.0012815982609874017), (491, 0.0012815268132608827), (2090, 0.0012814796135653531), (3745, 0.0012814776071899965), (2276, 0.0012814412431290635), (1871, 0.0012814151014920497), (35, 0.0012813447236673184), (3265, 0.001281282029541001), (3893, 0.0012812143373228705), (2088, 0.001281183626034636), (543, 0.0012810576384707402), (772, 0.001280962643058382), (3000, 0.0012809493376299), (284, 0.0012809411417984643), (3970, 0.0012807529032275665), (3438, 0.00128064588439254), (1597, 0.001280641421951837), (2313, 0.0012805988969747332), (3165, 0.0012805279715959478), (3586, 0.0012801495256770138), (4181, 0.0012801251181420053), (1688, 0.0012800931035470873), (318, 0.0012800435798118542), (1225, 0.0012800212917069744), (4287, 0.0012800049607786133), (2028, 0.001279926735648397), (3419, 0.0012797742171742129), (1280, 0.001279753086725265), (3191, 0.0012796425668863357), (1441, 0.001279460166767598), (656, 0.001279431693146763), (3410, 0.0012793028357231415), (2136, 0.0012791886270949208), (3290, 0.0012791061860359886), (4105, 0.0012789286944754402), (1379, 0.0012787711708389276), (1780, 0.001278637492080206), (860, 0.0012781939551592988), (1705, 0.001278055449474358), (1252, 0.001278055068205606), (2156, 0.0012780511971182006), (4148, 0.0012778809649887043), (1659, 0.001277784323120714), (1798, 0.0012776829379648334), (2558, 0.0012776573940205373), (2897, 0.0012776373476892722), (349, 0.0012775427473237114), (3184, 0.001277449618962223), (4200, 0.0012773527019477168), (1619, 0.0012773182430370613), (192, 0.0012770908213854168), (603, 0.001276879685732828), (621, 0.0012765713866959747), (1359, 0.0012764417158005557), (1967, 0.0012764404154159156), (509, 0.001276423907067699), (1500, 0.0012763414656664735), (1662, 0.0012762904044520376), (2908, 0.0012762820616955683), (3690, 0.0012761885854862065), (1779, 0.0012761859436771221), (493, 0.0012760091029434151), (1250, 0.0012759322091748229), (1220, 0.0012759154704531817), (1302, 0.0012758991631420724), (1193, 0.0012758860146482103), (20, 0.0012758252764947884), (987, 0.0012757633606187244), (2168, 0.0012756487573297379), (4075, 0.001275601627668564), (1668, 0.0012754945813204307), (514, 0.0012754759398594738), (1296, 0.0012752674067483807), (3897, 0.00127508084109496), (741, 0.0012750021254354428), (2676, 0.0012749460996142902), (4547, 0.0012748453133732142), (1219, 0.0012741842462997844), (2305, 0.0012741318284347205), (4265, 0.001274123697122784), (1808, 0.0012740594529265321), (1563, 0.0012740149850559456), (2084, 0.0012739943625832543), (1906, 0.001273897438454144), (654, 0.001273871315344185), (1265, 0.0012735348409667363), (4001, 0.0012732786549094792), (3593, 0.0012732755316492285), (2360, 0.0012732365863955348), (994, 0.0012731457930379576), (161, 0.0012728856341821131), (2753, 0.0012728810163990562), (2022, 0.0012727448457500782), (2847, 0.001272620405341939), (238, 0.0012725960771892524), (270, 0.0012725341984292883), (2015, 0.0012724980075502143), (214, 0.0012724125580264773), (1734, 0.001272388428465232), (2417, 0.0012723338280298784), (1407, 0.0012723006899283305), (876, 0.0012722354232653158), (1424, 0.0012721366405049484), (4753, 0.0012720190606150656), (2239, 0.0012720173956459035), (18, 0.0012719232417593117), (3237, 0.001271891284978534), (633, 0.0012717028040584904), (4714, 0.0012716223083228649), (1106, 0.001271399576725034), (3618, 0.001271335941112513), (1738, 0.0012711906786235976), (143, 0.0012711037587324872), (4677, 0.0012709699485540886), (2478, 0.0012709299456406377), (4025, 0.0012707186585509584), (1087, 0.0012706137302244895), (4244, 0.001270600163285402), (42, 0.0012705887290815365), (2572, 0.0012704823809158055), (1017, 0.0012704566344789393), (956, 0.001270441622877757), (1122, 0.0012704069687473017), (206, 0.0012702524622696441), (3580, 0.0012700875910261972), (663, 0.0012700149800269065), (2378, 0.001269584053173514), (95, 0.0012693062616618554), (4123, 0.0012691514843421842), (962, 0.0012691335086448116), (4070, 0.0012689881685856127), (3888, 0.0012689660299758636), (126, 0.0012689350911466088), (2403, 0.0012688103559656163), (1569, 0.0012686546477689183), (2222, 0.0012685773854150982), (4497, 0.0012685697633393834), (212, 0.0012684350096635797), (305, 0.0012684293850847028), (483, 0.0012684042157491873), (4158, 0.0012683799386671755), (1170, 0.00126837919983157), (3423, 0.001268157679008481), (1893, 0.0012681062160715332), (1157, 0.0012681012289380688), (1511, 0.0012679861308507617), (1881, 0.001267985970281567), (4277, 0.0012679756689712145), (43, 0.0012679189116209474), (4241, 0.0012679048798302712), (1402, 0.0012678795416075197), (2987, 0.001267810843702037), (934, 0.0012677134398150474), (1111, 0.0012675123679191805), (3496, 0.0012674801310782473), (553, 0.0012674032408311487), (2177, 0.0012672434591753537), (104, 0.0012672424390804823), (1134, 0.0012672384368242488), (823, 0.0012670370061332358), (1575, 0.0012669293709841288), (782, 0.001266912480797692), (315, 0.001266902840500694), (1554, 0.0012668144545137582), (3337, 0.0012666860801149272), (1851, 0.0012666160394300952), (721, 0.0012665142332934584), (1031, 0.0012662825677561885), (1179, 0.0012662800169371898), (1608, 0.0012661022503641876), (4663, 0.001265882682201041), (2746, 0.0012658633379983382), (3647, 0.001265847738336976), (1091, 0.001265785780350658), (2598, 0.0012656870293185159), (3061, 0.00126513337373294), (2680, 0.0012650290961098158), (4317, 0.0012649826420866566), (1244, 0.0012647798227580396), (1965, 0.0012647581951408078), (3551, 0.0012647003576086448), (4049, 0.001264605789523351), (2447, 0.0012645943308976385), (2096, 0.0012644417215739768), (4392, 0.0012644104791508341), (1701, 0.001264384062927286), (4096, 0.0012643508501334851), (51, 0.001264345475485465), (1304, 0.0012641661077545658), (3873, 0.0012639673145522217), (111, 0.0012638090175077187), (590, 0.0012637615452429686), (2216, 0.0012634736973470917), (1656, 0.0012633498736011992), (1090, 0.0012632389118724437), (1105, 0.0012631630867406922), (2155, 0.0012630177845434755), (1785, 0.0012629615944463196), (1272, 0.0012628136099867144), (1420, 0.0012623969597727715), (3197, 0.001262264823845548), (2771, 0.0012622645860413608), (1278, 0.0012622354144849015), (3005, 0.00126202726076039), (2186, 0.0012619804543454807), (2702, 0.0012619701788602125), (1718, 0.0012617943856189408), (2803, 0.0012617506178831737), (1480, 0.0012617249383525464), (757, 0.0012617091140333283), (2841, 0.001261643365471444), (1751, 0.001261602542307219), (2302, 0.0012615651846265025), (835, 0.0012615353789678975), (1452, 0.0012615018673799588), (3085, 0.0012613528222497534), (209, 0.001261265645863552), (4406, 0.0012612631424560432), (3130, 0.0012612314862040623), (3820, 0.0012611550096256797), (1811, 0.0012610966727202876), (4008, 0.0012610643317632097), (4379, 0.0012609217904784526), (2821, 0.001260833734908133), (973, 0.0012607915931373771), (2819, 0.0012607849318752317), (1054, 0.0012606452848680646), (4055, 0.001260390523580711), (1791, 0.0012603729784614831), (2815, 0.0012602985316507581), (2690, 0.0012601729849097028), (114, 0.0012600776079718123), (3, 0.0012599512432429224), (2233, 0.0012598416117386723), (2893, 0.001259712500015218), (1816, 0.0012596414099984277), (253, 0.001259628640706326), (1536, 0.0012595851089241), (1432, 0.0012593976978916791), (2914, 0.0012593023546603344), (478, 0.0012592514678269504), (2374, 0.0012592383087768621), (1131, 0.0012592226007124747), (1148, 0.0012591610737618375), (1124, 0.001259146468610392), (2039, 0.0012591083945817452), (2665, 0.0012590905082454553), (3845, 0.001259084272560462), (2546, 0.0012590165496533562), (2576, 0.0012589341332210117), (572, 0.0012589340460213566), (3401, 0.001258655851954499), (228, 0.0012585848515514252), (3435, 0.0012585306811076892), (3680, 0.0012584801045582403), (1497, 0.0012583754353505095), (2677, 0.0012580355644093747), (1074, 0.0012579021985963234), (303, 0.0012578992151643365), (2045, 0.0012577329293718559), (2467, 0.0012577154575345755), (999, 0.0012576197135000594), (1256, 0.0012575862430133974), (1996, 0.0012574092380852905), (2936, 0.0012573993181339976), (2745, 0.0012573328687000677), (1991, 0.0012573222411359495), (226, 0.0012571174327440926), (2881, 0.001256932406777233), (1592, 0.001256932061878732), (1, 0.001256923225217693), (1375, 0.0012568877746536007), (3446, 0.001256872588590982), (313, 0.0012568497045365118), (1560, 0.0012567974173560788), (1119, 0.0012566836825854766), (945, 0.001256576164136648), (2027, 0.0012564747584914687), (332, 0.00125643957147662), (868, 0.0012564213191694513), (1205, 0.0012563603635477128), (3998, 0.0012563555213095118), (2487, 0.0012563056314390587), (638, 0.0012562938703426535), (1821, 0.0012562374241234173), (1253, 0.0012560257376141712), (3332, 0.001255950001724702), (2836, 0.0012558306441221017), (1740, 0.001255802597081041), (1127, 0.0012556948352569616), (4216, 0.0012556570947402075), (2498, 0.0012556459091334782), (1126, 0.0012555204920039148), (4361, 0.0012554910528056805), (236, 0.0012553918942250018), (1998, 0.0012553480798007228), (2691, 0.0012551449791340934), (1048, 0.0012551074573350376), (4507, 0.001255088387622576), (592, 0.0012550634323863833), (3798, 0.0012548712412807895), (1501, 0.0012547871959936788), (1330, 0.0012546323726733155), (3232, 0.0012545345380681936), (2175, 0.001254483103769322), (110, 0.001254368836756073), (533, 0.001254357461251427), (1431, 0.0012542828697126361), (1562, 0.0012542125629652653), (2083, 0.0012541574230444448), (3507, 0.0012540536655229783), (780, 0.0012540403004518063), (1216, 0.0012540370100740533), (1687, 0.00125403262632156), (2291, 0.0012537144288704077), (867, 0.0012535105193962036), (919, 0.001253477650499195), (4378, 0.0012533297698597869), (2106, 0.0012532192528894506), (3443, 0.001253079801515324), (79, 0.0012529741492708125), (1515, 0.0012529222433392672), (2798, 0.001252921336435775), (282, 0.0012528993403612884), (665, 0.0012528942460477927), (2700, 0.0012528230984517146), (1840, 0.0012526692015275831), (2081, 0.001252623707660009), (2792, 0.0012525620216238462), (1629, 0.0012524521946156442), (913, 0.0012523711656982866), (422, 0.0012522595146327027), (4534, 0.001252133737289579), (1261, 0.0012517780427395275), (373, 0.001251595667648375), (1314, 0.0012515746771968482), (239, 0.0012515649880615331), (3600, 0.0012514601663545513), (1410, 0.0012513611042331916), (374, 0.00125134603574626), (1028, 0.0012513361718629204), (3499, 0.001251256236211842), (3959, 0.0012511903327189593), (1188, 0.0012511128844184677), (150, 0.001251048166059625), (993, 0.0012510438110113916), (577, 0.0012510108787465103), (916, 0.0012510090093310613), (1362, 0.001251003952221499), (2122, 0.001250992332833259), (3164, 0.0012509157046369243), (3603, 0.0012508989400841688), (1118, 0.0012506413848973436), (1027, 0.0012506389556352754), (3463, 0.001250600669517225), (2974, 0.0012505449834504668), (3724, 0.0012503943312943103), (881, 0.0012502998112100207), (122, 0.001250199349782982), (2422, 0.0012500508309546427), (2437, 0.0012500423482189559), (671, 0.0012498283858260713), (814, 0.0012495602928716302), (3398, 0.001249375899380473), (1039, 0.001249311688074453), (1089, 0.001249143086792939), (2133, 0.0012491249203662785), (583, 0.0012491191240758823), (2105, 0.0012491024870205682), (4488, 0.0012489194510925295), (1400, 0.0012488896019526177), (4466, 0.0012487496813543097), (631, 0.0012486530178474596), (3386, 0.0012484985055123156), (1499, 0.0012483638795713634), (2816, 0.001248343064085477), (2224, 0.001248208436765645), (3907, 0.0012481816349639804), (4100, 0.0012481595711825292), (1386, 0.0012481421344613948), (552, 0.0012480617436400633), (3585, 0.0012479972004475655), (3153, 0.0012479734703162116), (3032, 0.0012479549007726745), (965, 0.0012478873884959598), (2925, 0.0012477593136168115), (3963, 0.0012474913833819493), (804, 0.0012473775253644334), (1504, 0.0012473556604201286), (3850, 0.0012471382487214266), (2195, 0.0012470321440869502), (4175, 0.0012469916265931437), (1269, 0.0012469580580009713), (4486, 0.0012469459039247202), (1036, 0.0012468323192234864), (848, 0.0012467688497027458), (659, 0.0012467079855015754), (1294, 0.0012466638888916036), (1459, 0.001246553099158926), (3310, 0.0012464259421807171), (3451, 0.001246314183698664), (27, 0.0012463109403966258), (139, 0.001246230311692587), (419, 0.0012462006413765168), (3492, 0.0012461962079072686), (1603, 0.0012461928608341172), (3313, 0.0012460862314167874), (3886, 0.0012460416109358633), (4702, 0.0012459723320374894), (1516, 0.0012459308551755514), (1717, 0.001245885422287559), (2272, 0.0012458100473224187), (440, 0.0012456700775559865), (2959, 0.0012455757307312174), (1617, 0.0012455066198019025), (30, 0.001245449701820704), (10, 0.0012453570567502726), (356, 0.0012453363946217707), (56, 0.0012448597174976091), (1589, 0.0012448361347018292), (4110, 0.0012447433361202328), (1158, 0.0012445520052976789), (389, 0.0012445443459284877), (1985, 0.0012445376531328813), (2297, 0.0012444990542120331), (2788, 0.0012444943007079196), (4006, 0.0012443288213131731), (2967, 0.0012442876918462701), (765, 0.0012440755802648926), (3694, 0.001243961985787827), (1903, 0.0012438347770473439), (1374, 0.0012438058781281199), (1910, 0.00124366944457388), (1490, 0.0012434409696089525), (3233, 0.0012431650389389223), (399, 0.0012431441259166704), (1582, 0.0012430795358777521), (3623, 0.0012426016596097011), (115, 0.0012425792755232003), (1026, 0.0012425550134642614), (54, 0.0012423191861851222), (2003, 0.001242315137651285), (820, 0.001242278144232401), (2780, 0.0012422074050283585), (354, 0.001242171501055261), (1506, 0.0012421448953077255), (1180, 0.0012419861243241498), (2058, 0.001241846663601331), (4312, 0.001241769958788187), (551, 0.0012416298854527436), (0, 0.0012415999711957706), (3934, 0.0012415734003622264), (873, 0.001241489939087791), (2787, 0.0012413797172619598), (4548, 0.0012413711917670333), (870, 0.001241135670488515), (105, 0.0012410728020635455), (3326, 0.0012410297705052874), (3330, 0.0012406950499367728), (2714, 0.001240610500484531), (2825, 0.0012405076007833726), (4043, 0.0012404940392735661), (4183, 0.0012404332643139665), (2092, 0.001240240128867641), (922, 0.0012401435755865808), (3356, 0.0012401061049829053), (4655, 0.0012398793917057357), (1174, 0.0012398095513290002), (1440, 0.001239769848383508), (1550, 0.0012397398460428357), (1971, 0.0012396773833466307), (1909, 0.0012395821871600027), (1324, 0.0012394579449408617), (1879, 0.0012393227482377226), (4706, 0.0012392876616463073), (1439, 0.0012392670331391885), (634, 0.001239254991931766), (2317, 0.001239179635589066), (3569, 0.0012391235827407714), (4550, 0.001238945211852478), (12, 0.0012389313610160636), (980, 0.0012387609772201522), (3642, 0.0012385920353795053), (3132, 0.001238457497655847), (23, 0.0012383643899880992), (2298, 0.0012383554378485352), (3811, 0.0012383263099340707), (1896, 0.0012382733954877357), (1872, 0.0012382465920412135), (232, 0.0012381791548999735), (1385, 0.001238178312332288), (4467, 0.0012381751298646754), (2359, 0.0012381083428594558), (3008, 0.0012380110850490507), (3146, 0.0012379123519142764), (2472, 0.0012378311400862883), (3596, 0.0012377391232097823), (1931, 0.0012376669613459602), (4470, 0.0012376266466710365), (3106, 0.0012376210952152748), (2749, 0.0012375847848010075), (1476, 0.0012375637915923703), (3011, 0.0012375165408200796), (2069, 0.0012375089849964054), (237, 0.0012374436500073543), (1727, 0.001237430506884832), (561, 0.0012373162957394284), (34, 0.0012372532993579512), (1616, 0.0012371703111203544), (1185, 0.0012370518721873775), (664, 0.0012370198305024832), (4128, 0.0012369471784019065), (4665, 0.0012369379828440193), (3378, 0.00123691969764832), (2178, 0.001236792330750872), (2160, 0.0012366512945981042), (4629, 0.001236422317769822), (1438, 0.0012362701043134234), (3666, 0.001236270044688797), (1139, 0.0012361535054680572), (266, 0.0012359355254543218), (536, 0.001235932727615575), (2073, 0.0012357865013040148), (1590, 0.0012357715674799956), (2480, 0.00123572614978223), (3756, 0.0012356451054116508), (4382, 0.0012355785625271167), (1638, 0.0012354849427112476), (1975, 0.0012354426209421248), (4251, 0.0012354257991999006), (2356, 0.0012353905563883445), (4686, 0.001235341413399285), (2330, 0.0012351934357557452), (3223, 0.0012351715187476665), (1760, 0.0012350948217545116), (3041, 0.001235074405021129), (3493, 0.0012349558211023212), (1930, 0.0012349140267460567), (2698, 0.001234891983012195), (2128, 0.0012347823200760631), (3371, 0.0012346330103699414), (1428, 0.0012345871056911012), (40, 0.0012344815514607225), (3133, 0.0012344256086604768), (1001, 0.0012343584483635232), (1644, 0.0012343502420426647), (984, 0.001234346885675782), (4621, 0.0012343261420236084), (1232, 0.0012341791528954597), (3436, 0.0012341274478130189), (3748, 0.0012339462859761751), (4352, 0.001233872912687235), (2695, 0.0012337960076175074), (1230, 0.0012337911152135984), (3391, 0.001233691240509602), (2134, 0.0012335619638262163), (84, 0.0012334987559649352), (2444, 0.0012334719458853656), (1678, 0.0012333033945082443), (3460, 0.001233235185873717), (680, 0.001233223645200921), (2800, 0.0012331944107757925), (96, 0.0012331193471023616), (386, 0.0012329620369050422), (1611, 0.001232911835408509), (811, 0.0012327709274440363), (1240, 0.001232718078835669), (908, 0.0012327179037966126), (1151, 0.0012326123206857732), (1152, 0.001232579261224105), (4384, 0.00123253943730977), (55, 0.0012325278831164324), (2343, 0.001232429661223867), (4073, 0.0012319182957727275), (4587, 0.0012316939825389953), (4365, 0.0012316892549623188), (375, 0.0012315943159649327), (3624, 0.0012313715904087726), (2863, 0.0012312846844035753), (151, 0.0012312465973408234), (2606, 0.0012312007937892474), (310, 0.0012311935193811698), (184, 0.0012310870375388226), (1626, 0.0012309044518288446), (1052, 0.0012308957174584634), (567, 0.0012308113465852495), (2824, 0.0012307906939339943), (4137, 0.0012306135470506524), (2890, 0.0012306071418594158), (4648, 0.0012304483468770439), (1970, 0.0012303616205530579), (3194, 0.0012303524378579184), (348, 0.0012302702090997485), (1413, 0.001230129785412046), (4184, 0.0012300793939074859), (1579, 0.001230029877847761), (3069, 0.0012300066079067502), (28, 0.0012299221014261427), (579, 0.0012298899127691975), (3246, 0.0012298819506925867), (1355, 0.0012298370416385475), (3445, 0.0012296568292848513), (3348, 0.001229526690523659), (2618, 0.0012295071286510285), (4192, 0.001229459247520603), (2070, 0.0012293480053301056), (439, 0.0012293287673996382), (3494, 0.0012292259827021417), (1986, 0.0012292144274822895), (2784, 0.0012291714223071942), (2724, 0.0012290637176236505), (3718, 0.0012286583356107739), (2907, 0.0012285910612074796), (2078, 0.0012285725757816526), (2315, 0.0012285712822180763), (1129, 0.0012283565148108757), (3793, 0.0012283136529871838), (71, 0.0012280772042333444), (1475, 0.0012280675352205968), (231, 0.0012280128597306585), (2231, 0.0012279750790661456), (2920, 0.0012278987352482872), (554, 0.0012277388607265013), (3329, 0.0012276492176990078), (3968, 0.001227618422880576), (4041, 0.0012275115325659802), (3437, 0.001227461058907499), (3509, 0.0012272484117639383), (2505, 0.0012271885719480496), (4299, 0.001226806538685504), (4376, 0.0012267498909786898), (2103, 0.0012267482245347729), (1096, 0.0012263179916577342), (2945, 0.001226224564082984), (4575, 0.0012261161110001687), (1675, 0.0012260328978576799), (2051, 0.0012260019545767395), (4404, 0.0012258150534527285), (11, 0.001225678396559152), (3462, 0.0012256513863566484), (4188, 0.001225471861143223), (936, 0.0012254609650567837), (2766, 0.0012254315870912108), (1870, 0.0012253652444351843), (3833, 0.0012252194709540833), (3026, 0.0012252055103441528), (2314, 0.001225005827725349), (381, 0.0012249280749870336), (890, 0.001224893473420315), (897, 0.001224828168632473), (2742, 0.0012246941291951781), (2855, 0.0012246317060782153), (1585, 0.0012245532391932327), (2995, 0.0012243841786682122), (2535, 0.001224286873700005), (4011, 0.00122423970897981), (4360, 0.0012242161046028637), (2648, 0.0012240135636825825), (4227, 0.001223867070484956), (1775, 0.0012237118450923255), (3334, 0.0012236990582997034), (4649, 0.0012236836563733144), (3486, 0.0012236411665915224), (744, 0.0012236350430553013), (803, 0.0012235268939224742), (846, 0.0012233762143932984), (466, 0.0012231923635342289), (1236, 0.001223183781108509), (1956, 0.001222941739927318), (2334, 0.0012229358827249308), (4042, 0.0012228938445851434), (3711, 0.0012228326631155545), (1691, 0.0012228024843180182), (2474, 0.0012226778002811182), (1502, 0.0012226502899011168), (1897, 0.001222644714656102), (3971, 0.001222532803373791), (3404, 0.0012224920244922307), (3709, 0.0012223664982796364), (17, 0.00122226573265492), (1658, 0.0012222116617544032), (3783, 0.0012222087344767112), (3531, 0.0012219160792217498), (4687, 0.0012218047526681996), (4085, 0.0012217330115169593), (2131, 0.0012216988135132236), (4294, 0.0012215992475600097), (1282, 0.0012214981302398173), (809, 0.0012213170023939316), (2164, 0.0012212254529810522), (2571, 0.0012210698589973025), (599, 0.001221061193669711), (642, 0.0012208700405704782), (3661, 0.0012206214407914574), (1063, 0.001220603590803772), (31, 0.0012205824612499183), (1551, 0.0012204901632893984), (2054, 0.0012203683154042117), (588, 0.001220284586898181), (3599, 0.0012198991727119645), (4275, 0.0012198359244509713), (1508, 0.0012197958144735423), (995, 0.0012197536839001738), (398, 0.0012196204263681524), (1384, 0.0012195994884899078), (4673, 0.0012195566505578835), (1566, 0.0012193780439406906), (2843, 0.0012193624604945124), (1470, 0.0012193206279481293), (1969, 0.0012190969404221278), (1305, 0.0012190707650960569), (694, 0.0012189411712513307), (83, 0.001218940656328481), (4, 0.0012188374299653062), (2197, 0.0012185997562890155), (2124, 0.0012185370991683413), (1942, 0.001218522668880009), (2242, 0.0012184066582863584), (2341, 0.0012184015596564156), (327, 0.0012183736183895922), (4224, 0.0012183244190859311), (931, 0.001218238793450256), (1226, 0.0012180182231227672), (1003, 0.0012179747958947671), (4715, 0.001217869106653752), (4048, 0.0012178419448545844), (390, 0.001217438584874532), (1082, 0.0012170975747062384), (3305, 0.0012170426529180198), (525, 0.001216895079226837), (1288, 0.0012167910034831461), (3807, 0.0012167583172441128), (3982, 0.001216716706527946), (1237, 0.0012166587624288297), (181, 0.0012166307618322028), (4387, 0.001216610012269104), (595, 0.0012165389856086588), (220, 0.0012164633129580155), (5, 0.0012163919257292505), (1455, 0.0012162812363971614), (2464, 0.0012161264789337435), (4268, 0.0012160588771093516), (3967, 0.0012159875827853857), (3240, 0.0012159293417738212), (377, 0.0012159042829534663), (4273, 0.0012157949134628326), (4522, 0.0012157541081827532), (1915, 0.0012155623910163678), (3352, 0.0012152548081980933), (805, 0.001215233266871823), (1789, 0.0012151653637179837), (2639, 0.0012151412404439246), (1306, 0.0012151390951374804), (3487, 0.0012146715354556512), (3381, 0.0012146186880523748), (322, 0.0012146067391287463), (1855, 0.0012144567834630738), (1722, 0.001214350042169989), (4592, 0.00121426152460607), (3749, 0.001214250222788009), (1242, 0.0012142040845274172), (37, 0.0012140671631469977), (2808, 0.0012139941028813822), (2726, 0.0012139483397367614), (4349, 0.0012138825083214486), (2409, 0.0012138560278526177), (4583, 0.001213813772978615), (858, 0.0012137210696561414), (1029, 0.0012136764405172862), (81, 0.001213624173498478), (1761, 0.001213619281423281), (262, 0.0012133349743790433), (3064, 0.001213126737221871), (4255, 0.0012130980756257738), (2918, 0.0012130175876153536), (4036, 0.0012129768201116539), (1120, 0.0012128938498298495), (923, 0.0012128930899846246), (4427, 0.0012126214022480245), (4448, 0.001212614387208429), (476, 0.0012125772548358187), (3161, 0.0012124272723270763), (895, 0.0012122750434628512), (2850, 0.0012121933060989464), (894, 0.0012121862053698382), (3417, 0.0012121617148969507), (3498, 0.0012121381130204456), (636, 0.0012120041344419574), (3706, 0.0012119822159049924), (2491, 0.001211723643875034), (3129, 0.0012116095285911374), (4708, 0.0012115877881146901), (1543, 0.0012113885084253436), (1060, 0.001211366017204092), (2773, 0.0012113640203074488), (1895, 0.0012113553524952486), (740, 0.0012113062177282652), (3782, 0.00121123042425456), (2159, 0.0012111749339856724), (1572, 0.0012111030979465678), (2062, 0.0012110414139607385), (287, 0.0012110347561939297), (4542, 0.0012109923219009132), (4381, 0.0012108415820648473), (1568, 0.0012108190999654343), (3478, 0.0012106219980347708), (4004, 0.0012104867627400586), (2033, 0.0012104338287233776), (1827, 0.0012103807252605526), (4552, 0.0012103122432829902), (1632, 0.001210126367528652), (3044, 0.0012100666964171042), (2108, 0.001209867098086308), (2445, 0.0012097528783857907), (2396, 0.0012097198917612117), (3597, 0.0012096907504095804), (4472, 0.001209546308178284), (2979, 0.0012095266459813785), (3522, 0.0012094805510960449), (542, 0.0012094113740152251), (263, 0.001209294568195178), (2687, 0.0012091651972152599), (1297, 0.0012091187485883345), (1378, 0.0012090083235211317), (4623, 0.001208708841497538), (1010, 0.0012086939482937147), (1573, 0.0012083240414119006), (3908, 0.0012083155122160473), (1960, 0.0012082625278624322), (719, 0.001208142301294107), (2898, 0.0012079963355970983), (1491, 0.0012079463497892983), (864, 0.0012079258887404023), (433, 0.0012079160835513805), (3393, 0.001207908886089862), (652, 0.0012077769062967829), (2728, 0.0012077531181452538), (2705, 0.0012077487496272529), (4590, 0.0012076821945877871), (4248, 0.001207444617389396), (3773, 0.0012073408269163252), (1992, 0.0012073253780915066), (477, 0.0012072802558902934), (2170, 0.0012071727300306046), (902, 0.0012071274272747942), (3474, 0.0012071253913255252), (3063, 0.0012070678034276725), (4685, 0.001206950419592461), (1894, 0.0012068626460804447), (1905, 0.0012067999975696115), (3714, 0.0012067719907979553), (3712, 0.001206711485162167), (1022, 0.0012064864258010692), (3919, 0.0012064179279535957), (885, 0.0012062634120227097), (1113, 0.0012061372668274934), (1618, 0.001205957525377667), (306, 0.0012058562894683082), (1944, 0.0012058360008293612), (4083, 0.0012055998210156879), (2442, 0.0012054853822423487), (4491, 0.0012053472646658008), (1908, 0.0012051254327992023), (4133, 0.001204640003381287), (1018, 0.0012045925587760482), (1266, 0.0012043379254337353), (3490, 0.001204195101608496), (2004, 0.0012040218612142763), (2969, 0.0012039243089767436), (1847, 0.001203673664046579), (1239, 0.001203629495169535), (798, 0.0012034030418590852), (2718, 0.0012031714726898307), (871, 0.001202957433066457), (534, 0.0012028638055290844), (4563, 0.0012026567015612547), (653, 0.0012026301896711172), (3705, 0.0012026226039289947), (1159, 0.001202580734649999), (2007, 0.001202499904357363), (1857, 0.0012024627060586604), (2501, 0.0012023931813391563), (2202, 0.0012023300411470965), (3150, 0.0012022548230471236), (2599, 0.001202090672556069), (4282, 0.0012020723099259532), (2960, 0.0012020127321775225), (3369, 0.00120193142578969), (762, 0.001201888594568582), (3920, 0.0012018628211615551), (4300, 0.0012018477258708713), (328, 0.0012018146280296756), (2246, 0.0012017386123768163), (210, 0.0012016931957293145), (2880, 0.0012016900968786304), (2631, 0.001201651398568185), (883, 0.0012015442096749475), (1987, 0.0012012743712884802), (211, 0.00120087860928466), (152, 0.0012007633071460175), (4363, 0.0012007101364925996), (1920, 0.0012005253225060018), (3818, 0.0012003770815659906), (3855, 0.0012002546174850756), (1218, 0.0012002452559417597), (1468, 0.0012002344210751519), (3400, 0.0012001947323781316), (1867, 0.0012000827096755803), (291, 0.0011998423949661375), (2632, 0.0011996905810191501), (1245, 0.0011996192399343717), (1661, 0.0011995581328621177), (4722, 0.00119952913766017), (2681, 0.0011993740918597512), (2000, 0.0011993496380179969), (3402, 0.0011992536228305622), (1281, 0.0011992280699087694), (723, 0.0011992130221563405), (3549, 0.001199206463683257), (3875, 0.0011991255020880496), (1238, 0.0011990192973182342), (1674, 0.0011987816011548589), (4540, 0.0011987391059064456), (221, 0.0011986578891599858), (4634, 0.0011986127390527324), (2209, 0.0011985308722529877), (1814, 0.0011982057939495267), (2888, 0.0011981822212834077), (1075, 0.001198153346513256), (3136, 0.001198138497321448), (2463, 0.0011980627665012858), (4093, 0.0011980360840658005), (2508, 0.0011980211973870887), (1108, 0.0011978704206525653), (3823, 0.0011975909378050447), (358, 0.001197413277888153), (1430, 0.0011973428132622485), (1033, 0.001197248795670388), (573, 0.0011970317517768724), (927, 0.001196989054823271), (892, 0.0011968922019507762), (3073, 0.0011968210221179585), (8, 0.0011968090049655725), (175, 0.0011967372504841612), (4325, 0.0011965566110496298), (3174, 0.0011964118845496315), (2634, 0.0011962958134498524), (479, 0.0011960395496321396), (1313, 0.0011959961242339644), (1044, 0.0011959564718676053), (4161, 0.001195933473637412), (4487, 0.001195927168840585), (684, 0.0011958541203434512), (1270, 0.0011956995977672595), (1995, 0.0011956652844470042), (2243, 0.0011956644287004648), (366, 0.0011956090357005615), (3047, 0.0011953436706416143), (3784, 0.0011952732980684267), (4435, 0.0011951637129031223), (1981, 0.0011951614240876354), (2458, 0.0011950910162463085), (331, 0.0011949826993524826), (3134, 0.0011948770856142865), (4012, 0.001194649419837215), (1576, 0.0011945041870812863), (669, 0.0011943058856439149), (4266, 0.001194077401062835), (4131, 0.0011938618513504492), (655, 0.001193757332861739), (1212, 0.001193718270247712), (2167, 0.0011935135329248956), (4176, 0.001193502461996768), (1262, 0.001193101228976209), (66, 0.0011928764830008533), (1392, 0.0011928656232714939), (3896, 0.0011928588541667811), (1080, 0.0011928471826318826), (1467, 0.00119264686476077), (272, 0.0011925111841022498), (2309, 0.0011925028221733626), (2035, 0.001192333463241943), (4367, 0.0011922346907768944), (1645, 0.001192188139229314), (2008, 0.0011920821913831644), (1807, 0.0011920631664899114), (1732, 0.0011920461363696395), (3002, 0.0011920441850279604), (2541, 0.0011918692529545726), (4657, 0.0011917046499946616), (2965, 0.0011916685832544778), (1453, 0.0011916234119646047), (3210, 0.0011916122483988567), (2169, 0.0011915250632995105), (2533, 0.0011914266610122742), (1446, 0.001191329086895197), (3126, 0.0011912274002372344), (2811, 0.0011911869947137529), (2899, 0.0011910555823729833), (3985, 0.0011910464933233185), (2205, 0.0011910228342153027), (264, 0.001191009857186255), (85, 0.0011909905596224817), (2786, 0.001190962384277395), (504, 0.0011908405022207622), (4399, 0.0011906845644755447), (285, 0.0011906367683552233), (1587, 0.0011904804259161978), (3994, 0.0011904121934531932), (3583, 0.001190380879591528), (3209, 0.0011903147285096734), (649, 0.0011901147080138953), (3155, 0.001190099636787191), (4231, 0.0011900081744581675), (2489, 0.001189890704033488), (3491, 0.001189843825320665), (2429, 0.0011897714685429029), (2912, 0.0011897709917526869), (1630, 0.0011897300037060044), (276, 0.0011895487110782149), (4212, 0.0011895258834878951), (1117, 0.0011895207220467266), (3122, 0.0011893199226558795), (2278, 0.0011891768765330284), (3007, 0.0011891243200286103), (4743, 0.0011888690208243938), (3879, 0.0011886873835637597), (1612, 0.0011886191987979312), (2930, 0.0011886028269066393), (3520, 0.0011885217894478301), (2031, 0.00118848334187145), (2776, 0.0011884178669897085), (4442, 0.0011883941646705174), (2970, 0.0011883327487428829), (4098, 0.0011882001394994339), (4252, 0.0011878536307874412), (4600, 0.0011878289180522472), (3045, 0.0011877176261447595), (240, 0.0011876195155969835), (1399, 0.0011870172567472698), (3068, 0.0011869937356999742), (269, 0.001186979378250429), (467, 0.0011867915141921066), (3023, 0.0011866635337886224), (3456, 0.0011866298528836845), (4615, 0.0011865871287759914), (3114, 0.0011863623142462682), (3071, 0.001186311575755619), (3937, 0.001186288556843825), (2779, 0.0011862765144398867), (1694, 0.0011862648359452748), (826, 0.001186228306847605), (3602, 0.001186168611150002), (1199, 0.001186130083791598), (877, 0.0011860144732025884), (4159, 0.0011858040998577676), (1817, 0.001185803131216802), (4056, 0.0011856867033997467), (492, 0.0011856529422312244), (1128, 0.0011856167597323693), (2826, 0.001185162582513942), (4568, 0.0011850778501259521), (1802, 0.0011850774875963005), (3067, 0.0011849906380989597), (4153, 0.0011849428225578773), (1937, 0.0011848834345389815), (1173, 0.0011848148494362214), (1125, 0.0011846908138915253), (3987, 0.0011846792471933109), (1207, 0.0011845255008017363), (4517, 0.001184487128888441), (2699, 0.001184467580465538), (2551, 0.0011841657208241452), (4622, 0.0011838540809003771), (3993, 0.0011836821156189514), (756, 0.0011835639666792081), (3590, 0.0011834872890099386), (613, 0.0011833017737824278), (2994, 0.00118297154533743), (132, 0.00118287893714228), (997, 0.001182871874915556), (378, 0.0011828517909004534), (1203, 0.0011827666435171066), (1933, 0.0011826425039646515), (3563, 0.0011824661034810647), (1707, 0.0011824120374573904), (1825, 0.0011823876839126785), (1290, 0.0011822815821691814), (2693, 0.0011820853689642398), (4109, 0.0011820361686664367), (2762, 0.0011819989620338554), (776, 0.0011817054491805902), (697, 0.0011816664327032082), (4564, 0.0011815647145763683), (1856, 0.001181552753138108), (330, 0.0011814003914714846), (704, 0.0011813326220300512), (1411, 0.0011813187972036878), (2148, 0.0011811968818265836), (2523, 0.0011811768604520266), (3328, 0.0011810304576974505), (244, 0.0011809710482534417), (1512, 0.0011809625864881755), (1945, 0.0011809152395095925), (1347, 0.0011805717995504697), (1528, 0.0011805309762642675), (3048, 0.0011803414152077895), (3434, 0.0011803118307577968), (767, 0.0011799227738557348), (4560, 0.0011796137204992977), (557, 0.0011795732681105255), (4596, 0.0011792838211970268), (1869, 0.001179200280970579), (343, 0.0011791041221699053), (2067, 0.001179079508690654), (280, 0.0011790124084163447), (2043, 0.0011788681010790956), (2981, 0.0011786638873198447), (1146, 0.001178309591543191), (1853, 0.0011782791948391977), (2992, 0.0011782397203704959), (1708, 0.0011780219578505359), (2268, 0.0011779774878639415), (1692, 0.001177954153670917), (4060, 0.001177868367881832), (1787, 0.0011778666018855458), (610, 0.0011778351395265512), (718, 0.0011777864030215206), (65, 0.0011776870131491365), (1045, 0.0011776313755939847), (2630, 0.0011775564053401614), (1012, 0.0011774332690442698), (874, 0.001177191648207289), (1526, 0.0011769283964450372), (3814, 0.0011769118018056016), (4683, 0.0011767610028865663), (2036, 0.0011767562920107508), (4727, 0.0011767260482222776), (3014, 0.0011766935914341316), (818, 0.001176677961338501), (1620, 0.0011765236078305715), (3595, 0.0011764596913871755), (4502, 0.0011761943738807063), (468, 0.0011761149346744245), (1750, 0.001176107121959383), (3658, 0.001176081577246871), (3082, 0.001176080359336477), (1354, 0.0011759550811905317), (4320, 0.001175821772927771), (4318, 0.0011756209748164624), (3731, 0.0011754761021878992), (4471, 0.0011754629202295655), (1274, 0.0011754554987015572), (1422, 0.0011752132280835827), (261, 0.001175142108901434), (1921, 0.001175042547578597), (119, 0.0011750389731724122), (163, 0.001175007138325819), (1822, 0.0011748382384062304), (3318, 0.0011747467634182509), (3978, 0.00117465689307432), (3856, 0.0011744804654724732), (983, 0.001174415255442043), (1756, 0.0011744137266377543), (3840, 0.0011743953307943504), (112, 0.0011741662628303236), (29, 0.0011740547367595198), (1346, 0.001173956369719334), (800, 0.0011737762129209026), (1066, 0.0011737300531602657), (4278, 0.0011737195666662275), (138, 0.0011737037511049735), (2057, 0.001173680008338695), (3244, 0.0011736158802916747), (1948, 0.0011735168072632039), (135, 0.0011734160478462483), (1545, 0.0011733893752214903), (4155, 0.0011733359716942433), (625, 0.00117329610002926), (3885, 0.001172751784184378), (2862, 0.0011726188768695495), (323, 0.0011725880861382118), (2985, 0.0011725829250269684), (1978, 0.001172518426374026), (400, 0.0011723053388630813), (1824, 0.0011722949714927306), (1974, 0.0011722888209434621), (2377, 0.0011720330454703474), (1709, 0.0011717113685064987), (1622, 0.0011716167503486136), (2973, 0.0011712324711501052), (2497, 0.001171043358135325), (2023, 0.0011709538545514454), (3407, 0.0011708466295813809), (1977, 0.0011707145316289663), (558, 0.0011705997190205536), (1653, 0.0011704329861534908), (1299, 0.0011703062268335579), (189, 0.0011699153881196379), (539, 0.0011698084383962976), (801, 0.0011697654269571592), (1449, 0.0011697408177581184), (1353, 0.001169719946028901), (1372, 0.001169702070335787), (3466, 0.0011696983425337555), (2119, 0.0011696768438432838), (3614, 0.0011694741838060758), (2068, 0.0011693387164683257), (2962, 0.0011693055035302614), (397, 0.0011692925368128229), (2620, 0.0011692446228074248), (2566, 0.0011691437216679072), (4428, 0.001169058488223095), (19, 0.0011689842551585005), (2534, 0.0011688869878069255), (2791, 0.0011688607128310048), (3029, 0.0011688122934160698), (1964, 0.0011687745303410855), (3513, 0.0011686745092942177), (2399, 0.001168433519746534), (412, 0.001168246466175094), (3637, 0.0011681901040706893), (2412, 0.001168140112463406), (2754, 0.001168046614376217), (1342, 0.0011678852385003196), (1137, 0.0011677724898362767), (1904, 0.001167583071042667), (158, 0.001167534869510694), (4581, 0.0011673943344636354), (2002, 0.0011673666331939658), (2446, 0.0011672410043085568), (790, 0.0011672325029727095), (1696, 0.0011671249789003903), (1530, 0.0011670827795922435), (1739, 0.0011667839904142714), (2215, 0.0011667726119199975), (2611, 0.0011666845690465274), (3641, 0.001166650696346627), (2759, 0.0011665691973358136), (3372, 0.0011664252526433017), (4614, 0.0011663821878332354), (616, 0.0011662980175546006), (1417, 0.0011661175751313576), (4000, 0.0011660979409132285), (1549, 0.001166007453286742), (799, 0.001165988629665148), (67, 0.0011659130352782124), (1388, 0.0011656795128065175), (650, 0.0011656201647501129), (24, 0.0011653180275543343), (571, 0.0011651439586096), (172, 0.0011650228869343597), (3644, 0.0011649590343087732), (2622, 0.0011648582563499284), (1685, 0.001164119082578203), (1197, 0.0011640918342090013), (4664, 0.0011639791939790536), (486, 0.0011638998962162379), (3028, 0.001163787718614622), (1728, 0.0011635939093363387), (3319, 0.0011635463759833548), (564, 0.001163473103414651), (2042, 0.0011634500605517799), (837, 0.0011632496325487572), (2524, 0.001163162702169222), (535, 0.0011630772878299129), (259, 0.0011630152451586615), (4264, 0.001162917371607558), (77, 0.0011626967553648806), (2336, 0.00116217534588611), (815, 0.0011618610612610086), (2380, 0.0011618086214570222), (4029, 0.0011617864858585517), (127, 0.0011616463661573667), (311, 0.0011615969667656816), (3622, 0.0011613015295231471), (2056, 0.0011607984088834022), (2926, 0.0011607769302164114), (4272, 0.0011606073756218393), (1631, 0.001160592835664528), (3147, 0.0011605776472688267), (1922, 0.0011604353657971012), (2954, 0.0011601108757451858), (464, 0.001160110700534742), (783, 0.0011600485657908912), (482, 0.0011599297065911763), (1743, 0.0011599106655402432), (325, 0.0011598720438504059), (556, 0.0011597365350895662), (4253, 0.0011596333134807034), (906, 0.0011595603766542371), (4180, 0.0011595329047609931), (2586, 0.0011594601975343148), (3416, 0.0011591798933953345), (13, 0.0011589613884689244), (1852, 0.0011588198823477198), (3582, 0.0011587910349782078), (4383, 0.0011587739312192975), (1823, 0.0011585946972132628), (667, 0.0011584800338996196), (1408, 0.0011584415787555297), (1147, 0.0011583729955371592), (3270, 0.0011583211165224927), (1642, 0.0011582919086175118), (3433, 0.0011581831412500892), (227, 0.0011581658321441594), (1315, 0.0011578974662019813), (4586, 0.0011578182861869657), (506, 0.001157698663684926), (3859, 0.0011573435439473018), (376, 0.0011571841953761971), (2929, 0.0011567488211577245), (1680, 0.0011564935421985176), (3932, 0.0011563522254229386), (496, 0.0011563388443445188), (171, 0.0011562816353418287), (3342, 0.0011562750178484103), (2345, 0.0011559676905425118), (3853, 0.0011559648878792335), (4419, 0.0011557037679671416), (329, 0.0011556224196277284), (3107, 0.0011555005866208112), (213, 0.0011553589900458383), (80, 0.0011553367611479366), (4069, 0.001155202022523079), (3056, 0.001155181940383749), (3881, 0.0011551118471260888), (1882, 0.0011550132441147279), (3077, 0.001154995642861956), (3432, 0.001154976321909189), (975, 0.001154916479800106), (1772, 0.0011549052452289143), (2828, 0.001154860914327598), (4357, 0.0011547079163723658), (321, 0.001154702358086637), (2692, 0.0011545731099469898), (3786, 0.0011544833201525121), (1149, 0.0011543869956447974), (4350, 0.0011542617484155114), (1746, 0.0011540578530749082), (1957, 0.0011539818001983218), (1633, 0.0011536308462322309), (2141, 0.0011534268932381932), (555, 0.0011532556933174357), (3902, 0.0011532254624955958), (3684, 0.0011531588997990292), (3426, 0.001152962848603921), (2274, 0.0011528528783053171), (2225, 0.0011528054865722866), (1287, 0.0011527656736350436), (3872, 0.001152571712311387), (2481, 0.0011525606125814068), (4689, 0.0011525508307903343), (2906, 0.0011522691080844071), (2545, 0.001152089943403665), (1034, 0.0011520838981695356), (2859, 0.0011520296740597455), (4533, 0.0011517924171328489), (3940, 0.0011517128599285971), (1819, 0.0011515984836900758), (2369, 0.0011515915169647917), (1571, 0.0011514465253220484), (2107, 0.0011511150955227135), (4310, 0.0011510209838473985), (147, 0.0011507493671476506), (3929, 0.0011507354263347626), (1303, 0.0011506042486973198), (746, 0.001150313431909619), (2294, 0.001150272907112776), (3250, 0.0011500961314279995), (1654, 0.0011499297551842624), (3860, 0.0011498926186639328), (394, 0.0011497619239400152), (4402, 0.001149755714182371), (568, 0.0011497045933910165), (2024, 0.001149499174945818), (953, 0.001149469623003003), (1567, 0.0011494135575147234), (4154, 0.0011493095997112057), (972, 0.0011493054228263165), (2942, 0.001149244072625399), (2905, 0.0011487272161968287), (2382, 0.0011485176667892045), (4354, 0.0011483314917788655), (3742, 0.0011480725605025027), (288, 0.0011480233399836627), (1742, 0.0011479095517962742), (1093, 0.001147849496215486), (3636, 0.0011477644437398135), (1838, 0.0011477573144294281), (393, 0.0011476199517299935), (4249, 0.001147457461756117), (1317, 0.0011472771398444322), (1831, 0.0011472342519261484), (2542, 0.0011471119749249918), (2679, 0.0011467169247980497), (1693, 0.0011465982008018493), (1729, 0.0011464235059553101), (2277, 0.0011459678069314135), (784, 0.0011459524904655946), (241, 0.001145743889481536), (1341, 0.0011455541968267077), (958, 0.0011455400525248029), (2213, 0.0011455358165412374), (3528, 0.001145323519366764), (3331, 0.001145212244132135), (364, 0.0011451800242210759), (2984, 0.0011451678935603762), (4309, 0.0011450653526516264), (4247, 0.0011450577704394736), (734, 0.0011449661341481029), (3767, 0.001144929768050489), (1156, 0.0011449149415290495), (3989, 0.00114450867368566), (1556, 0.0011442437669208312), (3224, 0.001144237451885847), (2338, 0.0011440632930114839), (2514, 0.0011438851619020663), (789, 0.001143775524868772), (851, 0.0011436754651368256), (1083, 0.0011436064102355945), (3021, 0.0011431696421906141), (759, 0.0011431285810498259), (4556, 0.001143080221076841), (1993, 0.001142927960763766), (2820, 0.0011428138652493586), (3974, 0.0011426507245108645), (2641, 0.0011426202871411067), (265, 0.0011426089250822183), (565, 0.0011423974450191126), (3311, 0.0011423594115550118), (2587, 0.001142246694611406), (1966, 0.0011422157285264378), (3543, 0.0011422095249738456), (2804, 0.0011420512401160688), (4366, 0.0011420371081443048), (763, 0.001141819523997443), (3698, 0.00114180878161797), (2048, 0.001141596297064468), (4670, 0.0011412042730820505), (3646, 0.0011411492481492875), (1641, 0.0011410102211540276), (234, 0.001140858534986002), (3156, 0.0011408458615471298), (1773, 0.0011407514353788662), (1917, 0.0011406913558699233), (4279, 0.0011406722829720567), (661, 0.001140639414829448), (503, 0.001140582642206281), (3568, 0.0011405493751083654), (1293, 0.0011405396313015409), (2204, 0.0011405376118427664), (639, 0.0011404755646019457), (3941, 0.0011404593858425852), (4672, 0.0011404152657932642), (4052, 0.0011403969238041693), (46, 0.0011402776998118704), (408, 0.0011398839114757412), (295, 0.0011398724566925205), (609, 0.0011395844048940151), (1671, 0.0011394612023192118), (1553, 0.0011394243808029545), (4339, 0.0011390233971035357), (4509, 0.001138777431006079), (1988, 0.0011387313421385742), (4409, 0.0011383954251355855), (2076, 0.001138373206549524), (4738, 0.0011383533211873644), (2594, 0.0011383052949322072), (1832, 0.001138213129484477), (1123, 0.0011380073126662138), (3016, 0.001137897168404902), (4059, 0.0011374578130703976), (966, 0.00113737274675261), (93, 0.001136695234839121), (2323, 0.0011365868646414795), (2071, 0.0011365642314934202), (1649, 0.001136373816926757), (1367, 0.0011362470549643015), (3589, 0.0011360564597408353), (3664, 0.0011359798286521968), (1068, 0.001135971337188234), (4536, 0.001135905852237146), (2129, 0.001135861709874439), (562, 0.0011358479276927626), (3691, 0.0011357536264213974), (9, 0.0011355055755644411), (786, 0.0011353490474880583), (411, 0.0011352664486885958), (1035, 0.0011349165049212603), (1462, 0.0011349014419962285), (812, 0.0011348976673629647), (1764, 0.0011348261540563092), (223, 0.0011348103583341351), (3567, 0.0011347898436738196), (2386, 0.0011347638410118366), (733, 0.0011346746363374203), (338, 0.0011344597337994136), (944, 0.0011344415155537355), (3707, 0.0011342955269856962), (1639, 0.0011341817327598879), (785, 0.0011341187860030948), (3293, 0.0011340037780436032), (4234, 0.001133709185346589), (4290, 0.0011333675865117883), (106, 0.0011333408410954407), (4071, 0.0011332818225042527), (2866, 0.0011330762196713887), (2347, 0.0011329503615609676), (4437, 0.0011329497197719374), (886, 0.0011326660734901186), (593, 0.0011323192390446735), (3368, 0.0011323125980062022), (618, 0.0011319700695806441), (36, 0.0011317136296410686), (974, 0.0011314943000643332), (372, 0.0011312148378540686), (333, 0.001130934160130222), (2902, 0.0011307725119008047), (4591, 0.0011305544761570949), (4053, 0.0011303479609020535), (4257, 0.001130227759483081), (273, 0.0011299675630034448), (827, 0.0011298163407267912), (1360, 0.0011296791538825482), (2064, 0.001129656291192418), (3733, 0.0011293680794077984), (4274, 0.0011293431227030748), (90, 0.0011291300725675558), (2174, 0.0011291132043168325), (4504, 0.001128945374019479), (25, 0.0011289259013975682), (1797, 0.001128914132458931), (3570, 0.0011287149647761791), (471, 0.0011286931464765172), (1721, 0.0011284978940558775), (449, 0.0011284305537332068), (893, 0.0011278398838553728), (129, 0.001127706337152683), (1624, 0.0011275980281202057), (52, 0.0011275224007481865), (3676, 0.0011273082081894466), (3576, 0.001126895674741002), (1210, 0.001126660967320721), (1214, 0.0011263517547195165), (3300, 0.001126167981566285), (3738, 0.0011260443277748785), (2270, 0.0011259643771372363), (2482, 0.0011259290191683914), (2950, 0.0011258922940853946), (4588, 0.001125871248369153), (608, 0.0011255048718783625), (251, 0.001125037270277673), (4063, 0.0011248532716590434), (134, 0.0011248161827050972), (4217, 0.0011239519909031338), (3215, 0.0011236270007824803), (3668, 0.0011234699520909633), (1990, 0.0011231841815433907), (97, 0.0011230935552898583), (2955, 0.0011224950583608498), (4143, 0.0011221515811960419), (1635, 0.0011220214239840336), (33, 0.0011218377055327309), (2065, 0.0011216937648955599), (1186, 0.0011212228299100617), (1190, 0.0011211099031746873), (3195, 0.0011211069780502506), (692, 0.0011209905511046572), (4205, 0.001120820315144796), (200, 0.0011203028927427134), (4585, 0.0011202765856434458), (2206, 0.0011202444139426886), (3917, 0.001120237911816026), (3075, 0.0011197076780988134), (2991, 0.001119588763934511), (1677, 0.0011195809069029468), (2285, 0.0011195523391331244), (921, 0.0011195154308980756), (3495, 0.0011192862967567803), (1211, 0.0011184296835220315), (1457, 0.0011183806459380212), (1914, 0.00111831580598657), (1283, 0.0011180482081184938), (113, 0.0011179983842848672), (866, 0.0011179588751274313), (2344, 0.0011178328000285506), (2149, 0.0011174669950270567), (3542, 0.0011173185025866233), (191, 0.0011170444471442604), (3245, 0.0011168484275439854), (1221, 0.0011168198025534363), (4543, 0.0011165282754462028), (3723, 0.0011162520317678196), (1259, 0.001116127142794081), (4328, 0.0011158832055068295), (3842, 0.0011157860315164116), (2114, 0.0011157857229728133), (3819, 0.001115722491055723), (2934, 0.0011157120920816366), (1665, 0.0011146633304787263), (3279, 0.0011144962723070191), (2431, 0.0011144335414839173), (2348, 0.0011143484271009358), (943, 0.0011140437951050034), (76, 0.0011140072775149739), (4322, 0.0011137991926692158), (1752, 0.0011135773702140935), (4690, 0.001112911783519375), (3887, 0.0011128590021844537), (3113, 0.0011120834748370194), (617, 0.001111876140077923), (1032, 0.0011118268729185736), (4441, 0.0011118050670581418), (3006, 0.0011111896198234062), (268, 0.00111080973448574), (4391, 0.0011103036738528917), (435, 0.001110129171938922), (294, 0.0011100941703285053), (1595, 0.0011097133396231716), (1730, 0.0011095828864107658), (2777, 0.0011094493371056502), (3609, 0.0011094357361467024), (1796, 0.001109251089262964), (1340, 0.0011091241828739284), (3327, 0.001108869133014365), (3418, 0.0011086710813318014), (1795, 0.0011082776685436492), (2139, 0.0011081774112042663), (469, 0.0011080150981696805), (775, 0.0011076562145839453), (3720, 0.0011074555398923821), (60, 0.0011072489972859644), (4165, 0.001106605516453195), (3278, 0.0011066002095161734), (545, 0.0011065209911896524), (1686, 0.0011064917416686855), (94, 0.001106188351845604), (1136, 0.0011061183118837457), (1982, 0.0011059610653632534), (1558, 0.00110574422775245), (2943, 0.001105461838212354), (82, 0.001105289394001598), (3559, 0.001105214042794474), (2823, 0.0011049836860558347), (2496, 0.0011047480527094226), (566, 0.0011046985759780642), (2935, 0.0011046179216787774), (248, 0.0011045761718469875), (1493, 0.0011043551680556113), (92, 0.00110432428516882), (2538, 0.0011042843143952567), (4620, 0.0011041110640902217), (1115, 0.001104053930202003), (598, 0.0011039492935766156), (3338, 0.001103663784816878), (515, 0.0011034329197836276), (3295, 0.0011033446864915906), (2827, 0.0011029172664683675), (3876, 0.0011029079655128157), (357, 0.001102704379306587), (1514, 0.001102576169266564), (3135, 0.0011025522133989926), (3727, 0.0011022632992059144), (2548, 0.0011021467033348474), (359, 0.0011021188893075699), (3480, 0.0011020955054285339), (4468, 0.0011020797128252202), (3405, 0.0011013836977108), (907, 0.0011013167118595845), (4156, 0.0011010219637834723), (116, 0.0011008017054856465), (3280, 0.0011004982943265181), (1448, 0.0011004669591775345), (2578, 0.0011004527059691937), (1444, 0.0011003081502937695), (414, 0.0011002304497810826), (4525, 0.001100173269511089), (2366, 0.0011000369161780026), (2471, 0.001099902803093782), (319, 0.0010994326628016003), (1801, 0.0010991910182775193), (604, 0.0010984615903270611), (2876, 0.0010984483023332844), (2526, 0.001098300818361317), (1900, 0.0010982297352053723), (1200, 0.001097801781337949), (133, 0.0010975913044180268), (1651, 0.0010971158242801802), (1331, 0.0010970680750950076), (4438, 0.0010969094262695332), (538, 0.0010965376606752938), (1181, 0.0010962171347422055), (1559, 0.0010959705526542155), (4220, 0.001095814349795899), (3957, 0.0010951658615380754), (382, 0.0010951481502485098), (438, 0.0010950351414269032), (174, 0.0010947784514483065), (1177, 0.0010944453101185542), (3954, 0.0010943236928117799), (1249, 0.0010940066308662913), (3827, 0.0010938070875480207), (1273, 0.0010931733756672014), (648, 0.0010928109895856875), (3821, 0.0010921895992532015), (2621, 0.001092148840608086), (4305, 0.0010918101952433722), (828, 0.0010915320789241156), (4476, 0.0010911639430794232), (668, 0.001091153378144931), (3333, 0.001091141278286823), (2256, 0.0010908496633213437), (1055, 0.0010906202406796384), (3465, 0.0010904392510921092), (316, 0.0010901282083491959), (2432, 0.0010899124992984784), (3105, 0.0010894864225556098), (3788, 0.0010893964358996574), (2132, 0.0010893539977462855), (796, 0.0010889421285193816), (3100, 0.001088578315477687), (898, 0.0010884403443027298), (1135, 0.0010880027158430127), (1989, 0.0010872011083777283), (1672, 0.0010860714646823075), (2163, 0.001085452474389626), (1213, 0.0010848679637074157), (260, 0.0010842023286521158), (770, 0.0010832039841101556), (416, 0.0010828274537359494), (3909, 0.0010826140269917413), (2457, 0.0010825182295779846), (4450, 0.0010824073305852311), (130, 0.0010821828978466984), (195, 0.0010821752822175288), (3700, 0.001081920093937093), (3320, 0.0010816410963001872), (963, 0.00108146086023774), (1519, 0.0010813275541704205), (3953, 0.0010811785358022781), (2961, 0.0010805033388496135), (108, 0.0010803055657717011), (1605, 0.0010803019882474716), (4044, 0.0010800700841287175), (4513, 0.0010798047989911848), (2607, 0.001079740034981194), (1899, 0.0010795888689370562), (3801, 0.001079062284827861), (75, 0.0010787765075255887), (2761, 0.0010784217947189538), (290, 0.0010781751815222066), (3916, 0.001078123690374816), (1086, 0.00107796425430772), (4235, 0.0010777269580919209), (4638, 0.0010774703411280432), (1000, 0.0010774213182359455), (3693, 0.0010773925461504369), (3093, 0.0010770035627788311), (2747, 0.001076923904269914), (1471, 0.0010758937467345486), (3247, 0.0010757105683350606), (2608, 0.0010756992085307754), (2736, 0.0010749805585409042), (3619, 0.0010747907718450652), (970, 0.0010745337848835949), (2917, 0.0010743915464244615), (3725, 0.0010740509157222138), (88, 0.0010740148526253938), (99, 0.0010738778846382155), (4193, 0.0010737119273171863), (4577, 0.0010733309563391552), (2110, 0.0010727279508401264), (2871, 0.0010723253232978924), (1414, 0.0010721058202145016), (4236, 0.0010720775685565764), (442, 0.0010703385053372056), (4080, 0.0010700020391784205), (2842, 0.0010699314250721273), (417, 0.0010694144933557073), (3836, 0.0010688830208574088), (3966, 0.0010688586416801168), (2805, 0.0010688190776096179), (1994, 0.0010678811441895484), (387, 0.0010673732577319282), (3099, 0.00106705008247831), (3795, 0.0010666553687815902), (3160, 0.001065853983411769), (487, 0.0010658437206788368), (314, 0.0010656546660105764), (2279, 0.0010653636030708996), (1657, 0.0010653421209875405), (4353, 0.0010652853769441118), (2439, 0.0010645439365602931), (3222, 0.0010644559936182978), (3598, 0.0010640108530108106), (4661, 0.001063769964657371), (1369, 0.001063530955211257), (4610, 0.0010631285069880262), (942, 0.0010627347438974192), (3452, 0.0010624470103022903), (1316, 0.0010623805230345715), (3900, 0.0010616877052219984), (1763, 0.0010614209614651267), (4667, 0.0010613892803896516), (1020, 0.0010613223194674848), (3035, 0.00106106910161361), (4748, 0.0010609065477687996), (3854, 0.0010606954668796896), (3411, 0.0010606904382870553), (1934, 0.001060282695036924), (2596, 0.0010601006188205666), (3880, 0.0010600817220855988), (2318, 0.0010598737196845787), (1312, 0.0010589875521680697), (2220, 0.0010581368379349234), (1809, 0.0010560342206320402), (3309, 0.001055192657219857), (1781, 0.0010547415402157785), (862, 0.001053958962144656), (1747, 0.0010529383682401645), (4141, 0.001052724198435443), (3630, 0.0010526533671979738), (979, 0.0010521823866140323), (4385, 0.0010519559359707326), (403, 0.0010517783804608034), (2801, 0.0010513434529637402), (1194, 0.0010499748457859133), (3304, 0.0010491200648372453), (3667, 0.0010490806176090448), (4652, 0.0010485327359396994), (3958, 0.0010478281096102191), (2287, 0.0010477307826599284), (964, 0.001047257740424665), (722, 0.001046393720023173), (3200, 0.0010460943897248759), (2627, 0.0010459494377260707), (4498, 0.0010454871516772815), (78, 0.001045187176279284), (941, 0.0010450050266880718), (924, 0.001043769711087683), (2774, 0.0010425527804853462), (4373, 0.0010419476348228823), (903, 0.0010419331196551793), (4261, 0.0010411917537203616), (1980, 0.0010409415506254579), (3362, 0.0010408376348224663), (4532, 0.0010402620078947488), (3983, 0.0010401945445429465), (829, 0.0010393294919942902), (710, 0.001037692184374979), (505, 0.0010372616417265905), (2093, 0.001035342325094386), (1153, 0.0010345009862903485), (3538, 0.0010338873791964872), (1565, 0.0010335445968706026), (4636, 0.001033492081463076), (194, 0.0010324818767437154), (4679, 0.0010304519357898156), (3231, 0.001030103496101178), (2767, 0.0010285495940577667), (4035, 0.0010281772200104976), (3657, 0.0010277769252021107), (2573, 0.001024258851844229), (707, 0.0010241017610087225), (1065, 0.0010232488151802068), (1699, 0.0010203014713359203), (3732, 0.0010189265787189882), (1434, 0.0010187359176774492), (4095, 0.0010150913510690038), (4473, 0.0010123189119900379), (2735, 0.0010121656979953212), (3895, 0.0010117869046505253), (3575, 0.0010114783642510567), (4072, 0.0010111276975434005), (1628, 0.0010106656067846176), (336, 0.0010106579621710864), (4018, 0.001010534326097328), (3050, 0.0010085605697805324), (452, 0.001008404233155751), (2240, 0.0010072308956420735), (2020, 0.0010070978662366004), (575, 0.0010052660491808006), (1648, 0.0010030287353031556), (1377, 0.0010026641126300697), (2686, 0.0010012407052587668), (1395, 0.001000782012069067), (3525, 0.0009974256821910661), (951, 0.0009970994239179517), (2227, 0.0009970188427283675), (2355, 0.0009957147709421907), (2248, 0.0009955906728575151), (816, 0.000995386108883217), (1078, 0.0009941697382780939), (4674, 0.0009939843492780482), (3674, 0.0009933548681426735), (289, 0.000990277696423595), (4608, 0.0009893352603661462), (3205, 0.0009840045989609224), (1938, 0.0009835050744776584), (1535, 0.0009808694962424004), (3548, 0.000977959838696785), (1042, 0.0009734091659626714), (1289, 0.0009731183404741252), (1418, 0.0009699149399129262), (4745, 0.0009687458330653163), (4445, 0.0009656684762220639), (1164, 0.000965576174932139), (4386, 0.000962398390140559), (4415, 0.0009607779535750616), (3546, 0.0009468687389110986), (3713, 0.0009405365684790199), (4414, 0.0009393066007510378), (3750, 0.0009327825498320471), (2469, 0.0009296366041331622), (3944, 0.0009253912902675562), (3152, 0.0009242374091093279), (1277, 0.0009166430268036436), (2013, 0.0009140846594740281), (1415, 0.0009137427739330363), (3928, 0.0008937692836793445), (3301, 0.0008731500175923883), (929, 0.0008438379782539718), (3429, 0.0008370141756379677), (7, 0.0), (16, 0.0), (32, 0.0), (44, 0.0), (63, 0.0), (103, 0.0), (155, 0.0), (156, 0.0), (157, 0.0), (159, 0.0), (165, 0.0), (168, 0.0), (186, 0.0), (190, 0.0), (197, 0.0), (202, 0.0), (224, 0.0), (243, 0.0), (252, 0.0), (256, 0.0), (267, 0.0), (293, 0.0), (296, 0.0), (396, 0.0), (453, 0.0), (475, 0.0), (480, 0.0), (495, 0.0), (510, 0.0), (547, 0.0), (559, 0.0), (632, 0.0), (644, 0.0), (645, 0.0), (647, 0.0), (672, 0.0), (761, 0.0), (766, 0.0), (779, 0.0), (838, 0.0), (861, 0.0), (917, 0.0), (933, 0.0), (968, 0.0), (986, 0.0), (1005, 0.0), (1019, 0.0), (1030, 0.0), (1037, 0.0), (1070, 0.0), (1081, 0.0), (1098, 0.0), (1160, 0.0), (1183, 0.0), (1201, 0.0), (1209, 0.0), (1215, 0.0), (1320, 0.0), (1350, 0.0), (1546, 0.0), (1547, 0.0), (1623, 0.0), (1627, 0.0), (1652, 0.0), (1735, 0.0), (1745, 0.0), (1749, 0.0), (1753, 0.0), (1826, 0.0), (1884, 0.0), (1892, 0.0), (1972, 0.0), (2010, 0.0), (2011, 0.0), (2018, 0.0), (2025, 0.0), (2034, 0.0), (2063, 0.0), (2080, 0.0), (2120, 0.0), (2127, 0.0), (2146, 0.0), (2152, 0.0), (2173, 0.0), (2226, 0.0), (2237, 0.0), (2238, 0.0), (2275, 0.0), (2288, 0.0), (2289, 0.0), (2326, 0.0), (2361, 0.0), (2362, 0.0), (2373, 0.0), (2394, 0.0), (2401, 0.0), (2424, 0.0), (2426, 0.0), (2475, 0.0), (2506, 0.0), (2520, 0.0), (2556, 0.0), (2602, 0.0), (2660, 0.0), (2674, 0.0), (2697, 0.0), (2743, 0.0), (2748, 0.0), (2849, 0.0), (2886, 0.0), (2900, 0.0), (2933, 0.0), (2946, 0.0), (2971, 0.0), (2997, 0.0), (3012, 0.0), (3024, 0.0), (3037, 0.0), (3038, 0.0), (3057, 0.0), (3059, 0.0), (3062, 0.0), (3070, 0.0), (3079, 0.0), (3118, 0.0), (3170, 0.0), (3171, 0.0), (3199, 0.0), (3214, 0.0), (3248, 0.0), (3254, 0.0), (3258, 0.0), (3268, 0.0), (3274, 0.0), (3285, 0.0), (3296, 0.0), (3340, 0.0), (3347, 0.0), (3349, 0.0), (3365, 0.0), (3374, 0.0), (3383, 0.0), (3394, 0.0), (3399, 0.0), (3409, 0.0), (3431, 0.0), (3455, 0.0), (3500, 0.0), (3527, 0.0), (3530, 0.0), (3534, 0.0), (3553, 0.0), (3558, 0.0), (3579, 0.0), (3608, 0.0), (3625, 0.0), (3629, 0.0), (3634, 0.0), (3645, 0.0), (3651, 0.0), (3652, 0.0), (3669, 0.0), (3719, 0.0), (3721, 0.0), (3755, 0.0), (3761, 0.0), (3799, 0.0), (3800, 0.0), (3806, 0.0), (3898, 0.0), (3904, 0.0), (3927, 0.0), (3933, 0.0), (3946, 0.0), (3952, 0.0), (4014, 0.0), (4057, 0.0), (4079, 0.0), (4084, 0.0), (4129, 0.0), (4151, 0.0), (4171, 0.0), (4213, 0.0), (4228, 0.0), (4229, 0.0), (4232, 0.0), (4243, 0.0), (4254, 0.0), (4288, 0.0), (4292, 0.0), (4296, 0.0), (4301, 0.0), (4304, 0.0), (4308, 0.0), (4311, 0.0), (4315, 0.0), (4326, 0.0), (4343, 0.0), (4390, 0.0), (4393, 0.0), (4413, 0.0), (4429, 0.0), (4434, 0.0), (4439, 0.0), (4458, 0.0), (4461, 0.0), (4463, 0.0), (4475, 0.0), (4512, 0.0), (4520, 0.0), (4528, 0.0), (4553, 0.0), (4561, 0.0), (4565, 0.0), (4573, 0.0), (4589, 0.0), (4593, 0.0), (4603, 0.0), (4626, 0.0), (4631, 0.0), (4643, 0.0), (4651, 0.0), (4668, 0.0), (4693, 0.0), (4712, 0.0), (4713, 0.0), (4723, 0.0), (4729, 0.0), (4733, 0.0), (4734, 0.0), (4742, 0.0), (4744, 0.0), (4751, 0.0), (4752, 0.0)]\n"
          ]
        }
      ]
    },
    {
      "cell_type": "code",
      "source": [
        "print('Top 10 Movies You May Like \\n')\n",
        "i=1\n",
        "for amovie in sorted_similar_movies:\n",
        "  index=amovie[0]\n",
        "  title=movie[movie.index==index]['Movie_Title'].values[0]\n",
        "  if(i<11):\n",
        "    print(i,'.',title)\n",
        "    i+=1"
      ],
      "metadata": {
        "colab": {
          "base_uri": "https://localhost:8080/"
        },
        "id": "-3vJT9mETrs7",
        "outputId": "79780244-f96b-422b-9f55-4226b3e72049"
      },
      "execution_count": 58,
      "outputs": [
        {
          "output_type": "stream",
          "name": "stdout",
          "text": [
            "Top 10 Movies You May Like \n",
            "\n",
            "1 . Finding Nemo\n",
            "2 . John Carter\n",
            "3 . The Muse\n",
            "4 . Big Fish\n",
            "5 . Death Sentence\n",
            "6 . The Last Temptation of Christ\n",
            "7 . WALL·E\n",
            "8 . Silent Movie\n",
            "9 . Flight of the Intruder\n",
            "10 . Dear Frankie\n"
          ]
        }
      ]
    },
    {
      "cell_type": "code",
      "source": [],
      "metadata": {
        "id": "mIy__zxJTrwt"
      },
      "execution_count": null,
      "outputs": []
    },
    {
      "cell_type": "code",
      "source": [],
      "metadata": {
        "id": "IdogGO4VTr0L"
      },
      "execution_count": null,
      "outputs": []
    }
  ]
}